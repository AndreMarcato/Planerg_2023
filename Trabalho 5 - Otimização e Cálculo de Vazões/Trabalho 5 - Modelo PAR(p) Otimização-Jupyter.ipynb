{
 "cells": [
  {
   "cell_type": "markdown",
   "metadata": {},
   "source": [
    "# **Trabalho 5 - Modelo PAR(p) Otimização**\n",
    "\n",
    "Aluno $\\hspace{0.3cm}$ : **João Vitor Assis**\n",
    "\n",
    "Matrícula: 120100007"
   ]
  },
  {
   "cell_type": "markdown",
   "metadata": {},
   "source": [
    "# 1) Importando os Dados do Newave:"
   ]
  },
  {
   "cell_type": "markdown",
   "metadata": {},
   "source": [
    "## 1.1) Instalando a Biblioteca PySDDP, Versão 0.0.39"
   ]
  },
  {
   "cell_type": "code",
   "execution_count": 1,
   "metadata": {},
   "outputs": [
    {
     "name": "stdout",
     "output_type": "stream",
     "text": [
      "Note: you may need to restart the kernel to use updated packages.Collecting PySDDP==0.0.39\n",
      "  Using cached PySDDP-0.0.39-py3-none-any.whl (191 kB)\n",
      "Requirement already satisfied: numpy in c:\\users\\usuario\\anaconda3\\lib\\site-packages (from PySDDP==0.0.39) (1.23.5)\n",
      "Requirement already satisfied: matplotlib in c:\\users\\usuario\\anaconda3\\lib\\site-packages (from PySDDP==0.0.39) (3.7.0)\n",
      "Requirement already satisfied: cvxopt in c:\\users\\usuario\\anaconda3\\lib\\site-packages (from PySDDP==0.0.39) (1.3.2)\n",
      "Requirement already satisfied: pyswarm in c:\\users\\usuario\\anaconda3\\lib\\site-packages (from PySDDP==0.0.39) (0.6)\n",
      "Requirement already satisfied: scipy in c:\\users\\usuario\\anaconda3\\lib\\site-packages (from PySDDP==0.0.39) (1.10.0)\n",
      "Requirement already satisfied: typing in c:\\users\\usuario\\anaconda3\\lib\\site-packages (from PySDDP==0.0.39) (3.7.4.3)\n",
      "Requirement already satisfied: pandas in c:\\users\\usuario\\anaconda3\\lib\\site-packages (from PySDDP==0.0.39) (1.5.3)\n",
      "Requirement already satisfied: contourpy>=1.0.1 in c:\\users\\usuario\\anaconda3\\lib\\site-packages (from matplotlib->PySDDP==0.0.39) (1.0.5)\n",
      "Requirement already satisfied: cycler>=0.10 in c:\\users\\usuario\\anaconda3\\lib\\site-packages (from matplotlib->PySDDP==0.0.39) (0.11.0)\n",
      "Requirement already satisfied: fonttools>=4.22.0 in c:\\users\\usuario\\anaconda3\\lib\\site-packages (from matplotlib->PySDDP==0.0.39) (4.25.0)\n",
      "Requirement already satisfied: kiwisolver>=1.0.1 in c:\\users\\usuario\\anaconda3\\lib\\site-packages (from matplotlib->PySDDP==0.0.39) (1.4.4)\n",
      "Requirement already satisfied: packaging>=20.0 in c:\\users\\usuario\\anaconda3\\lib\\site-packages (from matplotlib->PySDDP==0.0.39) (22.0)\n",
      "Requirement already satisfied: pillow>=6.2.0 in c:\\users\\usuario\\anaconda3\\lib\\site-packages (from matplotlib->PySDDP==0.0.39) (9.4.0)\n",
      "Requirement already satisfied: pyparsing>=2.3.1 in c:\\users\\usuario\\anaconda3\\lib\\site-packages (from matplotlib->PySDDP==0.0.39) (3.0.9)\n",
      "Requirement already satisfied: python-dateutil>=2.7 in c:\\users\\usuario\\anaconda3\\lib\\site-packages (from matplotlib->PySDDP==0.0.39) (2.8.2)\n",
      "Requirement already satisfied: pytz>=2020.1 in c:\\users\\usuario\\anaconda3\\lib\\site-packages (from pandas->PySDDP==0.0.39) (2022.7)\n",
      "Requirement already satisfied: six>=1.5 in c:\\users\\usuario\\anaconda3\\lib\\site-packages (from python-dateutil>=2.7->matplotlib->PySDDP==0.0.39) (1.16.0)\n",
      "Installing collected packages: PySDDP\n",
      "  Attempting uninstall: PySDDP\n",
      "    Found existing installation: PySDDP 0.0.35\n",
      "    Uninstalling PySDDP-0.0.35:\n",
      "      Successfully uninstalled PySDDP-0.0.35\n",
      "Successfully installed PySDDP-0.0.39\n",
      "\n"
     ]
    }
   ],
   "source": [
    "%pip install PySDDP==0.0.39"
   ]
  },
  {
   "cell_type": "markdown",
   "metadata": {},
   "source": [
    "## 1.2) Importando os dados da pasta do Computador"
   ]
  },
  {
   "cell_type": "code",
   "execution_count": 2,
   "metadata": {},
   "outputs": [
    {
     "name": "stdout",
     "output_type": "stream",
     "text": [
      "G:\\Meu Drive\\NewaveJul2023\\ree.dat\n",
      "G:\\Meu Drive\\NewaveJul2023\\arquivos.dat\n",
      "G:\\Meu Drive\\NewaveJul2023\\dger.dat\n",
      "G:\\Meu Drive\\NewaveJul2023\\modif.dat\n",
      "G:\\Meu Drive\\NewaveJul2023\\exph.dat\n",
      "G:\\Meu Drive\\NewaveJul2023\\sistema.dat\n",
      "G:\\Meu Drive\\NewaveJul2023\\CASO.DAT\n",
      "G:\\Meu Drive\\NewaveJul2023\\HIDR.DAT\n",
      "G:\\Meu Drive\\NewaveJul2023\\VAZOES.DAT\n",
      "G:\\Meu Drive\\NewaveJul2023\\confhd.dat\n"
     ]
    }
   ],
   "source": [
    "import os\n",
    "import glob\n",
    "\n",
    "caminho_da_pasta = 'G:\\\\Meu Drive\\\\NewaveJul2023' # Define o caminho para a pasta do Google Drive no computador.\n",
    "\n",
    "arquivos_dat = glob.glob(os.path.join(caminho_da_pasta, '*.dat')) # Lista os arquivos na pasta com a extensão .dat usando a função glob\n",
    "\n",
    "for arquivo in arquivos_dat: # Loop para ler cada arquivo .dat e imprimir seu conteúdo\n",
    "    with open(arquivo, 'r') as f:\n",
    "        #conteudo = f.read()\n",
    "        print(arquivo)"
   ]
  },
  {
   "cell_type": "markdown",
   "metadata": {},
   "source": [
    "## 1.3) Importando bibliotecas Importantes"
   ]
  },
  {
   "cell_type": "code",
   "execution_count": 3,
   "metadata": {},
   "outputs": [],
   "source": [
    "from PySDDP.Pen import Newave        # Importa a classe Newave do PySDDP.\n",
    "import numpy as np                   # Importa a Biblioteca Numpy.\n",
    "import plotly.graph_objects as go    # Importa a bilbioteca Plotly.\n",
    "from matplotlib import pyplot as plt # Importa a biblioteca matplotlib.\n",
    "from random import randint           # Importa a classe randint da biblioteca random.\n",
    "import pandas as pd                  # Importa a biblioteca pandas."
   ]
  },
  {
   "cell_type": "markdown",
   "metadata": {},
   "source": [
    "## 1.4) Lendo o Caso do Newave"
   ]
  },
  {
   "cell_type": "code",
   "execution_count": 4,
   "metadata": {},
   "outputs": [
    {
     "name": "stdout",
     "output_type": "stream",
     "text": [
      "OK! Leitura do CASO.DAT realizada com sucesso.\n",
      "OK! Leitura do arquivos.dat realizada com sucesso.\n",
      "OK! Leitura do dger.dat realizada com sucesso.\n",
      "OK! Leitura do HIDR.DAT realizada com sucesso.\n",
      "OK! Leitura do VAZOES.DAT realizada com sucesso.\n",
      "OK! Leitura do modif.dat realizada com sucesso. ( 99 Usinas Hidraulicas Modificadas )\n",
      "OK! Leitura do exph.dat realizada com sucesso. ( 2 Usinas Hidraulicas Expandidas )\n",
      "OK! Leitura do confhd.dat realizada com sucesso.\n",
      "OK! Leitura do ree.dat realizada com sucesso. ( 12 Reservatórios Equivalentes de Energia Foram Lidos )\n",
      "OK! Leitura do sistema.dat realizada com sucesso.\n"
     ]
    }
   ],
   "source": [
    "# Lendo o Caso para os dados do Newave de Julho de 2023.\n",
    "\n",
    "Caminho = 'G:\\\\Meu Drive\\\\NewaveJul2023'\n",
    "Caso = Newave(Caminho) #Cria objeto com caso Completo."
   ]
  },
  {
   "cell_type": "markdown",
   "metadata": {},
   "source": [
    "# 2) Escolha da Usina para o Estudo:"
   ]
  },
  {
   "cell_type": "markdown",
   "metadata": {},
   "source": [
    "## 2.1) Usinas em operação para Estudo:"
   ]
  },
  {
   "cell_type": "code",
   "execution_count": 5,
   "metadata": {},
   "outputs": [
    {
     "data": {
      "text/html": [
       "<div>\n",
       "<style scoped>\n",
       "    .dataframe tbody tr th:only-of-type {\n",
       "        vertical-align: middle;\n",
       "    }\n",
       "\n",
       "    .dataframe tbody tr th {\n",
       "        vertical-align: top;\n",
       "    }\n",
       "\n",
       "    .dataframe thead th {\n",
       "        text-align: right;\n",
       "    }\n",
       "</style>\n",
       "<table border=\"1\" class=\"dataframe\">\n",
       "  <thead>\n",
       "    <tr style=\"text-align: right;\">\n",
       "      <th></th>\n",
       "      <th>Nome da UHE</th>\n",
       "    </tr>\n",
       "  </thead>\n",
       "  <tbody>\n",
       "    <tr>\n",
       "      <th>0</th>\n",
       "      <td>FUNIL-GRANDE</td>\n",
       "    </tr>\n",
       "    <tr>\n",
       "      <th>1</th>\n",
       "      <td>BATALHA</td>\n",
       "    </tr>\n",
       "    <tr>\n",
       "      <th>2</th>\n",
       "      <td>SERRA FACAO</td>\n",
       "    </tr>\n",
       "    <tr>\n",
       "      <th>3</th>\n",
       "      <td>CAPIM BRANC1</td>\n",
       "    </tr>\n",
       "    <tr>\n",
       "      <th>4</th>\n",
       "      <td>CAPIM BRANC2</td>\n",
       "    </tr>\n",
       "    <tr>\n",
       "      <th>5</th>\n",
       "      <td>CORUMBA IV</td>\n",
       "    </tr>\n",
       "    <tr>\n",
       "      <th>6</th>\n",
       "      <td>PIRAJU</td>\n",
       "    </tr>\n",
       "    <tr>\n",
       "      <th>7</th>\n",
       "      <td>ITAIPU</td>\n",
       "    </tr>\n",
       "    <tr>\n",
       "      <th>8</th>\n",
       "      <td>NILO PECANHA</td>\n",
       "    </tr>\n",
       "    <tr>\n",
       "      <th>9</th>\n",
       "      <td>FONTES</td>\n",
       "    </tr>\n",
       "    <tr>\n",
       "      <th>10</th>\n",
       "      <td>BAGUARI</td>\n",
       "    </tr>\n",
       "    <tr>\n",
       "      <th>11</th>\n",
       "      <td>SAO DOMINGOS</td>\n",
       "    </tr>\n",
       "    <tr>\n",
       "      <th>12</th>\n",
       "      <td>RETIRO BAIXO</td>\n",
       "    </tr>\n",
       "    <tr>\n",
       "      <th>13</th>\n",
       "      <td>TRES MARIAS</td>\n",
       "    </tr>\n",
       "    <tr>\n",
       "      <th>14</th>\n",
       "      <td>QUEIMADO</td>\n",
       "    </tr>\n",
       "    <tr>\n",
       "      <th>15</th>\n",
       "      <td>JAURU</td>\n",
       "    </tr>\n",
       "    <tr>\n",
       "      <th>16</th>\n",
       "      <td>GUAPORE</td>\n",
       "    </tr>\n",
       "    <tr>\n",
       "      <th>17</th>\n",
       "      <td>CORUMBA III</td>\n",
       "    </tr>\n",
       "    <tr>\n",
       "      <th>18</th>\n",
       "      <td>SINOP</td>\n",
       "    </tr>\n",
       "    <tr>\n",
       "      <th>19</th>\n",
       "      <td>COLIDER</td>\n",
       "    </tr>\n",
       "    <tr>\n",
       "      <th>20</th>\n",
       "      <td>TELES PIRES</td>\n",
       "    </tr>\n",
       "    <tr>\n",
       "      <th>21</th>\n",
       "      <td>SAO MANOEL</td>\n",
       "    </tr>\n",
       "    <tr>\n",
       "      <th>22</th>\n",
       "      <td>SLT VERDINHO</td>\n",
       "    </tr>\n",
       "    <tr>\n",
       "      <th>23</th>\n",
       "      <td>OURINHOS</td>\n",
       "    </tr>\n",
       "    <tr>\n",
       "      <th>24</th>\n",
       "      <td>SERRA MESA</td>\n",
       "    </tr>\n",
       "    <tr>\n",
       "      <th>25</th>\n",
       "      <td>CANA BRAVA</td>\n",
       "    </tr>\n",
       "    <tr>\n",
       "      <th>26</th>\n",
       "      <td>SAO SALVADOR</td>\n",
       "    </tr>\n",
       "    <tr>\n",
       "      <th>27</th>\n",
       "      <td>PEIXE ANGIC</td>\n",
       "    </tr>\n",
       "    <tr>\n",
       "      <th>28</th>\n",
       "      <td>ESTRELA</td>\n",
       "    </tr>\n",
       "    <tr>\n",
       "      <th>29</th>\n",
       "      <td>LAJEADO</td>\n",
       "    </tr>\n",
       "    <tr>\n",
       "      <th>30</th>\n",
       "      <td>SALTO</td>\n",
       "    </tr>\n",
       "    <tr>\n",
       "      <th>31</th>\n",
       "      <td>RONDON II</td>\n",
       "    </tr>\n",
       "    <tr>\n",
       "      <th>32</th>\n",
       "      <td>PONTE PEDRA</td>\n",
       "    </tr>\n",
       "    <tr>\n",
       "      <th>33</th>\n",
       "      <td>JIRAU</td>\n",
       "    </tr>\n",
       "    <tr>\n",
       "      <th>34</th>\n",
       "      <td>STO ANTONIO</td>\n",
       "    </tr>\n",
       "    <tr>\n",
       "      <th>35</th>\n",
       "      <td>ESPORA</td>\n",
       "    </tr>\n",
       "    <tr>\n",
       "      <th>36</th>\n",
       "      <td>ITIQUIRA I</td>\n",
       "    </tr>\n",
       "    <tr>\n",
       "      <th>37</th>\n",
       "      <td>ITIQUIRA II</td>\n",
       "    </tr>\n",
       "    <tr>\n",
       "      <th>38</th>\n",
       "      <td>JURUENA</td>\n",
       "    </tr>\n",
       "    <tr>\n",
       "      <th>39</th>\n",
       "      <td>DARDANELOS</td>\n",
       "    </tr>\n",
       "    <tr>\n",
       "      <th>40</th>\n",
       "      <td>CACU</td>\n",
       "    </tr>\n",
       "    <tr>\n",
       "      <th>41</th>\n",
       "      <td>B. COQUEIROS</td>\n",
       "    </tr>\n",
       "    <tr>\n",
       "      <th>42</th>\n",
       "      <td>FOZ R. CLARO</td>\n",
       "    </tr>\n",
       "    <tr>\n",
       "      <th>43</th>\n",
       "      <td>FICT.MAUA</td>\n",
       "    </tr>\n",
       "    <tr>\n",
       "      <th>44</th>\n",
       "      <td>GUARAPIRANGA</td>\n",
       "    </tr>\n",
       "    <tr>\n",
       "      <th>45</th>\n",
       "      <td>BILLINGS</td>\n",
       "    </tr>\n",
       "    <tr>\n",
       "      <th>46</th>\n",
       "      <td>HENRY BORDEN</td>\n",
       "    </tr>\n",
       "    <tr>\n",
       "      <th>47</th>\n",
       "      <td>JAGUARI</td>\n",
       "    </tr>\n",
       "    <tr>\n",
       "      <th>48</th>\n",
       "      <td>PARAIBUNA</td>\n",
       "    </tr>\n",
       "    <tr>\n",
       "      <th>49</th>\n",
       "      <td>SANTA BRANCA</td>\n",
       "    </tr>\n",
       "    <tr>\n",
       "      <th>50</th>\n",
       "      <td>FUNIL</td>\n",
       "    </tr>\n",
       "    <tr>\n",
       "      <th>51</th>\n",
       "      <td>LAJES</td>\n",
       "    </tr>\n",
       "    <tr>\n",
       "      <th>52</th>\n",
       "      <td>PICADA</td>\n",
       "    </tr>\n",
       "    <tr>\n",
       "      <th>53</th>\n",
       "      <td>SOBRAGI</td>\n",
       "    </tr>\n",
       "    <tr>\n",
       "      <th>54</th>\n",
       "      <td>SIMPLICIO</td>\n",
       "    </tr>\n",
       "    <tr>\n",
       "      <th>55</th>\n",
       "      <td>ILHA POMBOS</td>\n",
       "    </tr>\n",
       "    <tr>\n",
       "      <th>56</th>\n",
       "      <td>P. PASSOS</td>\n",
       "    </tr>\n",
       "    <tr>\n",
       "      <th>57</th>\n",
       "      <td>BARRA BRAUNA</td>\n",
       "    </tr>\n",
       "    <tr>\n",
       "      <th>58</th>\n",
       "      <td>SALTO GRANDE</td>\n",
       "    </tr>\n",
       "    <tr>\n",
       "      <th>59</th>\n",
       "      <td>P. ESTRELA</td>\n",
       "    </tr>\n",
       "    <tr>\n",
       "      <th>60</th>\n",
       "      <td>CANDONGA</td>\n",
       "    </tr>\n",
       "    <tr>\n",
       "      <th>61</th>\n",
       "      <td>AIMORES</td>\n",
       "    </tr>\n",
       "    <tr>\n",
       "      <th>62</th>\n",
       "      <td>MASCARENHAS</td>\n",
       "    </tr>\n",
       "    <tr>\n",
       "      <th>63</th>\n",
       "      <td>GUILMAN-AMOR</td>\n",
       "    </tr>\n",
       "    <tr>\n",
       "      <th>64</th>\n",
       "      <td>SA CARVALHO</td>\n",
       "    </tr>\n",
       "    <tr>\n",
       "      <th>65</th>\n",
       "      <td>ROSAL</td>\n",
       "    </tr>\n",
       "    <tr>\n",
       "      <th>66</th>\n",
       "      <td>SAMUEL</td>\n",
       "    </tr>\n",
       "    <tr>\n",
       "      <th>67</th>\n",
       "      <td>IRAPE</td>\n",
       "    </tr>\n",
       "    <tr>\n",
       "      <th>68</th>\n",
       "      <td>STA CLARA MG</td>\n",
       "    </tr>\n",
       "    <tr>\n",
       "      <th>69</th>\n",
       "      <td>CAMARGOS</td>\n",
       "    </tr>\n",
       "    <tr>\n",
       "      <th>70</th>\n",
       "      <td>ITUTINGA</td>\n",
       "    </tr>\n",
       "    <tr>\n",
       "      <th>71</th>\n",
       "      <td>FURNAS</td>\n",
       "    </tr>\n",
       "    <tr>\n",
       "      <th>72</th>\n",
       "      <td>M. DE MORAES</td>\n",
       "    </tr>\n",
       "    <tr>\n",
       "      <th>73</th>\n",
       "      <td>ESTREITO</td>\n",
       "    </tr>\n",
       "    <tr>\n",
       "      <th>74</th>\n",
       "      <td>JAGUARA</td>\n",
       "    </tr>\n",
       "    <tr>\n",
       "      <th>75</th>\n",
       "      <td>IGARAPAVA</td>\n",
       "    </tr>\n",
       "    <tr>\n",
       "      <th>76</th>\n",
       "      <td>VOLTA GRANDE</td>\n",
       "    </tr>\n",
       "    <tr>\n",
       "      <th>77</th>\n",
       "      <td>P. COLOMBIA</td>\n",
       "    </tr>\n",
       "    <tr>\n",
       "      <th>78</th>\n",
       "      <td>CACONDE</td>\n",
       "    </tr>\n",
       "    <tr>\n",
       "      <th>79</th>\n",
       "      <td>E. DA CUNHA</td>\n",
       "    </tr>\n",
       "    <tr>\n",
       "      <th>80</th>\n",
       "      <td>A.S.OLIVEIRA</td>\n",
       "    </tr>\n",
       "    <tr>\n",
       "      <th>81</th>\n",
       "      <td>MARIMBONDO</td>\n",
       "    </tr>\n",
       "    <tr>\n",
       "      <th>82</th>\n",
       "      <td>A. VERMELHA</td>\n",
       "    </tr>\n",
       "    <tr>\n",
       "      <th>83</th>\n",
       "      <td>I. SOLTEIRA</td>\n",
       "    </tr>\n",
       "    <tr>\n",
       "      <th>84</th>\n",
       "      <td>EMBORCACAO</td>\n",
       "    </tr>\n",
       "    <tr>\n",
       "      <th>85</th>\n",
       "      <td>NOVA PONTE</td>\n",
       "    </tr>\n",
       "    <tr>\n",
       "      <th>86</th>\n",
       "      <td>MIRANDA</td>\n",
       "    </tr>\n",
       "    <tr>\n",
       "      <th>87</th>\n",
       "      <td>CORUMBA I</td>\n",
       "    </tr>\n",
       "    <tr>\n",
       "      <th>88</th>\n",
       "      <td>ITUMBIARA</td>\n",
       "    </tr>\n",
       "    <tr>\n",
       "      <th>89</th>\n",
       "      <td>CACH.DOURADA</td>\n",
       "    </tr>\n",
       "    <tr>\n",
       "      <th>90</th>\n",
       "      <td>SAO SIMAO</td>\n",
       "    </tr>\n",
       "    <tr>\n",
       "      <th>91</th>\n",
       "      <td>BARRA BONITA</td>\n",
       "    </tr>\n",
       "    <tr>\n",
       "      <th>92</th>\n",
       "      <td>A.S. LIMA</td>\n",
       "    </tr>\n",
       "    <tr>\n",
       "      <th>93</th>\n",
       "      <td>IBITINGA</td>\n",
       "    </tr>\n",
       "    <tr>\n",
       "      <th>94</th>\n",
       "      <td>PROMISSAO</td>\n",
       "    </tr>\n",
       "    <tr>\n",
       "      <th>95</th>\n",
       "      <td>NAVANHANDAVA</td>\n",
       "    </tr>\n",
       "    <tr>\n",
       "      <th>96</th>\n",
       "      <td>TRES IRMAOS</td>\n",
       "    </tr>\n",
       "    <tr>\n",
       "      <th>97</th>\n",
       "      <td>JUPIA</td>\n",
       "    </tr>\n",
       "    <tr>\n",
       "      <th>98</th>\n",
       "      <td>P. PRIMAVERA</td>\n",
       "    </tr>\n",
       "    <tr>\n",
       "      <th>99</th>\n",
       "      <td>MANSO</td>\n",
       "    </tr>\n",
       "    <tr>\n",
       "      <th>100</th>\n",
       "      <td>A.A. LAYDNER</td>\n",
       "    </tr>\n",
       "    <tr>\n",
       "      <th>101</th>\n",
       "      <td>CHAVANTES</td>\n",
       "    </tr>\n",
       "    <tr>\n",
       "      <th>102</th>\n",
       "      <td>L.N. GARCEZ</td>\n",
       "    </tr>\n",
       "    <tr>\n",
       "      <th>103</th>\n",
       "      <td>CANOAS II</td>\n",
       "    </tr>\n",
       "    <tr>\n",
       "      <th>104</th>\n",
       "      <td>CANOAS I</td>\n",
       "    </tr>\n",
       "    <tr>\n",
       "      <th>105</th>\n",
       "      <td>CAPIVARA</td>\n",
       "    </tr>\n",
       "    <tr>\n",
       "      <th>106</th>\n",
       "      <td>TAQUARUCU</td>\n",
       "    </tr>\n",
       "    <tr>\n",
       "      <th>107</th>\n",
       "      <td>ROSANA</td>\n",
       "    </tr>\n",
       "    <tr>\n",
       "      <th>108</th>\n",
       "      <td>MAUA</td>\n",
       "    </tr>\n",
       "    <tr>\n",
       "      <th>109</th>\n",
       "      <td>STA CLARA PR</td>\n",
       "    </tr>\n",
       "    <tr>\n",
       "      <th>110</th>\n",
       "      <td>FUNDAO</td>\n",
       "    </tr>\n",
       "    <tr>\n",
       "      <th>111</th>\n",
       "      <td>G.B. MUNHOZ</td>\n",
       "    </tr>\n",
       "    <tr>\n",
       "      <th>112</th>\n",
       "      <td>BAIXO IGUACU</td>\n",
       "    </tr>\n",
       "    <tr>\n",
       "      <th>113</th>\n",
       "      <td>BARRA GRANDE</td>\n",
       "    </tr>\n",
       "    <tr>\n",
       "      <th>114</th>\n",
       "      <td>SAO ROQUE</td>\n",
       "    </tr>\n",
       "    <tr>\n",
       "      <th>115</th>\n",
       "      <td>GARIBALDI</td>\n",
       "    </tr>\n",
       "    <tr>\n",
       "      <th>116</th>\n",
       "      <td>CAMPOS NOVOS</td>\n",
       "    </tr>\n",
       "    <tr>\n",
       "      <th>117</th>\n",
       "      <td>MACHADINHO</td>\n",
       "    </tr>\n",
       "    <tr>\n",
       "      <th>118</th>\n",
       "      <td>ITA</td>\n",
       "    </tr>\n",
       "    <tr>\n",
       "      <th>119</th>\n",
       "      <td>PASSO FUNDO</td>\n",
       "    </tr>\n",
       "    <tr>\n",
       "      <th>120</th>\n",
       "      <td>MONJOLINHO</td>\n",
       "    </tr>\n",
       "    <tr>\n",
       "      <th>121</th>\n",
       "      <td>QUEBRA QUEIX</td>\n",
       "    </tr>\n",
       "    <tr>\n",
       "      <th>122</th>\n",
       "      <td>SAO JOSE</td>\n",
       "    </tr>\n",
       "    <tr>\n",
       "      <th>123</th>\n",
       "      <td>PASSO S JOAO</td>\n",
       "    </tr>\n",
       "    <tr>\n",
       "      <th>124</th>\n",
       "      <td>FOZ CHAPECO</td>\n",
       "    </tr>\n",
       "    <tr>\n",
       "      <th>125</th>\n",
       "      <td>CASTRO ALVES</td>\n",
       "    </tr>\n",
       "    <tr>\n",
       "      <th>126</th>\n",
       "      <td>MONTE CLARO</td>\n",
       "    </tr>\n",
       "    <tr>\n",
       "      <th>127</th>\n",
       "      <td>14 DE JULHO</td>\n",
       "    </tr>\n",
       "    <tr>\n",
       "      <th>128</th>\n",
       "      <td>ERNESTINA</td>\n",
       "    </tr>\n",
       "    <tr>\n",
       "      <th>129</th>\n",
       "      <td>PASSO REAL</td>\n",
       "    </tr>\n",
       "    <tr>\n",
       "      <th>130</th>\n",
       "      <td>JACUI</td>\n",
       "    </tr>\n",
       "    <tr>\n",
       "      <th>131</th>\n",
       "      <td>ITAUBA</td>\n",
       "    </tr>\n",
       "    <tr>\n",
       "      <th>132</th>\n",
       "      <td>D. FRANCISCA</td>\n",
       "    </tr>\n",
       "    <tr>\n",
       "      <th>133</th>\n",
       "      <td>G.P. SOUZA</td>\n",
       "    </tr>\n",
       "    <tr>\n",
       "      <th>134</th>\n",
       "      <td>SALTO PILAO</td>\n",
       "    </tr>\n",
       "    <tr>\n",
       "      <th>135</th>\n",
       "      <td>JORDAO</td>\n",
       "    </tr>\n",
       "    <tr>\n",
       "      <th>136</th>\n",
       "      <td>SEGREDO</td>\n",
       "    </tr>\n",
       "    <tr>\n",
       "      <th>137</th>\n",
       "      <td>SLT.SANTIAGO</td>\n",
       "    </tr>\n",
       "    <tr>\n",
       "      <th>138</th>\n",
       "      <td>SALTO OSORIO</td>\n",
       "    </tr>\n",
       "    <tr>\n",
       "      <th>139</th>\n",
       "      <td>SALTO CAXIAS</td>\n",
       "    </tr>\n",
       "    <tr>\n",
       "      <th>140</th>\n",
       "      <td>SOBRADINHO</td>\n",
       "    </tr>\n",
       "    <tr>\n",
       "      <th>141</th>\n",
       "      <td>ITAPARICA</td>\n",
       "    </tr>\n",
       "    <tr>\n",
       "      <th>142</th>\n",
       "      <td>COMP PAF-MOX</td>\n",
       "    </tr>\n",
       "    <tr>\n",
       "      <th>143</th>\n",
       "      <td>XINGO</td>\n",
       "    </tr>\n",
       "    <tr>\n",
       "      <th>144</th>\n",
       "      <td>FICT.QUEIMAD</td>\n",
       "    </tr>\n",
       "    <tr>\n",
       "      <th>145</th>\n",
       "      <td>FICT.TRES MA</td>\n",
       "    </tr>\n",
       "    <tr>\n",
       "      <th>146</th>\n",
       "      <td>FICT.RETIRO</td>\n",
       "    </tr>\n",
       "    <tr>\n",
       "      <th>147</th>\n",
       "      <td>ITAPEBI</td>\n",
       "    </tr>\n",
       "    <tr>\n",
       "      <th>148</th>\n",
       "      <td>FICT.IRAPE</td>\n",
       "    </tr>\n",
       "    <tr>\n",
       "      <th>149</th>\n",
       "      <td>P. CAVALO</td>\n",
       "    </tr>\n",
       "    <tr>\n",
       "      <th>150</th>\n",
       "      <td>B. ESPERANCA</td>\n",
       "    </tr>\n",
       "    <tr>\n",
       "      <th>151</th>\n",
       "      <td>CACH.CALDEIR</td>\n",
       "    </tr>\n",
       "    <tr>\n",
       "      <th>152</th>\n",
       "      <td>ESTREITO TOC</td>\n",
       "    </tr>\n",
       "    <tr>\n",
       "      <th>153</th>\n",
       "      <td>TUCURUI</td>\n",
       "    </tr>\n",
       "    <tr>\n",
       "      <th>154</th>\n",
       "      <td>BALBINA</td>\n",
       "    </tr>\n",
       "    <tr>\n",
       "      <th>155</th>\n",
       "      <td>COARACY NUNE</td>\n",
       "    </tr>\n",
       "    <tr>\n",
       "      <th>156</th>\n",
       "      <td>FERREIRA GOM</td>\n",
       "    </tr>\n",
       "    <tr>\n",
       "      <th>157</th>\n",
       "      <td>STO ANT JARI</td>\n",
       "    </tr>\n",
       "    <tr>\n",
       "      <th>158</th>\n",
       "      <td>FICT.SERRA M</td>\n",
       "    </tr>\n",
       "    <tr>\n",
       "      <th>159</th>\n",
       "      <td>FICT.CANA BR</td>\n",
       "    </tr>\n",
       "    <tr>\n",
       "      <th>160</th>\n",
       "      <td>FICT.LAJEADO</td>\n",
       "    </tr>\n",
       "    <tr>\n",
       "      <th>161</th>\n",
       "      <td>FICT.PEIXE A</td>\n",
       "    </tr>\n",
       "    <tr>\n",
       "      <th>162</th>\n",
       "      <td>FICT.SAO SAL</td>\n",
       "    </tr>\n",
       "    <tr>\n",
       "      <th>163</th>\n",
       "      <td>PIMENTAL</td>\n",
       "    </tr>\n",
       "    <tr>\n",
       "      <th>164</th>\n",
       "      <td>CURUA-UNA</td>\n",
       "    </tr>\n",
       "    <tr>\n",
       "      <th>165</th>\n",
       "      <td>BELO MONTE</td>\n",
       "    </tr>\n",
       "  </tbody>\n",
       "</table>\n",
       "</div>"
      ],
      "text/plain": [
       "      Nome da UHE\n",
       "0    FUNIL-GRANDE\n",
       "1    BATALHA     \n",
       "2    SERRA FACAO \n",
       "3    CAPIM BRANC1\n",
       "4    CAPIM BRANC2\n",
       "5    CORUMBA IV  \n",
       "6    PIRAJU      \n",
       "7    ITAIPU      \n",
       "8    NILO PECANHA\n",
       "9    FONTES      \n",
       "10   BAGUARI     \n",
       "11   SAO DOMINGOS\n",
       "12   RETIRO BAIXO\n",
       "13   TRES MARIAS \n",
       "14   QUEIMADO    \n",
       "15   JAURU       \n",
       "16   GUAPORE     \n",
       "17   CORUMBA III \n",
       "18   SINOP       \n",
       "19   COLIDER     \n",
       "20   TELES PIRES \n",
       "21   SAO MANOEL  \n",
       "22   SLT VERDINHO\n",
       "23   OURINHOS    \n",
       "24   SERRA MESA  \n",
       "25   CANA BRAVA  \n",
       "26   SAO SALVADOR\n",
       "27   PEIXE ANGIC \n",
       "28   ESTRELA     \n",
       "29   LAJEADO     \n",
       "30   SALTO       \n",
       "31   RONDON II   \n",
       "32   PONTE PEDRA \n",
       "33   JIRAU       \n",
       "34   STO ANTONIO \n",
       "35   ESPORA      \n",
       "36   ITIQUIRA I  \n",
       "37   ITIQUIRA II \n",
       "38   JURUENA     \n",
       "39   DARDANELOS  \n",
       "40   CACU        \n",
       "41   B. COQUEIROS\n",
       "42   FOZ R. CLARO\n",
       "43   FICT.MAUA   \n",
       "44   GUARAPIRANGA\n",
       "45   BILLINGS    \n",
       "46   HENRY BORDEN\n",
       "47   JAGUARI     \n",
       "48   PARAIBUNA   \n",
       "49   SANTA BRANCA\n",
       "50   FUNIL       \n",
       "51   LAJES       \n",
       "52   PICADA      \n",
       "53   SOBRAGI     \n",
       "54   SIMPLICIO   \n",
       "55   ILHA POMBOS \n",
       "56   P. PASSOS   \n",
       "57   BARRA BRAUNA\n",
       "58   SALTO GRANDE\n",
       "59   P. ESTRELA  \n",
       "60   CANDONGA    \n",
       "61   AIMORES     \n",
       "62   MASCARENHAS \n",
       "63   GUILMAN-AMOR\n",
       "64   SA CARVALHO \n",
       "65   ROSAL       \n",
       "66   SAMUEL      \n",
       "67   IRAPE       \n",
       "68   STA CLARA MG\n",
       "69   CAMARGOS    \n",
       "70   ITUTINGA    \n",
       "71   FURNAS      \n",
       "72   M. DE MORAES\n",
       "73   ESTREITO    \n",
       "74   JAGUARA     \n",
       "75   IGARAPAVA   \n",
       "76   VOLTA GRANDE\n",
       "77   P. COLOMBIA \n",
       "78   CACONDE     \n",
       "79   E. DA CUNHA \n",
       "80   A.S.OLIVEIRA\n",
       "81   MARIMBONDO  \n",
       "82   A. VERMELHA \n",
       "83   I. SOLTEIRA \n",
       "84   EMBORCACAO  \n",
       "85   NOVA PONTE  \n",
       "86   MIRANDA     \n",
       "87   CORUMBA I   \n",
       "88   ITUMBIARA   \n",
       "89   CACH.DOURADA\n",
       "90   SAO SIMAO   \n",
       "91   BARRA BONITA\n",
       "92   A.S. LIMA   \n",
       "93   IBITINGA    \n",
       "94   PROMISSAO   \n",
       "95   NAVANHANDAVA\n",
       "96   TRES IRMAOS \n",
       "97   JUPIA       \n",
       "98   P. PRIMAVERA\n",
       "99   MANSO       \n",
       "100  A.A. LAYDNER\n",
       "101  CHAVANTES   \n",
       "102  L.N. GARCEZ \n",
       "103  CANOAS II   \n",
       "104  CANOAS I    \n",
       "105  CAPIVARA    \n",
       "106  TAQUARUCU   \n",
       "107  ROSANA      \n",
       "108  MAUA        \n",
       "109  STA CLARA PR\n",
       "110  FUNDAO      \n",
       "111  G.B. MUNHOZ \n",
       "112  BAIXO IGUACU\n",
       "113  BARRA GRANDE\n",
       "114  SAO ROQUE   \n",
       "115  GARIBALDI   \n",
       "116  CAMPOS NOVOS\n",
       "117  MACHADINHO  \n",
       "118  ITA         \n",
       "119  PASSO FUNDO \n",
       "120  MONJOLINHO  \n",
       "121  QUEBRA QUEIX\n",
       "122  SAO JOSE    \n",
       "123  PASSO S JOAO\n",
       "124  FOZ CHAPECO \n",
       "125  CASTRO ALVES\n",
       "126  MONTE CLARO \n",
       "127  14 DE JULHO \n",
       "128  ERNESTINA   \n",
       "129  PASSO REAL  \n",
       "130  JACUI       \n",
       "131  ITAUBA      \n",
       "132  D. FRANCISCA\n",
       "133  G.P. SOUZA  \n",
       "134  SALTO PILAO \n",
       "135  JORDAO      \n",
       "136  SEGREDO     \n",
       "137  SLT.SANTIAGO\n",
       "138  SALTO OSORIO\n",
       "139  SALTO CAXIAS\n",
       "140  SOBRADINHO  \n",
       "141  ITAPARICA   \n",
       "142  COMP PAF-MOX\n",
       "143  XINGO       \n",
       "144  FICT.QUEIMAD\n",
       "145  FICT.TRES MA\n",
       "146  FICT.RETIRO \n",
       "147  ITAPEBI     \n",
       "148  FICT.IRAPE  \n",
       "149  P. CAVALO   \n",
       "150  B. ESPERANCA\n",
       "151  CACH.CALDEIR\n",
       "152  ESTREITO TOC\n",
       "153  TUCURUI     \n",
       "154  BALBINA     \n",
       "155  COARACY NUNE\n",
       "156  FERREIRA GOM\n",
       "157  STO ANT JARI\n",
       "158  FICT.SERRA M\n",
       "159  FICT.CANA BR\n",
       "160  FICT.LAJEADO\n",
       "161  FICT.PEIXE A\n",
       "162  FICT.SAO SAL\n",
       "163  PIMENTAL    \n",
       "164  CURUA-UNA   \n",
       "165  BELO MONTE  "
      ]
     },
     "execution_count": 5,
     "metadata": {},
     "output_type": "execute_result"
    }
   ],
   "source": [
    "## Listagem das Usinas Hidrelétricas disponivéis para Estudo.\n",
    "\n",
    "dados_UHE = []\n",
    "\n",
    "for i in range(0, len(Caso.confhd._nome['valor'])):\n",
    "    dados_UHE.append((Caso.confhd._nome['valor'][i]))\n",
    "\n",
    "\n",
    "#Criando o dataFrame:\n",
    "df_UHE = pd.DataFrame(dados_UHE, columns=['Nome da UHE'])\n",
    "\n",
    "\n",
    "#Exibindo o dataFrame:\n",
    "#df_UHE\n",
    "\n",
    "#ajuste de visualização:\n",
    "pd.set_option('display.max_rows', None)\n",
    "\n",
    "#Exibindo o dataFrame:\n",
    "df_UHE"
   ]
  },
  {
   "cell_type": "markdown",
   "metadata": {},
   "source": [
    "## 2.2) Escolha da UHE:"
   ]
  },
  {
   "cell_type": "code",
   "execution_count": 8,
   "metadata": {},
   "outputs": [
    {
     "name": "stdout",
     "output_type": "stream",
     "text": [
      "Escolha a Forma de encontrar a UHE:\n",
      "1 - Número da Usina.\n",
      "2 - Nome da Usina.\n",
      "\n",
      "Digite o Nome da Usina para o Estudo: \n",
      "FURNAS      \n",
      "Deseja confirma a UHE? Y/N\n",
      "\n",
      "UHE Escolhida  :  FURNAS      \n",
      "Número da Usina:  71\n"
     ]
    }
   ],
   "source": [
    "# Escolha da UHE para o Estudo:\n",
    "\n",
    "print('Escolha a Forma de encontrar a UHE:')\n",
    "print('1 - Número da Usina.')\n",
    "print('2 - Nome da Usina.')\n",
    "\n",
    "Escolha = int(input())\n",
    "\n",
    "if Escolha==1 or Escolha==2:\n",
    "    confirma = False\n",
    "else:\n",
    "    confirma = True\n",
    "\n",
    "while confirma == False  and Escolha == 1:\n",
    "    if Escolha == 1:\n",
    "        print('\\nDigite o Número da Usina para o Estudo: ')\n",
    "        U = int(input())\n",
    "\n",
    "        UHE_Estudo = None\n",
    "\n",
    "        for i in range(0, len(Caso.confhd._nome['valor'])):\n",
    "            if i == U:\n",
    "                UHE_Estudo = Caso.confhd._nome['valor'][i]\n",
    "                print(UHE_Estudo)\n",
    "        print('\\nDeseja confirma a UHE? Y/N')\n",
    "        confirma = input()\n",
    "        if confirma == 'Y' or confirma == 'y':     \n",
    "            print('\\nUHE Escolhida  : ', UHE_Estudo) \n",
    "            print('Número da Usina: ', U)\n",
    "            confirma = True\n",
    "            Escolha = 0\n",
    "        else:\n",
    "            confirma = False\n",
    "            Escolha == 1\n",
    "#---------------------------------------------------------------------------------------------------------------------------------------------------------------------------\n",
    "while confirma == False and Escolha == 2:           \n",
    "    if Escolha == 2:\n",
    "        print('\\nDigite o Nome da Usina para o Estudo: ')\n",
    "        UHE_Estudo = input()\n",
    "\n",
    "        U = 0\n",
    "        iter = 0\n",
    "        for i in range(0, len(Caso.confhd._nome['valor'])):\n",
    "            UHE_Caso = Caso.confhd._nome['valor'][i].strip(\"'\").replace(\"'\",\"\") #Tira as '' do Nome da Usina.\n",
    "            UHE_Caso = Caso.confhd._nome['valor'][i].lower()                    #Deixa o Nome da usina do caso em letras mínusculas.\n",
    "            UHE_Caso = \"\".join(UHE_Caso.split())                                #Tira os espaços do Nome da Usina do Caso.\n",
    "\n",
    "            UHE_Estudo = UHE_Estudo.lower()                                     #Deixa o Nome da usina Estudada em letras mínusculas.\n",
    "            UHE_Estudo = \"\".join(UHE_Estudo.split())                            #Tira os espaços do Nome da Usina do Caso.\n",
    "            iter += 1 \n",
    "            #Comparando as Strings para achar a usina nos Dados do Newave.\n",
    "            if UHE_Caso == UHE_Estudo:\n",
    "                U = i\n",
    "                UHE_Estudo1 = Caso.confhd._nome['valor'][U]  \n",
    "                print(UHE_Estudo1)\n",
    "                print('Deseja confirma a UHE? Y/N')\n",
    "                confirma = input()\n",
    "            \n",
    "            #if UHE_Caso != UHE_Estudo and iter == len(Caso.confhd._nome['valor'])-1:\n",
    "                #print('Não há nenhuma UHE com o Nome informado. Tente Novamente.') \n",
    "                #break\n",
    " \n",
    "        if confirma == 'Y' or confirma == 'y':\n",
    "            print('\\nUHE Escolhida  : ', UHE_Estudo1) \n",
    "            print('Número da Usina: ', U)\n",
    "            confirma = True\n",
    "            Escolha = 0\n",
    "        else:\n",
    "            confirma = False\n",
    "            Escolha == 2 \n",
    "         \n",
    "#---------------------------------------------------------------------------------------------------------------------------------------------------------------------------\n",
    "if confirma == True and Escolha!=1 and Escolha!=2 and Escolha !=0: \n",
    "    print('Opção Inválida. Tente Novamente.')\n",
    "    \n",
    "    \n",
    "UHE_Estudo = Caso.confhd._nome['valor'][U] \n",
    "#print('\\nUHE Escolhida: ', UHE_Estudo) \n",
    "#print('Número da Usina: ', U)\n"
   ]
  },
  {
   "cell_type": "markdown",
   "metadata": {},
   "source": [
    "## 2.3) Dados de Vazão Natual Afluente($Z_{t}$) da Usina Escolhida:"
   ]
  },
  {
   "cell_type": "code",
   "execution_count": 9,
   "metadata": {},
   "outputs": [
    {
     "name": "stdout",
     "output_type": "stream",
     "text": [
      "UHE:  FURNAS      \n",
      "\n",
      "Dimensão Vazões:  (93, 12)\n"
     ]
    },
    {
     "data": {
      "text/html": [
       "<div>\n",
       "<style scoped>\n",
       "    .dataframe tbody tr th:only-of-type {\n",
       "        vertical-align: middle;\n",
       "    }\n",
       "\n",
       "    .dataframe tbody tr th {\n",
       "        vertical-align: top;\n",
       "    }\n",
       "\n",
       "    .dataframe thead th {\n",
       "        text-align: right;\n",
       "    }\n",
       "</style>\n",
       "<table border=\"1\" class=\"dataframe\">\n",
       "  <thead>\n",
       "    <tr style=\"text-align: right;\">\n",
       "      <th></th>\n",
       "      <th>0</th>\n",
       "      <th>1</th>\n",
       "      <th>2</th>\n",
       "      <th>3</th>\n",
       "      <th>4</th>\n",
       "      <th>5</th>\n",
       "      <th>6</th>\n",
       "      <th>7</th>\n",
       "      <th>8</th>\n",
       "      <th>9</th>\n",
       "      <th>10</th>\n",
       "      <th>11</th>\n",
       "    </tr>\n",
       "  </thead>\n",
       "  <tbody>\n",
       "    <tr>\n",
       "      <th>0</th>\n",
       "      <td>1476</td>\n",
       "      <td>2964</td>\n",
       "      <td>2167</td>\n",
       "      <td>1585</td>\n",
       "      <td>1254</td>\n",
       "      <td>785</td>\n",
       "      <td>607</td>\n",
       "      <td>469</td>\n",
       "      <td>538</td>\n",
       "      <td>662</td>\n",
       "      <td>667</td>\n",
       "      <td>1127</td>\n",
       "    </tr>\n",
       "    <tr>\n",
       "      <th>1</th>\n",
       "      <td>1908</td>\n",
       "      <td>1898</td>\n",
       "      <td>1534</td>\n",
       "      <td>868</td>\n",
       "      <td>673</td>\n",
       "      <td>632</td>\n",
       "      <td>473</td>\n",
       "      <td>393</td>\n",
       "      <td>388</td>\n",
       "      <td>521</td>\n",
       "      <td>573</td>\n",
       "      <td>1474</td>\n",
       "    </tr>\n",
       "    <tr>\n",
       "      <th>2</th>\n",
       "      <td>1330</td>\n",
       "      <td>726</td>\n",
       "      <td>696</td>\n",
       "      <td>610</td>\n",
       "      <td>441</td>\n",
       "      <td>356</td>\n",
       "      <td>329</td>\n",
       "      <td>325</td>\n",
       "      <td>295</td>\n",
       "      <td>411</td>\n",
       "      <td>295</td>\n",
       "      <td>692</td>\n",
       "    </tr>\n",
       "    <tr>\n",
       "      <th>3</th>\n",
       "      <td>1210</td>\n",
       "      <td>699</td>\n",
       "      <td>752</td>\n",
       "      <td>480</td>\n",
       "      <td>333</td>\n",
       "      <td>276</td>\n",
       "      <td>240</td>\n",
       "      <td>204</td>\n",
       "      <td>247</td>\n",
       "      <td>272</td>\n",
       "      <td>320</td>\n",
       "      <td>1285</td>\n",
       "    </tr>\n",
       "    <tr>\n",
       "      <th>4</th>\n",
       "      <td>1846</td>\n",
       "      <td>2584</td>\n",
       "      <td>1547</td>\n",
       "      <td>1334</td>\n",
       "      <td>909</td>\n",
       "      <td>674</td>\n",
       "      <td>554</td>\n",
       "      <td>468</td>\n",
       "      <td>436</td>\n",
       "      <td>619</td>\n",
       "      <td>527</td>\n",
       "      <td>661</td>\n",
       "    </tr>\n",
       "    <tr>\n",
       "      <th>5</th>\n",
       "      <td>594</td>\n",
       "      <td>662</td>\n",
       "      <td>1812</td>\n",
       "      <td>942</td>\n",
       "      <td>626</td>\n",
       "      <td>436</td>\n",
       "      <td>365</td>\n",
       "      <td>352</td>\n",
       "      <td>445</td>\n",
       "      <td>351</td>\n",
       "      <td>601</td>\n",
       "      <td>1302</td>\n",
       "    </tr>\n",
       "    <tr>\n",
       "      <th>6</th>\n",
       "      <td>2600</td>\n",
       "      <td>1589</td>\n",
       "      <td>1112</td>\n",
       "      <td>832</td>\n",
       "      <td>836</td>\n",
       "      <td>620</td>\n",
       "      <td>456</td>\n",
       "      <td>364</td>\n",
       "      <td>307</td>\n",
       "      <td>819</td>\n",
       "      <td>997</td>\n",
       "      <td>2343</td>\n",
       "    </tr>\n",
       "    <tr>\n",
       "      <th>7</th>\n",
       "      <td>1899</td>\n",
       "      <td>1646</td>\n",
       "      <td>1445</td>\n",
       "      <td>952</td>\n",
       "      <td>850</td>\n",
       "      <td>637</td>\n",
       "      <td>508</td>\n",
       "      <td>481</td>\n",
       "      <td>481</td>\n",
       "      <td>793</td>\n",
       "      <td>914</td>\n",
       "      <td>1647</td>\n",
       "    </tr>\n",
       "    <tr>\n",
       "      <th>8</th>\n",
       "      <td>2089</td>\n",
       "      <td>1999</td>\n",
       "      <td>1063</td>\n",
       "      <td>957</td>\n",
       "      <td>728</td>\n",
       "      <td>559</td>\n",
       "      <td>483</td>\n",
       "      <td>398</td>\n",
       "      <td>351</td>\n",
       "      <td>398</td>\n",
       "      <td>606</td>\n",
       "      <td>1356</td>\n",
       "    </tr>\n",
       "    <tr>\n",
       "      <th>9</th>\n",
       "      <td>2018</td>\n",
       "      <td>2425</td>\n",
       "      <td>2077</td>\n",
       "      <td>1144</td>\n",
       "      <td>824</td>\n",
       "      <td>637</td>\n",
       "      <td>513</td>\n",
       "      <td>408</td>\n",
       "      <td>382</td>\n",
       "      <td>464</td>\n",
       "      <td>1043</td>\n",
       "      <td>1554</td>\n",
       "    </tr>\n",
       "    <tr>\n",
       "      <th>10</th>\n",
       "      <td>1710</td>\n",
       "      <td>1005</td>\n",
       "      <td>973</td>\n",
       "      <td>794</td>\n",
       "      <td>508</td>\n",
       "      <td>458</td>\n",
       "      <td>456</td>\n",
       "      <td>334</td>\n",
       "      <td>607</td>\n",
       "      <td>666</td>\n",
       "      <td>704</td>\n",
       "      <td>1307</td>\n",
       "    </tr>\n",
       "    <tr>\n",
       "      <th>11</th>\n",
       "      <td>1309</td>\n",
       "      <td>1244</td>\n",
       "      <td>1863</td>\n",
       "      <td>1033</td>\n",
       "      <td>768</td>\n",
       "      <td>637</td>\n",
       "      <td>546</td>\n",
       "      <td>419</td>\n",
       "      <td>390</td>\n",
       "      <td>540</td>\n",
       "      <td>858</td>\n",
       "      <td>1231</td>\n",
       "    </tr>\n",
       "    <tr>\n",
       "      <th>12</th>\n",
       "      <td>2727</td>\n",
       "      <td>2198</td>\n",
       "      <td>2057</td>\n",
       "      <td>1132</td>\n",
       "      <td>826</td>\n",
       "      <td>680</td>\n",
       "      <td>554</td>\n",
       "      <td>495</td>\n",
       "      <td>442</td>\n",
       "      <td>648</td>\n",
       "      <td>657</td>\n",
       "      <td>1094</td>\n",
       "    </tr>\n",
       "    <tr>\n",
       "      <th>13</th>\n",
       "      <td>1003</td>\n",
       "      <td>1521</td>\n",
       "      <td>1631</td>\n",
       "      <td>915</td>\n",
       "      <td>618</td>\n",
       "      <td>495</td>\n",
       "      <td>422</td>\n",
       "      <td>347</td>\n",
       "      <td>293</td>\n",
       "      <td>340</td>\n",
       "      <td>508</td>\n",
       "      <td>671</td>\n",
       "    </tr>\n",
       "    <tr>\n",
       "      <th>14</th>\n",
       "      <td>875</td>\n",
       "      <td>1978</td>\n",
       "      <td>1208</td>\n",
       "      <td>995</td>\n",
       "      <td>628</td>\n",
       "      <td>553</td>\n",
       "      <td>500</td>\n",
       "      <td>349</td>\n",
       "      <td>314</td>\n",
       "      <td>349</td>\n",
       "      <td>765</td>\n",
       "      <td>1585</td>\n",
       "    </tr>\n",
       "    <tr>\n",
       "      <th>15</th>\n",
       "      <td>3201</td>\n",
       "      <td>1310</td>\n",
       "      <td>1467</td>\n",
       "      <td>1152</td>\n",
       "      <td>756</td>\n",
       "      <td>627</td>\n",
       "      <td>548</td>\n",
       "      <td>430</td>\n",
       "      <td>335</td>\n",
       "      <td>516</td>\n",
       "      <td>690</td>\n",
       "      <td>749</td>\n",
       "    </tr>\n",
       "    <tr>\n",
       "      <th>16</th>\n",
       "      <td>1775</td>\n",
       "      <td>1840</td>\n",
       "      <td>3757</td>\n",
       "      <td>1677</td>\n",
       "      <td>1034</td>\n",
       "      <td>804</td>\n",
       "      <td>699</td>\n",
       "      <td>548</td>\n",
       "      <td>814</td>\n",
       "      <td>627</td>\n",
       "      <td>714</td>\n",
       "      <td>1331</td>\n",
       "    </tr>\n",
       "    <tr>\n",
       "      <th>17</th>\n",
       "      <td>1503</td>\n",
       "      <td>1721</td>\n",
       "      <td>1826</td>\n",
       "      <td>1075</td>\n",
       "      <td>769</td>\n",
       "      <td>668</td>\n",
       "      <td>480</td>\n",
       "      <td>419</td>\n",
       "      <td>349</td>\n",
       "      <td>385</td>\n",
       "      <td>765</td>\n",
       "      <td>1263</td>\n",
       "    </tr>\n",
       "    <tr>\n",
       "      <th>18</th>\n",
       "      <td>1682</td>\n",
       "      <td>2221</td>\n",
       "      <td>1327</td>\n",
       "      <td>951</td>\n",
       "      <td>757</td>\n",
       "      <td>618</td>\n",
       "      <td>467</td>\n",
       "      <td>385</td>\n",
       "      <td>337</td>\n",
       "      <td>399</td>\n",
       "      <td>716</td>\n",
       "      <td>1153</td>\n",
       "    </tr>\n",
       "    <tr>\n",
       "      <th>19</th>\n",
       "      <td>1559</td>\n",
       "      <td>2519</td>\n",
       "      <td>1581</td>\n",
       "      <td>1185</td>\n",
       "      <td>852</td>\n",
       "      <td>655</td>\n",
       "      <td>592</td>\n",
       "      <td>496</td>\n",
       "      <td>428</td>\n",
       "      <td>485</td>\n",
       "      <td>1059</td>\n",
       "      <td>1649</td>\n",
       "    </tr>\n",
       "    <tr>\n",
       "      <th>20</th>\n",
       "      <td>1568</td>\n",
       "      <td>1994</td>\n",
       "      <td>1806</td>\n",
       "      <td>1276</td>\n",
       "      <td>899</td>\n",
       "      <td>700</td>\n",
       "      <td>557</td>\n",
       "      <td>476</td>\n",
       "      <td>388</td>\n",
       "      <td>432</td>\n",
       "      <td>377</td>\n",
       "      <td>761</td>\n",
       "    </tr>\n",
       "    <tr>\n",
       "      <th>21</th>\n",
       "      <td>1214</td>\n",
       "      <td>1881</td>\n",
       "      <td>2356</td>\n",
       "      <td>1386</td>\n",
       "      <td>770</td>\n",
       "      <td>706</td>\n",
       "      <td>507</td>\n",
       "      <td>406</td>\n",
       "      <td>404</td>\n",
       "      <td>382</td>\n",
       "      <td>661</td>\n",
       "      <td>791</td>\n",
       "    </tr>\n",
       "    <tr>\n",
       "      <th>22</th>\n",
       "      <td>605</td>\n",
       "      <td>680</td>\n",
       "      <td>839</td>\n",
       "      <td>1040</td>\n",
       "      <td>509</td>\n",
       "      <td>409</td>\n",
       "      <td>354</td>\n",
       "      <td>303</td>\n",
       "      <td>307</td>\n",
       "      <td>330</td>\n",
       "      <td>513</td>\n",
       "      <td>813</td>\n",
       "    </tr>\n",
       "    <tr>\n",
       "      <th>23</th>\n",
       "      <td>743</td>\n",
       "      <td>1261</td>\n",
       "      <td>666</td>\n",
       "      <td>661</td>\n",
       "      <td>632</td>\n",
       "      <td>450</td>\n",
       "      <td>328</td>\n",
       "      <td>273</td>\n",
       "      <td>222</td>\n",
       "      <td>299</td>\n",
       "      <td>420</td>\n",
       "      <td>593</td>\n",
       "    </tr>\n",
       "    <tr>\n",
       "      <th>24</th>\n",
       "      <td>1186</td>\n",
       "      <td>722</td>\n",
       "      <td>913</td>\n",
       "      <td>665</td>\n",
       "      <td>417</td>\n",
       "      <td>380</td>\n",
       "      <td>280</td>\n",
       "      <td>232</td>\n",
       "      <td>248</td>\n",
       "      <td>284</td>\n",
       "      <td>417</td>\n",
       "      <td>1163</td>\n",
       "    </tr>\n",
       "    <tr>\n",
       "      <th>25</th>\n",
       "      <td>1103</td>\n",
       "      <td>712</td>\n",
       "      <td>1184</td>\n",
       "      <td>597</td>\n",
       "      <td>564</td>\n",
       "      <td>532</td>\n",
       "      <td>399</td>\n",
       "      <td>430</td>\n",
       "      <td>352</td>\n",
       "      <td>310</td>\n",
       "      <td>416</td>\n",
       "      <td>1165</td>\n",
       "    </tr>\n",
       "    <tr>\n",
       "      <th>26</th>\n",
       "      <td>1605</td>\n",
       "      <td>1475</td>\n",
       "      <td>1663</td>\n",
       "      <td>1548</td>\n",
       "      <td>952</td>\n",
       "      <td>681</td>\n",
       "      <td>587</td>\n",
       "      <td>465</td>\n",
       "      <td>620</td>\n",
       "      <td>437</td>\n",
       "      <td>784</td>\n",
       "      <td>1202</td>\n",
       "    </tr>\n",
       "    <tr>\n",
       "      <th>27</th>\n",
       "      <td>955</td>\n",
       "      <td>1535</td>\n",
       "      <td>1249</td>\n",
       "      <td>897</td>\n",
       "      <td>894</td>\n",
       "      <td>752</td>\n",
       "      <td>638</td>\n",
       "      <td>480</td>\n",
       "      <td>585</td>\n",
       "      <td>662</td>\n",
       "      <td>711</td>\n",
       "      <td>847</td>\n",
       "    </tr>\n",
       "    <tr>\n",
       "      <th>28</th>\n",
       "      <td>1815</td>\n",
       "      <td>1408</td>\n",
       "      <td>1250</td>\n",
       "      <td>1094</td>\n",
       "      <td>693</td>\n",
       "      <td>581</td>\n",
       "      <td>497</td>\n",
       "      <td>465</td>\n",
       "      <td>401</td>\n",
       "      <td>428</td>\n",
       "      <td>668</td>\n",
       "      <td>780</td>\n",
       "    </tr>\n",
       "    <tr>\n",
       "      <th>29</th>\n",
       "      <td>1564</td>\n",
       "      <td>1646</td>\n",
       "      <td>2119</td>\n",
       "      <td>999</td>\n",
       "      <td>859</td>\n",
       "      <td>651</td>\n",
       "      <td>638</td>\n",
       "      <td>508</td>\n",
       "      <td>397</td>\n",
       "      <td>428</td>\n",
       "      <td>548</td>\n",
       "      <td>1311</td>\n",
       "    </tr>\n",
       "    <tr>\n",
       "      <th>30</th>\n",
       "      <td>2747</td>\n",
       "      <td>2902</td>\n",
       "      <td>2754</td>\n",
       "      <td>1457</td>\n",
       "      <td>1223</td>\n",
       "      <td>841</td>\n",
       "      <td>676</td>\n",
       "      <td>571</td>\n",
       "      <td>506</td>\n",
       "      <td>426</td>\n",
       "      <td>636</td>\n",
       "      <td>772</td>\n",
       "    </tr>\n",
       "    <tr>\n",
       "      <th>31</th>\n",
       "      <td>1300</td>\n",
       "      <td>2389</td>\n",
       "      <td>1573</td>\n",
       "      <td>944</td>\n",
       "      <td>796</td>\n",
       "      <td>696</td>\n",
       "      <td>534</td>\n",
       "      <td>472</td>\n",
       "      <td>464</td>\n",
       "      <td>695</td>\n",
       "      <td>833</td>\n",
       "      <td>1454</td>\n",
       "    </tr>\n",
       "    <tr>\n",
       "      <th>32</th>\n",
       "      <td>1723</td>\n",
       "      <td>1489</td>\n",
       "      <td>994</td>\n",
       "      <td>640</td>\n",
       "      <td>524</td>\n",
       "      <td>442</td>\n",
       "      <td>399</td>\n",
       "      <td>347</td>\n",
       "      <td>297</td>\n",
       "      <td>369</td>\n",
       "      <td>507</td>\n",
       "      <td>334</td>\n",
       "    </tr>\n",
       "    <tr>\n",
       "      <th>33</th>\n",
       "      <td>1453</td>\n",
       "      <td>1954</td>\n",
       "      <td>823</td>\n",
       "      <td>752</td>\n",
       "      <td>611</td>\n",
       "      <td>469</td>\n",
       "      <td>378</td>\n",
       "      <td>258</td>\n",
       "      <td>225</td>\n",
       "      <td>531</td>\n",
       "      <td>742</td>\n",
       "      <td>1255</td>\n",
       "    </tr>\n",
       "    <tr>\n",
       "      <th>34</th>\n",
       "      <td>2464</td>\n",
       "      <td>3125</td>\n",
       "      <td>2523</td>\n",
       "      <td>1321</td>\n",
       "      <td>1438</td>\n",
       "      <td>1062</td>\n",
       "      <td>947</td>\n",
       "      <td>777</td>\n",
       "      <td>641</td>\n",
       "      <td>973</td>\n",
       "      <td>1188</td>\n",
       "      <td>1869</td>\n",
       "    </tr>\n",
       "    <tr>\n",
       "      <th>35</th>\n",
       "      <td>3033</td>\n",
       "      <td>2092</td>\n",
       "      <td>2679</td>\n",
       "      <td>1450</td>\n",
       "      <td>1034</td>\n",
       "      <td>726</td>\n",
       "      <td>581</td>\n",
       "      <td>486</td>\n",
       "      <td>484</td>\n",
       "      <td>805</td>\n",
       "      <td>1343</td>\n",
       "      <td>1856</td>\n",
       "    </tr>\n",
       "    <tr>\n",
       "      <th>36</th>\n",
       "      <td>3014</td>\n",
       "      <td>2594</td>\n",
       "      <td>1916</td>\n",
       "      <td>1168</td>\n",
       "      <td>880</td>\n",
       "      <td>763</td>\n",
       "      <td>624</td>\n",
       "      <td>546</td>\n",
       "      <td>503</td>\n",
       "      <td>523</td>\n",
       "      <td>1080</td>\n",
       "      <td>1303</td>\n",
       "    </tr>\n",
       "    <tr>\n",
       "      <th>37</th>\n",
       "      <td>1656</td>\n",
       "      <td>988</td>\n",
       "      <td>959</td>\n",
       "      <td>612</td>\n",
       "      <td>471</td>\n",
       "      <td>409</td>\n",
       "      <td>358</td>\n",
       "      <td>367</td>\n",
       "      <td>363</td>\n",
       "      <td>453</td>\n",
       "      <td>390</td>\n",
       "      <td>1337</td>\n",
       "    </tr>\n",
       "    <tr>\n",
       "      <th>38</th>\n",
       "      <td>1171</td>\n",
       "      <td>1193</td>\n",
       "      <td>966</td>\n",
       "      <td>636</td>\n",
       "      <td>413</td>\n",
       "      <td>436</td>\n",
       "      <td>338</td>\n",
       "      <td>313</td>\n",
       "      <td>214</td>\n",
       "      <td>478</td>\n",
       "      <td>1241</td>\n",
       "      <td>1143</td>\n",
       "    </tr>\n",
       "    <tr>\n",
       "      <th>39</th>\n",
       "      <td>1412</td>\n",
       "      <td>1280</td>\n",
       "      <td>1321</td>\n",
       "      <td>761</td>\n",
       "      <td>534</td>\n",
       "      <td>446</td>\n",
       "      <td>430</td>\n",
       "      <td>347</td>\n",
       "      <td>614</td>\n",
       "      <td>527</td>\n",
       "      <td>827</td>\n",
       "      <td>555</td>\n",
       "    </tr>\n",
       "    <tr>\n",
       "      <th>40</th>\n",
       "      <td>612</td>\n",
       "      <td>357</td>\n",
       "      <td>477</td>\n",
       "      <td>401</td>\n",
       "      <td>310</td>\n",
       "      <td>365</td>\n",
       "      <td>309</td>\n",
       "      <td>218</td>\n",
       "      <td>232</td>\n",
       "      <td>470</td>\n",
       "      <td>533</td>\n",
       "      <td>1546</td>\n",
       "    </tr>\n",
       "    <tr>\n",
       "      <th>41</th>\n",
       "      <td>1319</td>\n",
       "      <td>1776</td>\n",
       "      <td>1623</td>\n",
       "      <td>892</td>\n",
       "      <td>596</td>\n",
       "      <td>469</td>\n",
       "      <td>618</td>\n",
       "      <td>442</td>\n",
       "      <td>384</td>\n",
       "      <td>694</td>\n",
       "      <td>1132</td>\n",
       "      <td>1290</td>\n",
       "    </tr>\n",
       "    <tr>\n",
       "      <th>42</th>\n",
       "      <td>1587</td>\n",
       "      <td>1428</td>\n",
       "      <td>920</td>\n",
       "      <td>1133</td>\n",
       "      <td>662</td>\n",
       "      <td>502</td>\n",
       "      <td>438</td>\n",
       "      <td>380</td>\n",
       "      <td>333</td>\n",
       "      <td>486</td>\n",
       "      <td>739</td>\n",
       "      <td>1409</td>\n",
       "    </tr>\n",
       "    <tr>\n",
       "      <th>43</th>\n",
       "      <td>1830</td>\n",
       "      <td>1064</td>\n",
       "      <td>1544</td>\n",
       "      <td>1118</td>\n",
       "      <td>673</td>\n",
       "      <td>661</td>\n",
       "      <td>512</td>\n",
       "      <td>405</td>\n",
       "      <td>314</td>\n",
       "      <td>411</td>\n",
       "      <td>394</td>\n",
       "      <td>1095</td>\n",
       "    </tr>\n",
       "    <tr>\n",
       "      <th>44</th>\n",
       "      <td>1460</td>\n",
       "      <td>1555</td>\n",
       "      <td>871</td>\n",
       "      <td>704</td>\n",
       "      <td>502</td>\n",
       "      <td>380</td>\n",
       "      <td>414</td>\n",
       "      <td>261</td>\n",
       "      <td>241</td>\n",
       "      <td>456</td>\n",
       "      <td>987</td>\n",
       "      <td>1196</td>\n",
       "    </tr>\n",
       "    <tr>\n",
       "      <th>45</th>\n",
       "      <td>958</td>\n",
       "      <td>1143</td>\n",
       "      <td>1266</td>\n",
       "      <td>962</td>\n",
       "      <td>775</td>\n",
       "      <td>753</td>\n",
       "      <td>784</td>\n",
       "      <td>744</td>\n",
       "      <td>1068</td>\n",
       "      <td>917</td>\n",
       "      <td>1373</td>\n",
       "      <td>1915</td>\n",
       "    </tr>\n",
       "    <tr>\n",
       "      <th>46</th>\n",
       "      <td>1986</td>\n",
       "      <td>1616</td>\n",
       "      <td>1193</td>\n",
       "      <td>1189</td>\n",
       "      <td>698</td>\n",
       "      <td>596</td>\n",
       "      <td>467</td>\n",
       "      <td>363</td>\n",
       "      <td>583</td>\n",
       "      <td>420</td>\n",
       "      <td>832</td>\n",
       "      <td>1449</td>\n",
       "    </tr>\n",
       "    <tr>\n",
       "      <th>47</th>\n",
       "      <td>1919</td>\n",
       "      <td>1268</td>\n",
       "      <td>1224</td>\n",
       "      <td>756</td>\n",
       "      <td>707</td>\n",
       "      <td>699</td>\n",
       "      <td>495</td>\n",
       "      <td>372</td>\n",
       "      <td>354</td>\n",
       "      <td>494</td>\n",
       "      <td>892</td>\n",
       "      <td>1100</td>\n",
       "    </tr>\n",
       "    <tr>\n",
       "      <th>48</th>\n",
       "      <td>1385</td>\n",
       "      <td>2413</td>\n",
       "      <td>1422</td>\n",
       "      <td>963</td>\n",
       "      <td>808</td>\n",
       "      <td>642</td>\n",
       "      <td>578</td>\n",
       "      <td>552</td>\n",
       "      <td>733</td>\n",
       "      <td>527</td>\n",
       "      <td>946</td>\n",
       "      <td>1651</td>\n",
       "    </tr>\n",
       "    <tr>\n",
       "      <th>49</th>\n",
       "      <td>2690</td>\n",
       "      <td>1929</td>\n",
       "      <td>1121</td>\n",
       "      <td>1709</td>\n",
       "      <td>915</td>\n",
       "      <td>784</td>\n",
       "      <td>674</td>\n",
       "      <td>487</td>\n",
       "      <td>492</td>\n",
       "      <td>459</td>\n",
       "      <td>824</td>\n",
       "      <td>1762</td>\n",
       "    </tr>\n",
       "    <tr>\n",
       "      <th>50</th>\n",
       "      <td>2713</td>\n",
       "      <td>1297</td>\n",
       "      <td>1216</td>\n",
       "      <td>917</td>\n",
       "      <td>698</td>\n",
       "      <td>704</td>\n",
       "      <td>504</td>\n",
       "      <td>469</td>\n",
       "      <td>355</td>\n",
       "      <td>819</td>\n",
       "      <td>1325</td>\n",
       "      <td>2333</td>\n",
       "    </tr>\n",
       "    <tr>\n",
       "      <th>51</th>\n",
       "      <td>2417</td>\n",
       "      <td>1820</td>\n",
       "      <td>2845</td>\n",
       "      <td>1651</td>\n",
       "      <td>1061</td>\n",
       "      <td>952</td>\n",
       "      <td>760</td>\n",
       "      <td>627</td>\n",
       "      <td>488</td>\n",
       "      <td>769</td>\n",
       "      <td>798</td>\n",
       "      <td>2073</td>\n",
       "    </tr>\n",
       "    <tr>\n",
       "      <th>52</th>\n",
       "      <td>3506</td>\n",
       "      <td>3230</td>\n",
       "      <td>3046</td>\n",
       "      <td>2327</td>\n",
       "      <td>1572</td>\n",
       "      <td>2303</td>\n",
       "      <td>1308</td>\n",
       "      <td>921</td>\n",
       "      <td>1889</td>\n",
       "      <td>1822</td>\n",
       "      <td>1989</td>\n",
       "      <td>3123</td>\n",
       "    </tr>\n",
       "    <tr>\n",
       "      <th>53</th>\n",
       "      <td>2192</td>\n",
       "      <td>1315</td>\n",
       "      <td>994</td>\n",
       "      <td>914</td>\n",
       "      <td>861</td>\n",
       "      <td>577</td>\n",
       "      <td>466</td>\n",
       "      <td>482</td>\n",
       "      <td>547</td>\n",
       "      <td>424</td>\n",
       "      <td>631</td>\n",
       "      <td>1326</td>\n",
       "    </tr>\n",
       "    <tr>\n",
       "      <th>54</th>\n",
       "      <td>2594</td>\n",
       "      <td>2210</td>\n",
       "      <td>2434</td>\n",
       "      <td>1343</td>\n",
       "      <td>881</td>\n",
       "      <td>680</td>\n",
       "      <td>565</td>\n",
       "      <td>476</td>\n",
       "      <td>503</td>\n",
       "      <td>470</td>\n",
       "      <td>759</td>\n",
       "      <td>1036</td>\n",
       "    </tr>\n",
       "    <tr>\n",
       "      <th>55</th>\n",
       "      <td>1716</td>\n",
       "      <td>1540</td>\n",
       "      <td>1365</td>\n",
       "      <td>806</td>\n",
       "      <td>833</td>\n",
       "      <td>555</td>\n",
       "      <td>565</td>\n",
       "      <td>590</td>\n",
       "      <td>369</td>\n",
       "      <td>294</td>\n",
       "      <td>343</td>\n",
       "      <td>1700</td>\n",
       "    </tr>\n",
       "    <tr>\n",
       "      <th>56</th>\n",
       "      <td>1945</td>\n",
       "      <td>1757</td>\n",
       "      <td>1209</td>\n",
       "      <td>1232</td>\n",
       "      <td>838</td>\n",
       "      <td>703</td>\n",
       "      <td>548</td>\n",
       "      <td>434</td>\n",
       "      <td>573</td>\n",
       "      <td>459</td>\n",
       "      <td>590</td>\n",
       "      <td>1345</td>\n",
       "    </tr>\n",
       "    <tr>\n",
       "      <th>57</th>\n",
       "      <td>1303</td>\n",
       "      <td>1788</td>\n",
       "      <td>1421</td>\n",
       "      <td>843</td>\n",
       "      <td>713</td>\n",
       "      <td>645</td>\n",
       "      <td>435</td>\n",
       "      <td>384</td>\n",
       "      <td>321</td>\n",
       "      <td>563</td>\n",
       "      <td>655</td>\n",
       "      <td>810</td>\n",
       "    </tr>\n",
       "    <tr>\n",
       "      <th>58</th>\n",
       "      <td>1795</td>\n",
       "      <td>1580</td>\n",
       "      <td>1619</td>\n",
       "      <td>893</td>\n",
       "      <td>596</td>\n",
       "      <td>553</td>\n",
       "      <td>487</td>\n",
       "      <td>476</td>\n",
       "      <td>487</td>\n",
       "      <td>437</td>\n",
       "      <td>512</td>\n",
       "      <td>1128</td>\n",
       "    </tr>\n",
       "    <tr>\n",
       "      <th>59</th>\n",
       "      <td>1364</td>\n",
       "      <td>639</td>\n",
       "      <td>1086</td>\n",
       "      <td>723</td>\n",
       "      <td>630</td>\n",
       "      <td>428</td>\n",
       "      <td>432</td>\n",
       "      <td>405</td>\n",
       "      <td>462</td>\n",
       "      <td>443</td>\n",
       "      <td>384</td>\n",
       "      <td>591</td>\n",
       "    </tr>\n",
       "    <tr>\n",
       "      <th>60</th>\n",
       "      <td>1926</td>\n",
       "      <td>1981</td>\n",
       "      <td>1764</td>\n",
       "      <td>1915</td>\n",
       "      <td>1032</td>\n",
       "      <td>677</td>\n",
       "      <td>579</td>\n",
       "      <td>425</td>\n",
       "      <td>390</td>\n",
       "      <td>666</td>\n",
       "      <td>458</td>\n",
       "      <td>809</td>\n",
       "    </tr>\n",
       "    <tr>\n",
       "      <th>61</th>\n",
       "      <td>2875</td>\n",
       "      <td>2406</td>\n",
       "      <td>1408</td>\n",
       "      <td>1052</td>\n",
       "      <td>1003</td>\n",
       "      <td>614</td>\n",
       "      <td>597</td>\n",
       "      <td>448</td>\n",
       "      <td>695</td>\n",
       "      <td>796</td>\n",
       "      <td>1298</td>\n",
       "      <td>1188</td>\n",
       "    </tr>\n",
       "    <tr>\n",
       "      <th>62</th>\n",
       "      <td>1301</td>\n",
       "      <td>1938</td>\n",
       "      <td>1512</td>\n",
       "      <td>1103</td>\n",
       "      <td>717</td>\n",
       "      <td>727</td>\n",
       "      <td>502</td>\n",
       "      <td>435</td>\n",
       "      <td>457</td>\n",
       "      <td>566</td>\n",
       "      <td>437</td>\n",
       "      <td>705</td>\n",
       "    </tr>\n",
       "    <tr>\n",
       "      <th>63</th>\n",
       "      <td>1927</td>\n",
       "      <td>845</td>\n",
       "      <td>1224</td>\n",
       "      <td>775</td>\n",
       "      <td>868</td>\n",
       "      <td>563</td>\n",
       "      <td>458</td>\n",
       "      <td>352</td>\n",
       "      <td>273</td>\n",
       "      <td>306</td>\n",
       "      <td>460</td>\n",
       "      <td>1062</td>\n",
       "    </tr>\n",
       "    <tr>\n",
       "      <th>64</th>\n",
       "      <td>924</td>\n",
       "      <td>2788</td>\n",
       "      <td>1193</td>\n",
       "      <td>998</td>\n",
       "      <td>741</td>\n",
       "      <td>532</td>\n",
       "      <td>471</td>\n",
       "      <td>311</td>\n",
       "      <td>273</td>\n",
       "      <td>637</td>\n",
       "      <td>617</td>\n",
       "      <td>988</td>\n",
       "    </tr>\n",
       "    <tr>\n",
       "      <th>65</th>\n",
       "      <td>1928</td>\n",
       "      <td>1231</td>\n",
       "      <td>1431</td>\n",
       "      <td>829</td>\n",
       "      <td>664</td>\n",
       "      <td>499</td>\n",
       "      <td>442</td>\n",
       "      <td>389</td>\n",
       "      <td>681</td>\n",
       "      <td>518</td>\n",
       "      <td>1455</td>\n",
       "      <td>1736</td>\n",
       "    </tr>\n",
       "    <tr>\n",
       "      <th>66</th>\n",
       "      <td>3621</td>\n",
       "      <td>1824</td>\n",
       "      <td>1498</td>\n",
       "      <td>1066</td>\n",
       "      <td>765</td>\n",
       "      <td>863</td>\n",
       "      <td>578</td>\n",
       "      <td>437</td>\n",
       "      <td>405</td>\n",
       "      <td>502</td>\n",
       "      <td>715</td>\n",
       "      <td>1185</td>\n",
       "    </tr>\n",
       "    <tr>\n",
       "      <th>67</th>\n",
       "      <td>1191</td>\n",
       "      <td>1248</td>\n",
       "      <td>965</td>\n",
       "      <td>676</td>\n",
       "      <td>571</td>\n",
       "      <td>513</td>\n",
       "      <td>362</td>\n",
       "      <td>360</td>\n",
       "      <td>260</td>\n",
       "      <td>501</td>\n",
       "      <td>525</td>\n",
       "      <td>1010</td>\n",
       "    </tr>\n",
       "    <tr>\n",
       "      <th>68</th>\n",
       "      <td>1681</td>\n",
       "      <td>1410</td>\n",
       "      <td>1545</td>\n",
       "      <td>754</td>\n",
       "      <td>531</td>\n",
       "      <td>502</td>\n",
       "      <td>400</td>\n",
       "      <td>278</td>\n",
       "      <td>290</td>\n",
       "      <td>210</td>\n",
       "      <td>335</td>\n",
       "      <td>796</td>\n",
       "    </tr>\n",
       "    <tr>\n",
       "      <th>69</th>\n",
       "      <td>2248</td>\n",
       "      <td>1817</td>\n",
       "      <td>1376</td>\n",
       "      <td>811</td>\n",
       "      <td>540</td>\n",
       "      <td>493</td>\n",
       "      <td>419</td>\n",
       "      <td>380</td>\n",
       "      <td>558</td>\n",
       "      <td>302</td>\n",
       "      <td>703</td>\n",
       "      <td>1013</td>\n",
       "    </tr>\n",
       "    <tr>\n",
       "      <th>70</th>\n",
       "      <td>896</td>\n",
       "      <td>713</td>\n",
       "      <td>628</td>\n",
       "      <td>494</td>\n",
       "      <td>374</td>\n",
       "      <td>294</td>\n",
       "      <td>250</td>\n",
       "      <td>217</td>\n",
       "      <td>272</td>\n",
       "      <td>400</td>\n",
       "      <td>567</td>\n",
       "      <td>1029</td>\n",
       "    </tr>\n",
       "    <tr>\n",
       "      <th>71</th>\n",
       "      <td>1240</td>\n",
       "      <td>1982</td>\n",
       "      <td>1147</td>\n",
       "      <td>641</td>\n",
       "      <td>512</td>\n",
       "      <td>420</td>\n",
       "      <td>381</td>\n",
       "      <td>308</td>\n",
       "      <td>354</td>\n",
       "      <td>222</td>\n",
       "      <td>549</td>\n",
       "      <td>998</td>\n",
       "    </tr>\n",
       "    <tr>\n",
       "      <th>72</th>\n",
       "      <td>1882</td>\n",
       "      <td>1396</td>\n",
       "      <td>1072</td>\n",
       "      <td>718</td>\n",
       "      <td>531</td>\n",
       "      <td>394</td>\n",
       "      <td>385</td>\n",
       "      <td>271</td>\n",
       "      <td>261</td>\n",
       "      <td>302</td>\n",
       "      <td>433</td>\n",
       "      <td>916</td>\n",
       "    </tr>\n",
       "    <tr>\n",
       "      <th>73</th>\n",
       "      <td>1252</td>\n",
       "      <td>1614</td>\n",
       "      <td>1326</td>\n",
       "      <td>1048</td>\n",
       "      <td>761</td>\n",
       "      <td>692</td>\n",
       "      <td>564</td>\n",
       "      <td>386</td>\n",
       "      <td>294</td>\n",
       "      <td>483</td>\n",
       "      <td>520</td>\n",
       "      <td>1526</td>\n",
       "    </tr>\n",
       "    <tr>\n",
       "      <th>74</th>\n",
       "      <td>2239</td>\n",
       "      <td>1713</td>\n",
       "      <td>1541</td>\n",
       "      <td>874</td>\n",
       "      <td>950</td>\n",
       "      <td>676</td>\n",
       "      <td>561</td>\n",
       "      <td>416</td>\n",
       "      <td>477</td>\n",
       "      <td>392</td>\n",
       "      <td>721</td>\n",
       "      <td>1352</td>\n",
       "    </tr>\n",
       "    <tr>\n",
       "      <th>75</th>\n",
       "      <td>1114</td>\n",
       "      <td>1161</td>\n",
       "      <td>1377</td>\n",
       "      <td>673</td>\n",
       "      <td>495</td>\n",
       "      <td>425</td>\n",
       "      <td>362</td>\n",
       "      <td>283</td>\n",
       "      <td>325</td>\n",
       "      <td>472</td>\n",
       "      <td>671</td>\n",
       "      <td>1268</td>\n",
       "    </tr>\n",
       "    <tr>\n",
       "      <th>76</th>\n",
       "      <td>3364</td>\n",
       "      <td>2146</td>\n",
       "      <td>948</td>\n",
       "      <td>746</td>\n",
       "      <td>601</td>\n",
       "      <td>527</td>\n",
       "      <td>463</td>\n",
       "      <td>354</td>\n",
       "      <td>241</td>\n",
       "      <td>294</td>\n",
       "      <td>647</td>\n",
       "      <td>880</td>\n",
       "    </tr>\n",
       "    <tr>\n",
       "      <th>77</th>\n",
       "      <td>1092</td>\n",
       "      <td>1737</td>\n",
       "      <td>1758</td>\n",
       "      <td>1448</td>\n",
       "      <td>771</td>\n",
       "      <td>624</td>\n",
       "      <td>460</td>\n",
       "      <td>433</td>\n",
       "      <td>418</td>\n",
       "      <td>477</td>\n",
       "      <td>866</td>\n",
       "      <td>1558</td>\n",
       "    </tr>\n",
       "    <tr>\n",
       "      <th>78</th>\n",
       "      <td>2028</td>\n",
       "      <td>2485</td>\n",
       "      <td>1619</td>\n",
       "      <td>1643</td>\n",
       "      <td>843</td>\n",
       "      <td>696</td>\n",
       "      <td>630</td>\n",
       "      <td>525</td>\n",
       "      <td>705</td>\n",
       "      <td>828</td>\n",
       "      <td>658</td>\n",
       "      <td>1813</td>\n",
       "    </tr>\n",
       "    <tr>\n",
       "      <th>79</th>\n",
       "      <td>1811</td>\n",
       "      <td>1026</td>\n",
       "      <td>1268</td>\n",
       "      <td>807</td>\n",
       "      <td>579</td>\n",
       "      <td>478</td>\n",
       "      <td>426</td>\n",
       "      <td>301</td>\n",
       "      <td>284</td>\n",
       "      <td>455</td>\n",
       "      <td>861</td>\n",
       "      <td>1512</td>\n",
       "    </tr>\n",
       "    <tr>\n",
       "      <th>80</th>\n",
       "      <td>2959</td>\n",
       "      <td>1087</td>\n",
       "      <td>1931</td>\n",
       "      <td>1063</td>\n",
       "      <td>698</td>\n",
       "      <td>628</td>\n",
       "      <td>488</td>\n",
       "      <td>388</td>\n",
       "      <td>298</td>\n",
       "      <td>459</td>\n",
       "      <td>515</td>\n",
       "      <td>1648</td>\n",
       "    </tr>\n",
       "    <tr>\n",
       "      <th>81</th>\n",
       "      <td>2628</td>\n",
       "      <td>1225</td>\n",
       "      <td>910</td>\n",
       "      <td>724</td>\n",
       "      <td>675</td>\n",
       "      <td>740</td>\n",
       "      <td>508</td>\n",
       "      <td>340</td>\n",
       "      <td>262</td>\n",
       "      <td>253</td>\n",
       "      <td>435</td>\n",
       "      <td>665</td>\n",
       "    </tr>\n",
       "    <tr>\n",
       "      <th>82</th>\n",
       "      <td>1814</td>\n",
       "      <td>1655</td>\n",
       "      <td>1245</td>\n",
       "      <td>996</td>\n",
       "      <td>629</td>\n",
       "      <td>648</td>\n",
       "      <td>499</td>\n",
       "      <td>363</td>\n",
       "      <td>351</td>\n",
       "      <td>505</td>\n",
       "      <td>559</td>\n",
       "      <td>980</td>\n",
       "    </tr>\n",
       "    <tr>\n",
       "      <th>83</th>\n",
       "      <td>497</td>\n",
       "      <td>274</td>\n",
       "      <td>330</td>\n",
       "      <td>387</td>\n",
       "      <td>267</td>\n",
       "      <td>252</td>\n",
       "      <td>233</td>\n",
       "      <td>200</td>\n",
       "      <td>143</td>\n",
       "      <td>102</td>\n",
       "      <td>290</td>\n",
       "      <td>544</td>\n",
       "    </tr>\n",
       "    <tr>\n",
       "      <th>84</th>\n",
       "      <td>308</td>\n",
       "      <td>600</td>\n",
       "      <td>806</td>\n",
       "      <td>527</td>\n",
       "      <td>388</td>\n",
       "      <td>328</td>\n",
       "      <td>256</td>\n",
       "      <td>189</td>\n",
       "      <td>401</td>\n",
       "      <td>166</td>\n",
       "      <td>526</td>\n",
       "      <td>897</td>\n",
       "    </tr>\n",
       "    <tr>\n",
       "      <th>85</th>\n",
       "      <td>1650</td>\n",
       "      <td>1123</td>\n",
       "      <td>1186</td>\n",
       "      <td>581</td>\n",
       "      <td>446</td>\n",
       "      <td>637</td>\n",
       "      <td>339</td>\n",
       "      <td>284</td>\n",
       "      <td>229</td>\n",
       "      <td>365</td>\n",
       "      <td>653</td>\n",
       "      <td>650</td>\n",
       "    </tr>\n",
       "    <tr>\n",
       "      <th>86</th>\n",
       "      <td>795</td>\n",
       "      <td>576</td>\n",
       "      <td>595</td>\n",
       "      <td>366</td>\n",
       "      <td>429</td>\n",
       "      <td>354</td>\n",
       "      <td>243</td>\n",
       "      <td>176</td>\n",
       "      <td>130</td>\n",
       "      <td>210</td>\n",
       "      <td>365</td>\n",
       "      <td>534</td>\n",
       "    </tr>\n",
       "    <tr>\n",
       "      <th>87</th>\n",
       "      <td>928</td>\n",
       "      <td>637</td>\n",
       "      <td>800</td>\n",
       "      <td>357</td>\n",
       "      <td>245</td>\n",
       "      <td>238</td>\n",
       "      <td>175</td>\n",
       "      <td>223</td>\n",
       "      <td>195</td>\n",
       "      <td>442</td>\n",
       "      <td>764</td>\n",
       "      <td>925</td>\n",
       "    </tr>\n",
       "    <tr>\n",
       "      <th>88</th>\n",
       "      <td>707</td>\n",
       "      <td>736</td>\n",
       "      <td>1293</td>\n",
       "      <td>777</td>\n",
       "      <td>524</td>\n",
       "      <td>357</td>\n",
       "      <td>286</td>\n",
       "      <td>229</td>\n",
       "      <td>206</td>\n",
       "      <td>218</td>\n",
       "      <td>429</td>\n",
       "      <td>734</td>\n",
       "    </tr>\n",
       "    <tr>\n",
       "      <th>89</th>\n",
       "      <td>951</td>\n",
       "      <td>2347</td>\n",
       "      <td>1394</td>\n",
       "      <td>708</td>\n",
       "      <td>462</td>\n",
       "      <td>397</td>\n",
       "      <td>297</td>\n",
       "      <td>235</td>\n",
       "      <td>180</td>\n",
       "      <td>162</td>\n",
       "      <td>370</td>\n",
       "      <td>1056</td>\n",
       "    </tr>\n",
       "    <tr>\n",
       "      <th>90</th>\n",
       "      <td>1139</td>\n",
       "      <td>986</td>\n",
       "      <td>835</td>\n",
       "      <td>392</td>\n",
       "      <td>306</td>\n",
       "      <td>306</td>\n",
       "      <td>218</td>\n",
       "      <td>194</td>\n",
       "      <td>163</td>\n",
       "      <td>630</td>\n",
       "      <td>739</td>\n",
       "      <td>909</td>\n",
       "    </tr>\n",
       "    <tr>\n",
       "      <th>91</th>\n",
       "      <td>2096</td>\n",
       "      <td>2078</td>\n",
       "      <td>843</td>\n",
       "      <td>663</td>\n",
       "      <td>444</td>\n",
       "      <td>378</td>\n",
       "      <td>295</td>\n",
       "      <td>258</td>\n",
       "      <td>289</td>\n",
       "      <td>452</td>\n",
       "      <td>496</td>\n",
       "      <td>1269</td>\n",
       "    </tr>\n",
       "    <tr>\n",
       "      <th>92</th>\n",
       "      <td>2997</td>\n",
       "      <td>2334</td>\n",
       "      <td>1585</td>\n",
       "      <td>1131</td>\n",
       "      <td>661</td>\n",
       "      <td>614</td>\n",
       "      <td>446</td>\n",
       "      <td>0</td>\n",
       "      <td>0</td>\n",
       "      <td>0</td>\n",
       "      <td>0</td>\n",
       "      <td>0</td>\n",
       "    </tr>\n",
       "  </tbody>\n",
       "</table>\n",
       "</div>"
      ],
      "text/plain": [
       "      0     1     2     3     4     5     6    7     8     9     10    11\n",
       "0   1476  2964  2167  1585  1254   785   607  469   538   662   667  1127\n",
       "1   1908  1898  1534   868   673   632   473  393   388   521   573  1474\n",
       "2   1330   726   696   610   441   356   329  325   295   411   295   692\n",
       "3   1210   699   752   480   333   276   240  204   247   272   320  1285\n",
       "4   1846  2584  1547  1334   909   674   554  468   436   619   527   661\n",
       "5    594   662  1812   942   626   436   365  352   445   351   601  1302\n",
       "6   2600  1589  1112   832   836   620   456  364   307   819   997  2343\n",
       "7   1899  1646  1445   952   850   637   508  481   481   793   914  1647\n",
       "8   2089  1999  1063   957   728   559   483  398   351   398   606  1356\n",
       "9   2018  2425  2077  1144   824   637   513  408   382   464  1043  1554\n",
       "10  1710  1005   973   794   508   458   456  334   607   666   704  1307\n",
       "11  1309  1244  1863  1033   768   637   546  419   390   540   858  1231\n",
       "12  2727  2198  2057  1132   826   680   554  495   442   648   657  1094\n",
       "13  1003  1521  1631   915   618   495   422  347   293   340   508   671\n",
       "14   875  1978  1208   995   628   553   500  349   314   349   765  1585\n",
       "15  3201  1310  1467  1152   756   627   548  430   335   516   690   749\n",
       "16  1775  1840  3757  1677  1034   804   699  548   814   627   714  1331\n",
       "17  1503  1721  1826  1075   769   668   480  419   349   385   765  1263\n",
       "18  1682  2221  1327   951   757   618   467  385   337   399   716  1153\n",
       "19  1559  2519  1581  1185   852   655   592  496   428   485  1059  1649\n",
       "20  1568  1994  1806  1276   899   700   557  476   388   432   377   761\n",
       "21  1214  1881  2356  1386   770   706   507  406   404   382   661   791\n",
       "22   605   680   839  1040   509   409   354  303   307   330   513   813\n",
       "23   743  1261   666   661   632   450   328  273   222   299   420   593\n",
       "24  1186   722   913   665   417   380   280  232   248   284   417  1163\n",
       "25  1103   712  1184   597   564   532   399  430   352   310   416  1165\n",
       "26  1605  1475  1663  1548   952   681   587  465   620   437   784  1202\n",
       "27   955  1535  1249   897   894   752   638  480   585   662   711   847\n",
       "28  1815  1408  1250  1094   693   581   497  465   401   428   668   780\n",
       "29  1564  1646  2119   999   859   651   638  508   397   428   548  1311\n",
       "30  2747  2902  2754  1457  1223   841   676  571   506   426   636   772\n",
       "31  1300  2389  1573   944   796   696   534  472   464   695   833  1454\n",
       "32  1723  1489   994   640   524   442   399  347   297   369   507   334\n",
       "33  1453  1954   823   752   611   469   378  258   225   531   742  1255\n",
       "34  2464  3125  2523  1321  1438  1062   947  777   641   973  1188  1869\n",
       "35  3033  2092  2679  1450  1034   726   581  486   484   805  1343  1856\n",
       "36  3014  2594  1916  1168   880   763   624  546   503   523  1080  1303\n",
       "37  1656   988   959   612   471   409   358  367   363   453   390  1337\n",
       "38  1171  1193   966   636   413   436   338  313   214   478  1241  1143\n",
       "39  1412  1280  1321   761   534   446   430  347   614   527   827   555\n",
       "40   612   357   477   401   310   365   309  218   232   470   533  1546\n",
       "41  1319  1776  1623   892   596   469   618  442   384   694  1132  1290\n",
       "42  1587  1428   920  1133   662   502   438  380   333   486   739  1409\n",
       "43  1830  1064  1544  1118   673   661   512  405   314   411   394  1095\n",
       "44  1460  1555   871   704   502   380   414  261   241   456   987  1196\n",
       "45   958  1143  1266   962   775   753   784  744  1068   917  1373  1915\n",
       "46  1986  1616  1193  1189   698   596   467  363   583   420   832  1449\n",
       "47  1919  1268  1224   756   707   699   495  372   354   494   892  1100\n",
       "48  1385  2413  1422   963   808   642   578  552   733   527   946  1651\n",
       "49  2690  1929  1121  1709   915   784   674  487   492   459   824  1762\n",
       "50  2713  1297  1216   917   698   704   504  469   355   819  1325  2333\n",
       "51  2417  1820  2845  1651  1061   952   760  627   488   769   798  2073\n",
       "52  3506  3230  3046  2327  1572  2303  1308  921  1889  1822  1989  3123\n",
       "53  2192  1315   994   914   861   577   466  482   547   424   631  1326\n",
       "54  2594  2210  2434  1343   881   680   565  476   503   470   759  1036\n",
       "55  1716  1540  1365   806   833   555   565  590   369   294   343  1700\n",
       "56  1945  1757  1209  1232   838   703   548  434   573   459   590  1345\n",
       "57  1303  1788  1421   843   713   645   435  384   321   563   655   810\n",
       "58  1795  1580  1619   893   596   553   487  476   487   437   512  1128\n",
       "59  1364   639  1086   723   630   428   432  405   462   443   384   591\n",
       "60  1926  1981  1764  1915  1032   677   579  425   390   666   458   809\n",
       "61  2875  2406  1408  1052  1003   614   597  448   695   796  1298  1188\n",
       "62  1301  1938  1512  1103   717   727   502  435   457   566   437   705\n",
       "63  1927   845  1224   775   868   563   458  352   273   306   460  1062\n",
       "64   924  2788  1193   998   741   532   471  311   273   637   617   988\n",
       "65  1928  1231  1431   829   664   499   442  389   681   518  1455  1736\n",
       "66  3621  1824  1498  1066   765   863   578  437   405   502   715  1185\n",
       "67  1191  1248   965   676   571   513   362  360   260   501   525  1010\n",
       "68  1681  1410  1545   754   531   502   400  278   290   210   335   796\n",
       "69  2248  1817  1376   811   540   493   419  380   558   302   703  1013\n",
       "70   896   713   628   494   374   294   250  217   272   400   567  1029\n",
       "71  1240  1982  1147   641   512   420   381  308   354   222   549   998\n",
       "72  1882  1396  1072   718   531   394   385  271   261   302   433   916\n",
       "73  1252  1614  1326  1048   761   692   564  386   294   483   520  1526\n",
       "74  2239  1713  1541   874   950   676   561  416   477   392   721  1352\n",
       "75  1114  1161  1377   673   495   425   362  283   325   472   671  1268\n",
       "76  3364  2146   948   746   601   527   463  354   241   294   647   880\n",
       "77  1092  1737  1758  1448   771   624   460  433   418   477   866  1558\n",
       "78  2028  2485  1619  1643   843   696   630  525   705   828   658  1813\n",
       "79  1811  1026  1268   807   579   478   426  301   284   455   861  1512\n",
       "80  2959  1087  1931  1063   698   628   488  388   298   459   515  1648\n",
       "81  2628  1225   910   724   675   740   508  340   262   253   435   665\n",
       "82  1814  1655  1245   996   629   648   499  363   351   505   559   980\n",
       "83   497   274   330   387   267   252   233  200   143   102   290   544\n",
       "84   308   600   806   527   388   328   256  189   401   166   526   897\n",
       "85  1650  1123  1186   581   446   637   339  284   229   365   653   650\n",
       "86   795   576   595   366   429   354   243  176   130   210   365   534\n",
       "87   928   637   800   357   245   238   175  223   195   442   764   925\n",
       "88   707   736  1293   777   524   357   286  229   206   218   429   734\n",
       "89   951  2347  1394   708   462   397   297  235   180   162   370  1056\n",
       "90  1139   986   835   392   306   306   218  194   163   630   739   909\n",
       "91  2096  2078   843   663   444   378   295  258   289   452   496  1269\n",
       "92  2997  2334  1585  1131   661   614   446    0     0     0     0     0"
      ]
     },
     "execution_count": 9,
     "metadata": {},
     "output_type": "execute_result"
    }
   ],
   "source": [
    "Usina = Caso.confhd.get(UHE_Estudo1)\n",
    "print('UHE: ',Usina['nome'])\n",
    "Vazoes = Usina['vazoes']\n",
    "print(\"\\nDimensão Vazões: \",np.shape(Vazoes))\n",
    "\n",
    "df =pd.DataFrame(Vazoes) #Cria um dataFrame com os Dados de Vazão\n",
    "\n",
    "df #Mostra a matriz de Vazoes com o Pandas.\n",
    "\n",
    "#print(df)"
   ]
  },
  {
   "cell_type": "markdown",
   "metadata": {},
   "source": [
    "# 3) Plotagem de todas as Séries Históricas de Vazão da UHE em Estudo:\n",
    "\n",
    "* Em vermelho $\\hspace{0.2cm}$-> Média Histórica mensal ou MLT(Média de Longo Termo).\n",
    "* Em pontilhado -> Média mensal +/- o desvio padrão mensal.\n",
    "* Em azul $\\hspace{0.9cm}$-> Dados de Vazão do Ano corrente(Julho de 2023)."
   ]
  },
  {
   "cell_type": "code",
   "execution_count": 10,
   "metadata": {},
   "outputs": [
    {
     "data": {
      "image/png": "[encoded data removed]",
      "text/plain": [
       "<Figure size 640x480 with 1 Axes>"
      ]
     },
     "metadata": {},
     "output_type": "display_data"
    }
   ],
   "source": [
    "Caso.confhd.plot_vaz(Usina)"
   ]
  },
  {
   "cell_type": "markdown",
   "metadata": {},
   "source": [
    "# 4) Otimização dos Coeficientes $\\phi_{t}$ do Modelo AR:"
   ]
  },
  {
   "cell_type": "markdown",
   "metadata": {},
   "source": [
    "## 4.1) Modelo de Otimização:\n",
    "\n",
    "$ Min \\hspace{0.5cm}  \\epsilon_{Ago,1931}^{2} + \\epsilon_{Ago,1932}^{2} + .... + \\epsilon_{Ago,2021}^{2} + \\epsilon_{Ago,2022}^{2}$\n",
    "\n",
    "**Sujeito a:**\n",
    "\n",
    "* $Z_{Ago,1931} = \\phi_{1} ⋅ Z_{Jul,1931} + \\phi_{2} ⋅ Z_{Jun,1931} +\\phi_{3} ⋅ Z_{Mai,1931} + \\epsilon_{Ago,1931} $\n",
    "\n",
    "* $Z_{Ago,1932} = \\phi_{1} ⋅ Z_{Jul,1932} + \\phi_{2} ⋅ Z_{Jun,1932} +\\phi_{3} ⋅ Z_{Mai,1932} + \\epsilon_{Ago,1932} $\n",
    "\n",
    "* $           .           .     \\hspace{1cm}           .           .     \\hspace{1cm}           .           .     \\hspace{1cm}           .           .     $\n",
    "\n",
    "* $           .           .     \\hspace{1cm}           .           .     \\hspace{1cm}           .           .     \\hspace{1cm}           .           .     $\n",
    "\n",
    "* $Z_{Ago,2022} = \\phi_{1} ⋅ Z_{Jul,2022} + \\phi_{2} ⋅ Z_{Jun,2022} +\\phi_{3} ⋅ Z_{Mai,2022} + \\epsilon_{Ago,2022} $\n",
    "\n",
    "* $Z_{Ago,2023} = \\phi_{1} ⋅ Z_{Jul,2023} + \\phi_{2} ⋅ Z_{Jun,2023} +\\phi_{3} ⋅ Z_{Mai,2023} + \\epsilon_{Ago,2023} $"
   ]
  },
  {
   "cell_type": "markdown",
   "metadata": {},
   "source": [
    "## 4.2 ) Modelo de Otimização da Forma Matricial:\n",
    "\n",
    "$ Min \\hspace{0.5cm}  q^{T} ⋅  X + \\frac{1}{2} ⋅  X^{T} ⋅  P ⋅  X$\n",
    "\n",
    "**Sujeito á:**\n",
    "\n",
    "* $ Aeq = X ⋅ Beq$\n",
    "\n",
    "**Onde:**\n",
    "\n",
    "* $ q^{T} = [0\\hspace{0.3cm}0\\hspace{0.3cm}0\\hspace{0.3cm}0\\hspace{0.3cm}...\\hspace{0.3cm}0\\hspace{0.3cm}0\\hspace{0.3cm}0]$\n",
    "\n",
    "* $X^{T} = [\\phi_{1}\\hspace{0.3cm}\\phi_{2}\\hspace{0.3cm}\\phi_{3}\\hspace{0.3cm}\\epsilon_{Ago,1931}\\hspace{0.3cm}...\\hspace{0.3cm}\\epsilon_{Ago,2022}]$\n",
    "\n",
    "* $P =            [0\\hspace{0.3cm}0\\hspace{0.3cm}0...\\hspace{0.3cm}0...\\hspace{0.3cm}0...\\hspace{0.3cm}0\\hspace{0.3cm}]  $\n",
    "\n",
    "  $\\hspace{0.76cm}[0\\hspace{0.3cm}0\\hspace{0.3cm}0...\\hspace{0.3cm}0...\\hspace{0.3cm}0...\\hspace{0.3cm}0\\hspace{0.3cm}] $\n",
    "\n",
    "  $\\hspace{0.76cm}[0\\hspace{0.3cm}0\\hspace{0.3cm}0...\\hspace{0.3cm}0...\\hspace{0.3cm}0...\\hspace{0.3cm}0\\hspace{0.3cm}] $\n",
    "\n",
    "  $\\hspace{0.76cm}[0\\hspace{0.3cm}0\\hspace{0.3cm}0...\\hspace{0.3cm}2...\\hspace{0.3cm}0...\\hspace{0.3cm}0\\hspace{0.3cm}] $\n",
    "\n",
    "  $\\hspace{0.76cm}[.\\hspace{0.4cm}.\\hspace{0.4cm}....\\hspace{0.4cm}....\\hspace{0.4cm}....\\hspace{0.4cm}.\\hspace{0.3cm}] $\n",
    "\n",
    "  $\\hspace{0.76cm}[0\\hspace{0.3cm}0\\hspace{0.3cm}0...\\hspace{0.3cm}0...\\hspace{0.3cm}2...\\hspace{0.3cm}0\\hspace{0.3cm}] $\n",
    "    \n",
    "  $\\hspace{0.76cm}[0\\hspace{0.3cm}0\\hspace{0.3cm}0...\\hspace{0.3cm}0...\\hspace{0.3cm}0...\\hspace{0.3cm}2\\hspace{0.3cm}] $\n",
    "\n",
    "\n",
    "* $Aeq =          [Z_{Jul,1931}\\hspace{0.3cm}Z_{Jun,1931}\\hspace{0.3cm}Z_{Mai,1931}|\\hspace{0.3cm}1\\hspace{0.3cm}0\\hspace{0.3cm}...\\hspace{0.3cm}0] $\n",
    "\n",
    "  $\\hspace{1.05cm}[Z_{Jul,1932}\\hspace{0.3cm}Z_{Jun,1932}\\hspace{0.3cm}Z_{Mai,1932}|\\hspace{0.3cm}0\\hspace{0.3cm}1\\hspace{0.3cm}...\\hspace{0.3cm}0] $\n",
    "\n",
    "  $\\hspace{1.05cm}[\\hspace{0.5cm}..\\hspace{1.5cm}..\\hspace{1.2cm}..\\hspace{0.6cm}  |\\hspace{0.2cm}..\\hspace{0.4cm}..\\hspace{0.27cm}...\\hspace{0.25cm}..] $\n",
    "\n",
    "  $\\hspace{1.05cm}[Z_{Jul,2021}\\hspace{0.3cm}Z_{Jun,2021}\\hspace{0.3cm}Z_{Mai,2021}|\\hspace{0.3cm}0\\hspace{0.3cm}0\\hspace{0.3cm}...\\hspace{0.3cm}0] $\n",
    "  \n",
    "  $\\hspace{1.05cm}[Z_{Jul,2022}\\hspace{0.3cm}Z_{Jul,2022}\\hspace{0.3cm}Z_{Mai,2022}|\\hspace{0.3cm}0\\hspace{0.3cm}0\\hspace{0.3cm}...\\hspace{0.3cm}1] $\n",
    "\n",
    "* $Beq^{T} =      [Z_{Ago,1931}\\hspace{0.3cm}Z_{Ago,1932}\\hspace{0.3cm}....\\hspace{0.3cm}Z_{Ago,2021}\\hspace{0.3cm}Z_{Ago,2022}]$"
   ]
  },
  {
   "cell_type": "code",
   "execution_count": 11,
   "metadata": {},
   "outputs": [
    {
     "name": "stdout",
     "output_type": "stream",
     "text": [
      "(91, 8)\n",
      "Solução Ótima:\n",
      "\n"
     ]
    }
   ],
   "source": [
    "from cvxopt import matrix, solvers\n",
    "import numpy as np\n",
    "\n",
    "Total_anos = (np.shape(Usina['vazoes'])[0])-2 #91 Anos (tira 2022 e 2023 - Dados de Vazão anual)\n",
    "#print(Total_anos)\n",
    "Ano_Corrente = 2023\n",
    "Anos_Analise = (Ano_Corrente - 1931) - 1 #(exceto o ano de 1931).\n",
    "#print(Anos_Analise)\n",
    "Mes_Analise = 3 #Julho, Junho e Maio.\n",
    "phis = 8        #Phi1,   Phi2 e Phi3.\n",
    "\n",
    "#dicionário de Meses:\n",
    "Mes = { 0 : 'jan',\n",
    "        1 : 'fev',\n",
    "        2 : 'mar',\n",
    "        3 : 'abr',\n",
    "        4 : 'mai',\n",
    "        5 : 'jun',\n",
    "        6 : 'jul',\n",
    "        7 : 'ago',\n",
    "        8 : 'set',\n",
    "        9 : 'out',\n",
    "        10: 'nov',\n",
    "        11: 'dez'\n",
    "    }\n",
    "\n",
    "mes = Mes[7] #Escolha do Mês de Estudo.\n",
    "#print(mes)\n",
    "\n",
    "#---------------------------------------------------------------------------------------------------------------------------\n",
    "\n",
    "def recorte(mes, n):\n",
    "    Num_Mes = None\n",
    "    for k,v in Mes.items():#Encontra o nº de meses usando o dicionário  Mes.\n",
    "        if v == mes:\n",
    "            Num_Mes = k;\n",
    "            #print(k)\n",
    "            #print(Num_Mes)\n",
    "            break\n",
    "    if n == 'Aeq':\n",
    "        if (Num_Mes - phis) >= 0:\n",
    "            Inicio_L = Total_anos - Anos_Analise #Nº Anos - (2023-1931)\n",
    "            Fim_L    = Total_anos                #Nº de anos(91)\n",
    "\n",
    "            Inicio_C = Num_Mes - phis #Nº mes - 3Phis\n",
    "            Fim_C    = Num_Mes        #Nº mes\n",
    "            recorte  = Usina['vazoes'][Inicio_L:Fim_L, Inicio_C:Fim_C]\n",
    "        else:\n",
    "            recorte_ano_atual=  Usina['vazoes'][0:Total_anos, 0:Num_Mes]\n",
    "            shape_ano_atual = np.shape(recorte_ano_atual)\n",
    "            recorte_ano_atual = recorte_ano_atual[:, ::-1]           # Para espelhar a matriz e ficar com os dados de trás para frente\n",
    "\n",
    "            recorte_ano_anterior =  Usina['vazoes'][0:Total_anos, (Num_Mes-phis):]\n",
    "            shape_ano_anterior = np.shape(recorte_ano_anterior)\n",
    "            recorte_ano_anterior = recorte_ano_anterior[:, ::-1]     # Para espelhar a matriz e ficar com os dados de trás para frente\n",
    "\n",
    "            # recorte = matrix(np.concatenate((recorte_ano_atual, recorte_ano_anterior), axis=1))\n",
    "            # return recorte\n",
    "            \n",
    "            if shape_ano_atual[0] == shape_ano_anterior[0]:\n",
    "                recorte = matrix(np.concatenate((recorte_ano_atual, recorte_ano_anterior), axis=1))\n",
    "            else:\n",
    "                print(\"Shapes are not consistent for concatenation.\")\n",
    "                recorte = None\n",
    "\n",
    "\n",
    "    elif n == 'Beq':\n",
    "        Inicio  = Total_anos - Anos_Analise #Nº Anos - (2023-1931)\n",
    "        Fim     = Total_anos                #Nº de anos(91)\n",
    "\n",
    "        Coluna  = Num_Mes        #Nº mes\n",
    "        recorte = Usina['vazoes'][Inicio:Fim, Coluna:Coluna+1]\n",
    "\n",
    "    return recorte\n",
    "\n",
    "#---------------------------------------------------------------------------------------------------------------------------\n",
    "identidade = np.eye(Anos_Analise)\n",
    "#print(np.shape(identidade))\n",
    "\n",
    "\n",
    "#Definição das Matrizes e Vetores do Problema de Otimização:\n",
    "# Aeq.x = Beq\n",
    "Aeq_recorte = recorte(mes, 'Aeq')\n",
    "print(np.shape(Aeq_recorte))\n",
    "#Aeq = np.concatenate((Aeq_recorte, identidade[:-phis, :]), axis=1)\n",
    "#Aeq = matrix(Aeq)\n",
    "Aeq = np.concatenate((recorte(mes, 'Aeq'), identidade), axis=1)\n",
    "Aeq = matrix(Aeq)\n",
    "#print(np.shape(Aeq))\n",
    "\n",
    "Beq = recorte(mes, 'Beq')\n",
    "Beq = [list(map(float, row)) for row in Beq] #percorre cada linha transformando os valores em float\n",
    "Beq = matrix(Beq)\n",
    "#print(np.shape(Beq))\n",
    "\n",
    "#---------------------------------------------------------------------------------------------------------------------------\n",
    "\n",
    "#Definição dos Matrizes e Vetores dos Parametros da Programação Linear:\n",
    "\n",
    "q = np.zeros((Anos_Analise+phis,1))\n",
    "q = matrix(q)  #q = Parte Linear\n",
    "#print(np.shape(q))\n",
    "\n",
    "P = 2 * np.eye(Anos_Analise+phis)\n",
    "\n",
    "for i in range(0, phis):\n",
    "    P[i, i] = 0\n",
    "P = matrix(P) #P = Parte Quadratica\n",
    "#print(P)\n",
    "#print(np.shape(P))\n",
    "\n",
    "A = matrix(0.0, (0, Anos_Analise+phis))  # Empty matrix with zero rows and 94 columns\n",
    "B = matrix(0.0, (0, 1))   # Empty matrix with zero rows and 1 column\n",
    "\n",
    "\n",
    "#---------------------------------------------------------------------------------------------------------------------------\n",
    "\n",
    "# Configurações das opções do solver.\n",
    "solvers.options['show_progress'] = False\n",
    "abstol = 1e-10\n",
    "reltol = 1e-9\n",
    "\n",
    "termoNaoNulo = 1e-6\n",
    "P_array = np.array(P)\n",
    "P_OK = P_array + np.eye(P_array.shape[0])*termoNaoNulo\n",
    "P_OK = matrix(P_OK)\n",
    "\n",
    "sol = solvers.qp(P_OK, q, A, B, Aeq, Beq.T, abstol=abstol, reltol=reltol)\n",
    "\n",
    "print('Solução Ótima:\\n')\n",
    "#print(sol['x'])\n",
    "\n",
    "X = sol['x']\n",
    "dfx = pd.DataFrame(X)\n",
    "#dfx\n"
   ]
  },
  {
   "cell_type": "markdown",
   "metadata": {},
   "source": [
    "# 5) Cálculos para Compreensão"
   ]
  },
  {
   "cell_type": "markdown",
   "metadata": {},
   "source": [
    "## 5.1) Escolha do Mês e Ano Desejado para o Cálculo:\n",
    "\n",
    "* $Z_{Ago,2023} = \\phi_{1} ⋅ Z_{Jul,2023} + \\phi_{2} ⋅ Z_{Jun,2023} +\\phi_{3} ⋅ Z_{Mai,2023} + \\epsilon_{Ago,2023} $"
   ]
  },
  {
   "cell_type": "code",
   "execution_count": 222,
   "metadata": {},
   "outputs": [],
   "source": [
    "Vazoes = Usina['vazoes']\n",
    "\n",
    "df_Vz =pd.DataFrame(Vazoes) #Cria um dataFrame com os Dados de Vazão\n",
    "\n",
    "#df_Vz #Mostra a matriz de Vazoes com o Pandas.\n",
    "\n"
   ]
  },
  {
   "cell_type": "markdown",
   "metadata": {},
   "source": [
    "## 5.2) Cálculando o $Z_t$"
   ]
  },
  {
   "cell_type": "code",
   "execution_count": 18,
   "metadata": {},
   "outputs": [
    {
     "name": "stdout",
     "output_type": "stream",
     "text": [
      "Vazão Natural Afluente de  ago  de  2022 é:  246.62 hm³\n",
      "Vazão Natural Real do mês  ago  de  2022 é:  258 hm³\n"
     ]
    }
   ],
   "source": [
    "\n",
    "for k,v in Mes.items():#Encontra o nº de meses usando o dicionário  Mes.\n",
    "        if v == mes:\n",
    "            Num_Mes = k;\n",
    "#print(Num_Mes) #7 - agosto.\n",
    "\n",
    "#phis = 5 #Nº de phis\n",
    "\n",
    "Inicio_L = Total_anos - Anos_Analise #Nº Anos - (1932 até 2023)\n",
    "#print(Inicio_L) #0\n",
    "Fim_L    = Total_anos                #Nº de anos(91)\n",
    "#print(Fim_L) #91\n",
    "\n",
    "Inicio_C = Num_Mes - phis #Nº mes - 3Phis\n",
    "Fim_C    = Num_Mes        #Nº mes\n",
    "\n",
    "if (Num_Mes - phis)>=0:\n",
    "    recorte  = Usina['vazoes'][Inicio_L:Fim_L, Inicio_C:Fim_C]\n",
    "else:\n",
    "    recorte_ano_atual=  Usina['vazoes'][0:Total_anos, 0:Num_Mes]\n",
    "    shape_ano_atual = np.shape(recorte_ano_atual)\n",
    "    recorte_ano_atual = recorte_ano_atual[:, ::-1]           # Para espelhar a matriz e ficar com os dados de trás para frente\n",
    "\n",
    "    recorte_ano_anterior =  Usina['vazoes'][0:Total_anos, (Num_Mes-phis):]\n",
    "    shape_ano_anterior = np.shape(recorte_ano_anterior)\n",
    "    recorte_ano_anterior = recorte_ano_anterior[:, ::-1]     # Para espelhar a matriz e ficar com os dados de trás para frente\n",
    "\n",
    "    # recorte = matrix(np.concatenate((recorte_ano_atual, recorte_ano_anterior), axis=1))\n",
    "    # return recorte\n",
    "    \n",
    "    if shape_ano_atual[0] == shape_ano_anterior[0]:\n",
    "        recorte = matrix(np.concatenate((recorte_ano_atual, recorte_ano_anterior), axis=1))\n",
    "    else:\n",
    "        print(\"Shapes are not consistent for concatenation.\")\n",
    "        recorte = None\n",
    "#print(np.shape(recorte_Z))\n",
    "#Criação Dataframe de vazões:\n",
    "\n",
    "dfz = pd.DataFrame(recorte)\n",
    "#dfz\n",
    "\n",
    "#---------------------------------------------------------------------------------------------------------------------------------------------------------------------------\n",
    "X = sol['x']\n",
    "#X = sol3['x']\n",
    "dfx = pd.DataFrame(X)\n",
    "#dfx\n",
    "\n",
    "\n",
    "PHIs = []\n",
    "for i in range(0,phis):\n",
    "    PHIs.append(X[i])\n",
    "PHIs = np.array(PHIs).reshape(-1, 1)\n",
    "#print(np.shape(PHIs))\n",
    "#print(PHIs)\n",
    "\n",
    "erro = []\n",
    "for i in range(phis,len(X)):\n",
    "    erro.append(X[i])\n",
    "erro = np.array(erro).reshape(-1, 1)\n",
    "#print(np.shape(erro))\n",
    "#print(erro)\n",
    "\n",
    "\n",
    "\n",
    "#---------------------------------------------------------------------------------------------------------------------------------------------------------------------------\n",
    "\n",
    "ano_inicial = 1932\n",
    "anos = [ano_inicial + i for i in range(Total_anos)]\n",
    "anos = np.array(anos).reshape(-1, 1)\n",
    "#print(anos[0])\n",
    "\n",
    "\n",
    "#---------------------------------------------------------------------------------------------------------------------------------------------------------------------------\n",
    "\n",
    "Ano_analise = 2022\n",
    "Id = Ano_analise - ano_inicial\n",
    "#print('Id:',Id)\n",
    "\n",
    "\n",
    "\n",
    "Z = 0\n",
    "j = 0\n",
    "\n",
    "phis_ano_anterior = abs(((Num_Mes+1) - phis)) + 1\n",
    "\n",
    "# # se ficar no mesmo no mesmo ano\n",
    "# if ((Num_Mes+1) - phis  >= 0):\n",
    "#     for i in range(phis):\n",
    "#         Z += PHIs[i] * Usina['vazoes'][Ano_analise-1931][Num_Mes-i-1]\n",
    "#     #Z += erros[ano_previsao-1932]\n",
    "# else: # tem que ir pra outro ano\n",
    "#     for i in range(phis-phis_ano_anterior):\n",
    "#         Z += PHIs[i] * Usina['vazoes'][Ano_analise-1931][Num_Mes-i-1]\n",
    "#     for i in range(phis_ano_anterior):\n",
    "#         Z += PHIs[phis-phis_ano_anterior+i] * Usina['vazoes'][Ano_analise-1-1931][11-i]\n",
    "\n",
    "# Calculate value Z based on conditions\n",
    "Z = 0\n",
    "for i in range(phis):\n",
    "    if (Num_Mes + 1) - phis >= 0:\n",
    "        Z += PHIs[i] * Usina['vazoes'][Ano_analise - 1931][Num_Mes - i - 1]\n",
    "    else:\n",
    "        Z += PHIs[i] * Usina['vazoes'][Ano_analise - 1931][Num_Mes - i - 1]\n",
    "\n",
    "    if (Num_Mes + 1) - phis < 0:\n",
    "        for j in range(phis - phis_ano_anterior):\n",
    "            Z += PHIs[j] * Usina['vazoes'][Ano_analise - 1931][Num_Mes - j - 1]\n",
    "        for k in range(phis_ano_anterior):\n",
    "            Z += PHIs[phis - phis_ano_anterior + k] * Usina['vazoes'][Ano_analise - 1 - 1931][11 - k]\n",
    "\n",
    "\n",
    "\n",
    "\n",
    "# for i in reversed(range(len(PHIs))):\n",
    "#     #print(Z)\n",
    "#     Z = Z + PHIs[j]*recorte_Z[Id][i]\n",
    "#     #print(j)\n",
    "#     #print(PHIs[j])\n",
    "#     #print(i)\n",
    "#     #print(recorte_Z[Id][i])\n",
    "#     #print(Z)\n",
    "#     #print('\\n')\n",
    "    \n",
    "#     j+=1\n",
    "# #print(Z)\n",
    "Z = Z +erro[Id]\n",
    "# #print(erro[Id-1])\n",
    "\n",
    "\n",
    "\n",
    "print('Vazão Natural Afluente de ',mes,' de ',Ano_analise, 'é: ',np.round(Z[0],2),'hm³')\n",
    "\n",
    "#print(recorte_Z[92])\n",
    "#dfz.loc[Id]\n",
    "#dfz\n",
    "#dfx\n",
    "\n",
    "\n",
    "#------------------------------------------\n",
    "\n",
    "for k,v in Mes.items():#Encontra o nº de meses usando o dicionário  Mes.\n",
    "        if v == mes:\n",
    "            Num_Mes = k;\n",
    "\n",
    "real_value = Usina['vazoes'][Ano_analise-1931, Num_Mes]\n",
    "print('Vazão Natural Real do mês ',mes,' de ',Ano_analise, 'é: ', real_value, \"hm³\")"
   ]
  },
  {
   "cell_type": "markdown",
   "metadata": {},
   "source": [
    "# 6) Funções Solução:"
   ]
  },
  {
   "cell_type": "markdown",
   "metadata": {},
   "source": [
    "## 6.1) Função de Otimização:"
   ]
  },
  {
   "cell_type": "code",
   "execution_count": 19,
   "metadata": {},
   "outputs": [],
   "source": [
    "from cvxopt import matrix, solvers\n",
    "import numpy as np\n",
    "\n",
    "def optimiza(Usina, Ano_Corrente, Mes_Analise, phis):\n",
    "    Total_anos = (np.shape(Usina['vazoes'])[0]) - 2  # 91 Anos (tira 2022 e 2023 - Dados de Vazão anual)\n",
    "    Anos_Analise = (Ano_Corrente - 1931) - 1  # (exceto o ano de 1931).\n",
    "    Mes = {0: 'jan', 1: 'fev', 2: 'mar', 3: 'abr', 4: 'mai', 5: 'jun', 6: 'jul', 7: 'ago', 8: 'set', 9: 'out', 10: 'nov', 11: 'dez'}\n",
    "    mes = Mes[Mes_Analise]\n",
    "\n",
    "    # Define the recorte function\n",
    "    def recorte(mes, n):\n",
    "        Num_Mes = None\n",
    "        for k, v in Mes.items():\n",
    "            if v == mes:\n",
    "                Num_Mes = k\n",
    "                break\n",
    "        if n == 'Aeq':\n",
    "            if (Num_Mes - phis) >= 0:\n",
    "                Inicio_L = Total_anos - Anos_Analise\n",
    "                Fim_L = Total_anos\n",
    "\n",
    "                Inicio_C = Num_Mes - phis\n",
    "                Fim_C = Num_Mes\n",
    "                recorte = Usina['vazoes'][Inicio_L:Fim_L, Inicio_C:Fim_C]\n",
    "            else:\n",
    "                recorte_ano_atual = Usina['vazoes'][0:Total_anos, 0:Num_Mes]\n",
    "                shape_ano_atual = np.shape(recorte_ano_atual)\n",
    "                recorte_ano_atual = recorte_ano_atual[:, ::-1]\n",
    "\n",
    "                recorte_ano_anterior = Usina['vazoes'][0:Total_anos, (Num_Mes - phis):]\n",
    "                shape_ano_anterior = np.shape(recorte_ano_anterior)\n",
    "                recorte_ano_anterior = recorte_ano_anterior[:, ::-1]\n",
    "\n",
    "                if shape_ano_atual[0] == shape_ano_anterior[0]:\n",
    "                    recorte = matrix(np.concatenate((recorte_ano_atual, recorte_ano_anterior), axis=1))\n",
    "                else:\n",
    "                    print(\"Shapes are not consistent for concatenation.\")\n",
    "                    recorte = None\n",
    "\n",
    "        elif n == 'Beq':\n",
    "            Inicio = Total_anos - Anos_Analise\n",
    "            Fim = Total_anos\n",
    "            Coluna = Num_Mes\n",
    "            recorte = Usina['vazoes'][Inicio:Fim, Coluna:Coluna + 1]\n",
    "\n",
    "        return recorte\n",
    "\n",
    "    identidade = np.eye(Anos_Analise)\n",
    "\n",
    "    # Definição das Matrizes e Vetores do Problema de Otimização:\n",
    "    # Aeq.x = Beq\n",
    "    Aeq_recorte = recorte(mes, 'Aeq')\n",
    "    Aeq = np.concatenate((Aeq_recorte, identidade), axis=1)\n",
    "    Aeq = matrix(Aeq)\n",
    "\n",
    "    Beq = recorte(mes, 'Beq')\n",
    "    Beq = [list(map(float, row)) for row in Beq]\n",
    "    Beq = matrix(Beq)\n",
    "\n",
    "    # Definição dos Matrizes e Vetores dos Parametros da Programação Linear:\n",
    "    q = np.zeros((Anos_Analise + phis, 1))\n",
    "    q = matrix(q)\n",
    "\n",
    "    P = 2 * np.eye(Anos_Analise + phis)\n",
    "    for i in range(0, phis):\n",
    "        P[i, i] = 0\n",
    "    P = matrix(P)\n",
    "\n",
    "    A = matrix(0.0, (0, Anos_Analise + phis))\n",
    "    B = matrix(0.0, (0, 1))\n",
    "\n",
    "\n",
    "    # Configurações das opções do solver.\n",
    "    solvers.options['show_progress'] = False\n",
    "    abstol = 1e-10\n",
    "    reltol = 1e-9\n",
    "    termoNaoNulo = 1e-6\n",
    "    P_array = np.array(P)\n",
    "    P_OK = P_array + np.eye(P_array.shape[0]) * termoNaoNulo\n",
    "    P_OK = matrix(P_OK)\n",
    "\n",
    "    # Solve the quadratic programming problem\n",
    "    sol = solvers.qp(P_OK, q, A, B, Aeq, Beq.T, abstol=abstol, reltol=reltol)\n",
    "\n",
    "    X = sol['x']\n",
    "    return X\n",
    "\n",
    "\n"
   ]
  },
  {
   "cell_type": "markdown",
   "metadata": {},
   "source": [
    "### 6.1.1) Otimização Principal:"
   ]
  },
  {
   "cell_type": "code",
   "execution_count": 20,
   "metadata": {},
   "outputs": [],
   "source": [
    "#Usina_data = {'vazoes': np.random.rand(91, 12)}  # Replace with your actual data\n",
    "Ano_Corrente = 2023\n",
    "Mes_Analise = 7 # Agosto\n",
    "phis = 8\n",
    "\n",
    "resultado = optimiza(Usina, Ano_Corrente, Mes_Analise, phis)\n",
    "#print(np.shape(resultado))"
   ]
  },
  {
   "cell_type": "markdown",
   "metadata": {},
   "source": [
    "## 6.2) Função Cálcula Vazão ($Z_{t}$):"
   ]
  },
  {
   "cell_type": "code",
   "execution_count": 26,
   "metadata": {},
   "outputs": [],
   "source": [
    "import pandas as pd\n",
    "import numpy as np\n",
    "from numpy import matrix\n",
    "\n",
    "def calcular_vazao(mes, Total_anos, Anos_Analise, phis, Usina, sol, Mes, Ano_analise, imprime):\n",
    "    Num_Mes = None\n",
    "    for k, v in Mes.items():\n",
    "        if v == mes:\n",
    "            Num_Mes = k\n",
    "            \n",
    "    if Num_Mes is None:\n",
    "        print('Mês não encontrado no dicionário Mes.')\n",
    "        return\n",
    "    \n",
    "    Inicio_L = Total_anos - Anos_Analise\n",
    "    Fim_L    = Total_anos\n",
    "    Inicio_C = Num_Mes - phis\n",
    "    Fim_C    = Num_Mes\n",
    "    \n",
    "    if (Num_Mes - phis) >= 0:\n",
    "        recorte  = Usina['vazoes'][Inicio_L:Fim_L, Inicio_C:Fim_C]\n",
    "    else:\n",
    "        recorte_ano_atual =  Usina['vazoes'][0:Total_anos, 0:Num_Mes]\n",
    "        shape_ano_atual = np.shape(recorte_ano_atual)\n",
    "        recorte_ano_atual = recorte_ano_atual[:, ::-1]\n",
    "\n",
    "        recorte_ano_anterior =  Usina['vazoes'][0:Total_anos, (Num_Mes - phis):]\n",
    "        shape_ano_anterior = np.shape(recorte_ano_anterior)\n",
    "        recorte_ano_anterior = recorte_ano_anterior[:, ::-1]\n",
    "        \n",
    "        if shape_ano_atual[0] == shape_ano_anterior[0]:\n",
    "            recorte = matrix(np.concatenate((recorte_ano_atual, recorte_ano_anterior), axis=1))\n",
    "        else:\n",
    "            print(\"Shapes are not consistent for concatenation.\")\n",
    "            recorte = None\n",
    "            \n",
    "    dfz = pd.DataFrame(recorte)\n",
    "    X = sol\n",
    "    dfx = pd.DataFrame(X)\n",
    "    \n",
    "    PHIs = []\n",
    "    for i in range(0, phis):\n",
    "        PHIs.append(X[i])\n",
    "    PHIs = np.array(PHIs).reshape(-1, 1)\n",
    "    \n",
    "    erro = []\n",
    "    for i in range(phis, len(X)):\n",
    "        erro.append(X[i])\n",
    "    erro = np.array(erro).reshape(-1, 1)\n",
    "    \n",
    "    ano_inicial = 1932\n",
    "    anos = [ano_inicial + i for i in range(Total_anos)]\n",
    "    anos = np.array(anos).reshape(-1, 1)\n",
    "    \n",
    "    Id = Ano_analise - ano_inicial\n",
    "    \n",
    "    Z = 0\n",
    "    j = 0\n",
    "    phis_ano_anterior = abs(((Num_Mes + 1) - phis)) + 1\n",
    "\n",
    "    for i in range(phis):\n",
    "        if (Num_Mes + 1) - phis >= 0:\n",
    "            Z += PHIs[i] * Usina['vazoes'][Ano_analise - 1931][Num_Mes - i - 1]\n",
    "        else:\n",
    "            Z += PHIs[i] * Usina['vazoes'][Ano_analise - 1931][Num_Mes - i - 1]\n",
    "\n",
    "    if (Num_Mes + 1) - phis < 0:\n",
    "        for j in range(phis - phis_ano_anterior):\n",
    "            Z += PHIs[j] * Usina['vazoes'][Ano_analise - 1931][Num_Mes - j - 1]\n",
    "        for k in range(phis_ano_anterior):\n",
    "            Z += PHIs[phis - phis_ano_anterior + k] * Usina['vazoes'][Ano_analise - 1 - 1931][11 - k]\n",
    "\n",
    "    Z = Z + erro[Id]\n",
    "    if imprime == True:\n",
    "        print('Vazão Natural Afluente de', mes, 'de', Ano_analise, 'é:', np.round(Z[0], 2), 'hm³')\n",
    "\n",
    "        real_value = Usina['vazoes'][Ano_analise - 1931, Num_Mes]\n",
    "        print('Vazão Natural Real do mês', mes, 'de', Ano_analise, 'é:', real_value, \"hm³\")\n",
    "    return Z"
   ]
  },
  {
   "cell_type": "markdown",
   "metadata": {},
   "source": [
    "### 6.2.1) Cálculo da Vazão:"
   ]
  },
  {
   "cell_type": "code",
   "execution_count": 27,
   "metadata": {},
   "outputs": [
    {
     "name": "stdout",
     "output_type": "stream",
     "text": [
      "Vazão Natural Afluente de ago de 2022 é: 246.62 hm³\n",
      "Vazão Natural Real do mês ago de 2022 é: 258 hm³\n"
     ]
    }
   ],
   "source": [
    "Total_anos = (np.shape(Usina['vazoes'])[0]) - 2  # 91 Anos (tira 2022 e 2023 - Dados de Vazão anual)\n",
    "Ano_Corrente = 2023\n",
    "Anos_Analise = (Ano_Corrente - 1931) - 1 #(exceto o ano de 1931).\n",
    "phis = 8        #Phi1,   Phi2 e Phi3.\n",
    "Mes = {0: 'jan', 1: 'fev', 2: 'mar', 3: 'abr', 4: 'mai', 5: 'jun', 6: 'jul', 7: 'ago', 8: 'set', 9: 'out', 10: 'nov', 11: 'dez'}\n",
    "Num_Mes = 7 #Agosto.\n",
    "\n",
    "for k, v in Mes.items():\n",
    "    if k == Num_Mes:\n",
    "        mes = v\n",
    "\n",
    "\n",
    "Ano_previsao = 2022\n",
    "\n",
    "\n",
    "Zt = calcular_vazao(mes, Total_anos, Anos_Analise, phis, Usina, resultado, Mes, Ano_previsao, imprime=True)"
   ]
  },
  {
   "cell_type": "markdown",
   "metadata": {},
   "source": [
    "## 6.3) Lógica Plota Gráfico:"
   ]
  },
  {
   "cell_type": "code",
   "execution_count": null,
   "metadata": {},
   "outputs": [],
   "source": [
    "import plotly.graph_objects as go\n",
    "\n",
    "anos_previsao = [2021, 2022]\n",
    "phis_values =  [1, 3, 5, 7, 9, 11]\n",
    "\n",
    "for ano_previsao in anos_previsao:\n",
    "    real_values = []\n",
    "    previsao_values = {phi: [] for phi in phis_values}\n",
    "    \n",
    "    # Calculando os valores reais uma vez, já que eles são constantes\n",
    "    for k, mes_name in Mes.items():\n",
    "        real_value = Usina['vazoes'][ano_previsao - 1932, k - 1]\n",
    "        real_values.append(real_value)\n",
    "\n",
    "    # Loop para variar o número de phis e calcular as previsões\n",
    "    for phi in phis_values:\n",
    "        z_values = []\n",
    "        for k, mes_name in Mes.items():\n",
    "            resultado = optimiza(Usina, Ano_Corrente, Mes_Analise, phi)\n",
    "            # Certifique-se de que resultado seja a estrutura correta para acessar os valores otimizados\n",
    "            X = resultado\n",
    "            Zt = calcular_vazao(mes_name, Total_anos, Anos_Analise, phi, Usina, X, Mes, ano_previsao, imprime=False)\n",
    "            z_values.append(Zt.tolist()[0])  # Extrai o valor real do array\n",
    "        previsao_values[phi] = z_values\n",
    "\n",
    "    # Criando o gráfico Plotly\n",
    "    fig = go.Figure()\n",
    "\n",
    "    for phi in phis_values:\n",
    "        fig.add_trace(go.Scatter(x=list(range(1, 13)), y=previsao_values[phi], mode='lines', name=f'Previsão (phi={phi})'))\n",
    "\n",
    "    fig.add_trace(go.Scatter(x=list(range(1, 13)), y=real_values, mode='lines', name='Valor Real', line=dict(dash='dash')))\n",
    "    \n",
    "    fig.update_layout(\n",
    "        xaxis_title='Mês',\n",
    "        yaxis_title='Valor',\n",
    "        title=f'Valores da Previsão e Valores Reais para o Ano {ano_previsao}',\n",
    "        legend=dict(orientation='h', yanchor='bottom', y=1.02, xanchor='right', x=1)\n",
    "    )\n",
    "    \n",
    "    fig.show()\n"
   ]
  },
  {
   "cell_type": "markdown",
   "metadata": {},
   "source": [
    "#  Graph"
   ]
  },
  {
   "cell_type": "code",
   "execution_count": 30,
   "metadata": {},
   "outputs": [],
   "source": [
    "import plotly.graph_objects as go\n",
    "\n",
    "def plot_previsao_valores_reais(ano_previsao, phis_values):\n",
    "    real_values = []\n",
    "    previsao_values = {phi: [] for phi in phis_values}\n",
    "    \n",
    "    # Calculando os valores reais uma vez, já que eles são constantes\n",
    "    for k, mes_name in Mes.items():\n",
    "        real_value = Usina['vazoes'][ano_previsao - 1932, k - 1]\n",
    "        real_values.append(real_value)\n",
    "\n",
    "    # Loop para variar o número de phis e calcular as previsões\n",
    "    for phi in phis_values:\n",
    "        z_values = []\n",
    "        for k, mes_name in Mes.items():\n",
    "            resultado = optimiza(Usina, Ano_Corrente, Mes_Analise, phi)\n",
    "            # Certifique-se de que resultado seja a estrutura correta para acessar os valores otimizados\n",
    "            X = resultado\n",
    "            Zt = calcular_vazao(mes_name, Total_anos, Anos_Analise, phi, Usina, X, Mes, ano_previsao, imprime=False)\n",
    "            z_values.append(Zt.tolist()[0])  # Extrai o valor real do array\n",
    "        previsao_values[phi] = z_values\n",
    "\n",
    "    # Criando o gráfico Plotly\n",
    "    fig = go.Figure()\n",
    "\n",
    "    for phi in phis_values:\n",
    "        fig.add_trace(go.Scatter(x=list(range(1, 13)), y=previsao_values[phi], mode='lines', name=f'Previsão (phi={phi})'))\n",
    "\n",
    "    fig.add_trace(go.Scatter(x=list(range(1, 13)), y=real_values, mode='lines', name='Valor Real', line=dict(dash='dash')))\n",
    "    \n",
    "    fig.update_layout(\n",
    "        xaxis_title='Mês',\n",
    "        yaxis_title='Valor',\n",
    "        title=f'Valores da Previsão e Valores Reais para o Ano {ano_previsao}',\n",
    "        legend=dict(orientation='h', yanchor='bottom', y=1.02, xanchor='right', x=1)\n",
    "    )\n",
    "    \n",
    "    fig.show()\n",
    "\n"
   ]
  },
  {
   "cell_type": "code",
   "execution_count": 449,
   "metadata": {},
   "outputs": [
    {
     "data": {
      "application/vnd.plotly.v1+json": {
       "config": {
        "plotlyServerURL": "https://plot.ly"
       },
       "data": [
        {
         "mode": "lines",
         "name": "Previsão (phi=1)",
         "type": "scatter",
         "x": [
          1,
          2,
          3,
          4,
          5,
          6,
          7,
          8,
          9,
          10,
          11,
          12
         ],
         "y": [
          777.5892778328814,
          1784.1216544649758,
          1432.8540801099696,
          1073.4364460251488,
          612.9580712906279,
          392.09145261265417,
          353.7861718825259,
          293.47572988189836,
          261.6904969356217,
          406.7615601263203,
          198.12003104306834,
          524.937426208631
         ]
        },
        {
         "mode": "lines",
         "name": "Previsão (phi=2)",
         "type": "scatter",
         "x": [
          1,
          2,
          3,
          4,
          5,
          6,
          7,
          8,
          9,
          10,
          11,
          12
         ],
         "y": [
          744.8399629385785,
          675.9739447326974,
          1885.251433023961,
          1524.237856635602,
          1166.584272304328,
          661.6487916500882,
          410.89795566514294,
          374.2026820720748,
          308.4312345774488,
          253.2852910400943,
          447.5783765257911,
          164.75992686465543
         ]
        },
        {
         "mode": "lines",
         "name": "Previsão (phi=9)",
         "type": "scatter",
         "x": [
          1,
          2,
          3,
          4,
          5,
          6,
          7,
          8,
          9,
          10,
          11,
          12
         ],
         "y": [
          1353.7357743411528,
          3513.1149660377964,
          2568.910404625462,
          2153.311792346762,
          1173.8601304172741,
          848.9173292695748,
          736.1879586755501,
          630.2351593553292,
          298.17365441017023,
          427.2689647554623,
          192.56203580193392,
          546.8158401130902
         ]
        },
        {
         "line": {
          "dash": "dash"
         },
         "mode": "lines",
         "name": "Valor Real",
         "type": "scatter",
         "x": [
          1,
          2,
          3,
          4,
          5,
          6,
          7,
          8,
          9,
          10,
          11,
          12
         ],
         "y": [
          796,
          1681,
          1410,
          1545,
          754,
          531,
          502,
          400,
          278,
          290,
          210,
          335
         ]
        }
       ],
       "layout": {
        "legend": {
         "orientation": "h",
         "x": 1,
         "xanchor": "right",
         "y": 1.02,
         "yanchor": "bottom"
        },
        "template": {
         "data": {
          "bar": [
           {
            "error_x": {
             "color": "#2a3f5f"
            },
            "error_y": {
             "color": "#2a3f5f"
            },
            "marker": {
             "line": {
              "color": "#E5ECF6",
              "width": 0.5
             },
             "pattern": {
              "fillmode": "overlay",
              "size": 10,
              "solidity": 0.2
             }
            },
            "type": "bar"
           }
          ],
          "barpolar": [
           {
            "marker": {
             "line": {
              "color": "#E5ECF6",
              "width": 0.5
             },
             "pattern": {
              "fillmode": "overlay",
              "size": 10,
              "solidity": 0.2
             }
            },
            "type": "barpolar"
           }
          ],
          "carpet": [
           {
            "aaxis": {
             "endlinecolor": "#2a3f5f",
             "gridcolor": "white",
             "linecolor": "white",
             "minorgridcolor": "white",
             "startlinecolor": "#2a3f5f"
            },
            "baxis": {
             "endlinecolor": "#2a3f5f",
             "gridcolor": "white",
             "linecolor": "white",
             "minorgridcolor": "white",
             "startlinecolor": "#2a3f5f"
            },
            "type": "carpet"
           }
          ],
          "choropleth": [
           {
            "colorbar": {
             "outlinewidth": 0,
             "ticks": ""
            },
            "type": "choropleth"
           }
          ],
          "contour": [
           {
            "colorbar": {
             "outlinewidth": 0,
             "ticks": ""
            },
            "colorscale": [
             [
              0,
              "#0d0887"
             ],
             [
              0.1111111111111111,
              "#46039f"
             ],
             [
              0.2222222222222222,
              "#7201a8"
             ],
             [
              0.3333333333333333,
              "#9c179e"
             ],
             [
              0.4444444444444444,
              "#bd3786"
             ],
             [
              0.5555555555555556,
              "#d8576b"
             ],
             [
              0.6666666666666666,
              "#ed7953"
             ],
             [
              0.7777777777777778,
              "#fb9f3a"
             ],
             [
              0.8888888888888888,
              "#fdca26"
             ],
             [
              1,
              "#f0f921"
             ]
            ],
            "type": "contour"
           }
          ],
          "contourcarpet": [
           {
            "colorbar": {
             "outlinewidth": 0,
             "ticks": ""
            },
            "type": "contourcarpet"
           }
          ],
          "heatmap": [
           {
            "colorbar": {
             "outlinewidth": 0,
             "ticks": ""
            },
            "colorscale": [
             [
              0,
              "#0d0887"
             ],
             [
              0.1111111111111111,
              "#46039f"
             ],
             [
              0.2222222222222222,
              "#7201a8"
             ],
             [
              0.3333333333333333,
              "#9c179e"
             ],
             [
              0.4444444444444444,
              "#bd3786"
             ],
             [
              0.5555555555555556,
              "#d8576b"
             ],
             [
              0.6666666666666666,
              "#ed7953"
             ],
             [
              0.7777777777777778,
              "#fb9f3a"
             ],
             [
              0.8888888888888888,
              "#fdca26"
             ],
             [
              1,
              "#f0f921"
             ]
            ],
            "type": "heatmap"
           }
          ],
          "heatmapgl": [
           {
            "colorbar": {
             "outlinewidth": 0,
             "ticks": ""
            },
            "colorscale": [
             [
              0,
              "#0d0887"
             ],
             [
              0.1111111111111111,
              "#46039f"
             ],
             [
              0.2222222222222222,
              "#7201a8"
             ],
             [
              0.3333333333333333,
              "#9c179e"
             ],
             [
              0.4444444444444444,
              "#bd3786"
             ],
             [
              0.5555555555555556,
              "#d8576b"
             ],
             [
              0.6666666666666666,
              "#ed7953"
             ],
             [
              0.7777777777777778,
              "#fb9f3a"
             ],
             [
              0.8888888888888888,
              "#fdca26"
             ],
             [
              1,
              "#f0f921"
             ]
            ],
            "type": "heatmapgl"
           }
          ],
          "histogram": [
           {
            "marker": {
             "pattern": {
              "fillmode": "overlay",
              "size": 10,
              "solidity": 0.2
             }
            },
            "type": "histogram"
           }
          ],
          "histogram2d": [
           {
            "colorbar": {
             "outlinewidth": 0,
             "ticks": ""
            },
            "colorscale": [
             [
              0,
              "#0d0887"
             ],
             [
              0.1111111111111111,
              "#46039f"
             ],
             [
              0.2222222222222222,
              "#7201a8"
             ],
             [
              0.3333333333333333,
              "#9c179e"
             ],
             [
              0.4444444444444444,
              "#bd3786"
             ],
             [
              0.5555555555555556,
              "#d8576b"
             ],
             [
              0.6666666666666666,
              "#ed7953"
             ],
             [
              0.7777777777777778,
              "#fb9f3a"
             ],
             [
              0.8888888888888888,
              "#fdca26"
             ],
             [
              1,
              "#f0f921"
             ]
            ],
            "type": "histogram2d"
           }
          ],
          "histogram2dcontour": [
           {
            "colorbar": {
             "outlinewidth": 0,
             "ticks": ""
            },
            "colorscale": [
             [
              0,
              "#0d0887"
             ],
             [
              0.1111111111111111,
              "#46039f"
             ],
             [
              0.2222222222222222,
              "#7201a8"
             ],
             [
              0.3333333333333333,
              "#9c179e"
             ],
             [
              0.4444444444444444,
              "#bd3786"
             ],
             [
              0.5555555555555556,
              "#d8576b"
             ],
             [
              0.6666666666666666,
              "#ed7953"
             ],
             [
              0.7777777777777778,
              "#fb9f3a"
             ],
             [
              0.8888888888888888,
              "#fdca26"
             ],
             [
              1,
              "#f0f921"
             ]
            ],
            "type": "histogram2dcontour"
           }
          ],
          "mesh3d": [
           {
            "colorbar": {
             "outlinewidth": 0,
             "ticks": ""
            },
            "type": "mesh3d"
           }
          ],
          "parcoords": [
           {
            "line": {
             "colorbar": {
              "outlinewidth": 0,
              "ticks": ""
             }
            },
            "type": "parcoords"
           }
          ],
          "pie": [
           {
            "automargin": true,
            "type": "pie"
           }
          ],
          "scatter": [
           {
            "fillpattern": {
             "fillmode": "overlay",
             "size": 10,
             "solidity": 0.2
            },
            "type": "scatter"
           }
          ],
          "scatter3d": [
           {
            "line": {
             "colorbar": {
              "outlinewidth": 0,
              "ticks": ""
             }
            },
            "marker": {
             "colorbar": {
              "outlinewidth": 0,
              "ticks": ""
             }
            },
            "type": "scatter3d"
           }
          ],
          "scattercarpet": [
           {
            "marker": {
             "colorbar": {
              "outlinewidth": 0,
              "ticks": ""
             }
            },
            "type": "scattercarpet"
           }
          ],
          "scattergeo": [
           {
            "marker": {
             "colorbar": {
              "outlinewidth": 0,
              "ticks": ""
             }
            },
            "type": "scattergeo"
           }
          ],
          "scattergl": [
           {
            "marker": {
             "colorbar": {
              "outlinewidth": 0,
              "ticks": ""
             }
            },
            "type": "scattergl"
           }
          ],
          "scattermapbox": [
           {
            "marker": {
             "colorbar": {
              "outlinewidth": 0,
              "ticks": ""
             }
            },
            "type": "scattermapbox"
           }
          ],
          "scatterpolar": [
           {
            "marker": {
             "colorbar": {
              "outlinewidth": 0,
              "ticks": ""
             }
            },
            "type": "scatterpolar"
           }
          ],
          "scatterpolargl": [
           {
            "marker": {
             "colorbar": {
              "outlinewidth": 0,
              "ticks": ""
             }
            },
            "type": "scatterpolargl"
           }
          ],
          "scatterternary": [
           {
            "marker": {
             "colorbar": {
              "outlinewidth": 0,
              "ticks": ""
             }
            },
            "type": "scatterternary"
           }
          ],
          "surface": [
           {
            "colorbar": {
             "outlinewidth": 0,
             "ticks": ""
            },
            "colorscale": [
             [
              0,
              "#0d0887"
             ],
             [
              0.1111111111111111,
              "#46039f"
             ],
             [
              0.2222222222222222,
              "#7201a8"
             ],
             [
              0.3333333333333333,
              "#9c179e"
             ],
             [
              0.4444444444444444,
              "#bd3786"
             ],
             [
              0.5555555555555556,
              "#d8576b"
             ],
             [
              0.6666666666666666,
              "#ed7953"
             ],
             [
              0.7777777777777778,
              "#fb9f3a"
             ],
             [
              0.8888888888888888,
              "#fdca26"
             ],
             [
              1,
              "#f0f921"
             ]
            ],
            "type": "surface"
           }
          ],
          "table": [
           {
            "cells": {
             "fill": {
              "color": "#EBF0F8"
             },
             "line": {
              "color": "white"
             }
            },
            "header": {
             "fill": {
              "color": "#C8D4E3"
             },
             "line": {
              "color": "white"
             }
            },
            "type": "table"
           }
          ]
         },
         "layout": {
          "annotationdefaults": {
           "arrowcolor": "#2a3f5f",
           "arrowhead": 0,
           "arrowwidth": 1
          },
          "autotypenumbers": "strict",
          "coloraxis": {
           "colorbar": {
            "outlinewidth": 0,
            "ticks": ""
           }
          },
          "colorscale": {
           "diverging": [
            [
             0,
             "#8e0152"
            ],
            [
             0.1,
             "#c51b7d"
            ],
            [
             0.2,
             "#de77ae"
            ],
            [
             0.3,
             "#f1b6da"
            ],
            [
             0.4,
             "#fde0ef"
            ],
            [
             0.5,
             "#f7f7f7"
            ],
            [
             0.6,
             "#e6f5d0"
            ],
            [
             0.7,
             "#b8e186"
            ],
            [
             0.8,
             "#7fbc41"
            ],
            [
             0.9,
             "#4d9221"
            ],
            [
             1,
             "#276419"
            ]
           ],
           "sequential": [
            [
             0,
             "#0d0887"
            ],
            [
             0.1111111111111111,
             "#46039f"
            ],
            [
             0.2222222222222222,
             "#7201a8"
            ],
            [
             0.3333333333333333,
             "#9c179e"
            ],
            [
             0.4444444444444444,
             "#bd3786"
            ],
            [
             0.5555555555555556,
             "#d8576b"
            ],
            [
             0.6666666666666666,
             "#ed7953"
            ],
            [
             0.7777777777777778,
             "#fb9f3a"
            ],
            [
             0.8888888888888888,
             "#fdca26"
            ],
            [
             1,
             "#f0f921"
            ]
           ],
           "sequentialminus": [
            [
             0,
             "#0d0887"
            ],
            [
             0.1111111111111111,
             "#46039f"
            ],
            [
             0.2222222222222222,
             "#7201a8"
            ],
            [
             0.3333333333333333,
             "#9c179e"
            ],
            [
             0.4444444444444444,
             "#bd3786"
            ],
            [
             0.5555555555555556,
             "#d8576b"
            ],
            [
             0.6666666666666666,
             "#ed7953"
            ],
            [
             0.7777777777777778,
             "#fb9f3a"
            ],
            [
             0.8888888888888888,
             "#fdca26"
            ],
            [
             1,
             "#f0f921"
            ]
           ]
          },
          "colorway": [
           "#636efa",
           "#EF553B",
           "#00cc96",
           "#ab63fa",
           "#FFA15A",
           "#19d3f3",
           "#FF6692",
           "#B6E880",
           "#FF97FF",
           "#FECB52"
          ],
          "font": {
           "color": "#2a3f5f"
          },
          "geo": {
           "bgcolor": "white",
           "lakecolor": "white",
           "landcolor": "#E5ECF6",
           "showlakes": true,
           "showland": true,
           "subunitcolor": "white"
          },
          "hoverlabel": {
           "align": "left"
          },
          "hovermode": "closest",
          "mapbox": {
           "style": "light"
          },
          "paper_bgcolor": "white",
          "plot_bgcolor": "#E5ECF6",
          "polar": {
           "angularaxis": {
            "gridcolor": "white",
            "linecolor": "white",
            "ticks": ""
           },
           "bgcolor": "#E5ECF6",
           "radialaxis": {
            "gridcolor": "white",
            "linecolor": "white",
            "ticks": ""
           }
          },
          "scene": {
           "xaxis": {
            "backgroundcolor": "#E5ECF6",
            "gridcolor": "white",
            "gridwidth": 2,
            "linecolor": "white",
            "showbackground": true,
            "ticks": "",
            "zerolinecolor": "white"
           },
           "yaxis": {
            "backgroundcolor": "#E5ECF6",
            "gridcolor": "white",
            "gridwidth": 2,
            "linecolor": "white",
            "showbackground": true,
            "ticks": "",
            "zerolinecolor": "white"
           },
           "zaxis": {
            "backgroundcolor": "#E5ECF6",
            "gridcolor": "white",
            "gridwidth": 2,
            "linecolor": "white",
            "showbackground": true,
            "ticks": "",
            "zerolinecolor": "white"
           }
          },
          "shapedefaults": {
           "line": {
            "color": "#2a3f5f"
           }
          },
          "ternary": {
           "aaxis": {
            "gridcolor": "white",
            "linecolor": "white",
            "ticks": ""
           },
           "baxis": {
            "gridcolor": "white",
            "linecolor": "white",
            "ticks": ""
           },
           "bgcolor": "#E5ECF6",
           "caxis": {
            "gridcolor": "white",
            "linecolor": "white",
            "ticks": ""
           }
          },
          "title": {
           "x": 0.05
          },
          "xaxis": {
           "automargin": true,
           "gridcolor": "white",
           "linecolor": "white",
           "ticks": "",
           "title": {
            "standoff": 15
           },
           "zerolinecolor": "white",
           "zerolinewidth": 2
          },
          "yaxis": {
           "automargin": true,
           "gridcolor": "white",
           "linecolor": "white",
           "ticks": "",
           "title": {
            "standoff": 15
           },
           "zerolinecolor": "white",
           "zerolinewidth": 2
          }
         }
        },
        "title": {
         "text": "Valores da Previsão e Valores Reais para o Ano 2000"
        },
        "xaxis": {
         "title": {
          "text": "Mês"
         }
        },
        "yaxis": {
         "title": {
          "text": "Valor"
         }
        }
       }
      }
     },
     "metadata": {},
     "output_type": "display_data"
    },
    {
     "data": {
      "application/vnd.plotly.v1+json": {
       "config": {
        "plotlyServerURL": "https://plot.ly"
       },
       "data": [
        {
         "mode": "lines",
         "name": "Previsão (phi=1)",
         "type": "scatter",
         "x": [
          1,
          2,
          3,
          4,
          5,
          6,
          7,
          8,
          9,
          10,
          11,
          12
         ],
         "y": [
          733.8197496320847,
          921.2711234178189,
          796.5752095516566,
          673.5093076314572,
          312.46166160067355,
          242.3711479242686,
          242.3711479242686,
          170.65062230190074,
          151.09047895034587,
          125.82529378792084,
          506.43308317025935,
          595.2687342252377
         ]
        },
        {
         "mode": "lines",
         "name": "Previsão (phi=2)",
         "type": "scatter",
         "x": [
          1,
          2,
          3,
          4,
          5,
          6,
          7,
          8,
          9,
          10,
          11,
          12
         ],
         "y": [
          839.1306552703231,
          735.7057150120586,
          968.4183209801763,
          839.6901696587652,
          742.9707519377321,
          334.01772413800654,
          252.90503014276916,
          261.9830112571567,
          181.45978857229645,
          162.02161308775837,
          84.60812118302282,
          513.8245954776853
         ]
        },
        {
         "mode": "lines",
         "name": "Previsão (phi=9)",
         "type": "scatter",
         "x": [
          1,
          2,
          3,
          4,
          5,
          6,
          7,
          8,
          9,
          10,
          11,
          12
         ],
         "y": [
          1547.1701923021608,
          1720.779355914288,
          1506.845390723043,
          1289.6982602038913,
          578.915728555017,
          526.749017015987,
          478.26947301714944,
          370.256362781816,
          170.53346552043487,
          138.4170337775283,
          518.6092633017831,
          544.5396437504821
         ]
        },
        {
         "line": {
          "dash": "dash"
         },
         "mode": "lines",
         "name": "Valor Real",
         "type": "scatter",
         "x": [
          1,
          2,
          3,
          4,
          5,
          6,
          7,
          8,
          9,
          10,
          11,
          12
         ],
         "y": [
          1056,
          951,
          2347,
          1394,
          708,
          462,
          397,
          297,
          235,
          180,
          162,
          370
         ]
        }
       ],
       "layout": {
        "legend": {
         "orientation": "h",
         "x": 1,
         "xanchor": "right",
         "y": 1.02,
         "yanchor": "bottom"
        },
        "template": {
         "data": {
          "bar": [
           {
            "error_x": {
             "color": "#2a3f5f"
            },
            "error_y": {
             "color": "#2a3f5f"
            },
            "marker": {
             "line": {
              "color": "#E5ECF6",
              "width": 0.5
             },
             "pattern": {
              "fillmode": "overlay",
              "size": 10,
              "solidity": 0.2
             }
            },
            "type": "bar"
           }
          ],
          "barpolar": [
           {
            "marker": {
             "line": {
              "color": "#E5ECF6",
              "width": 0.5
             },
             "pattern": {
              "fillmode": "overlay",
              "size": 10,
              "solidity": 0.2
             }
            },
            "type": "barpolar"
           }
          ],
          "carpet": [
           {
            "aaxis": {
             "endlinecolor": "#2a3f5f",
             "gridcolor": "white",
             "linecolor": "white",
             "minorgridcolor": "white",
             "startlinecolor": "#2a3f5f"
            },
            "baxis": {
             "endlinecolor": "#2a3f5f",
             "gridcolor": "white",
             "linecolor": "white",
             "minorgridcolor": "white",
             "startlinecolor": "#2a3f5f"
            },
            "type": "carpet"
           }
          ],
          "choropleth": [
           {
            "colorbar": {
             "outlinewidth": 0,
             "ticks": ""
            },
            "type": "choropleth"
           }
          ],
          "contour": [
           {
            "colorbar": {
             "outlinewidth": 0,
             "ticks": ""
            },
            "colorscale": [
             [
              0,
              "#0d0887"
             ],
             [
              0.1111111111111111,
              "#46039f"
             ],
             [
              0.2222222222222222,
              "#7201a8"
             ],
             [
              0.3333333333333333,
              "#9c179e"
             ],
             [
              0.4444444444444444,
              "#bd3786"
             ],
             [
              0.5555555555555556,
              "#d8576b"
             ],
             [
              0.6666666666666666,
              "#ed7953"
             ],
             [
              0.7777777777777778,
              "#fb9f3a"
             ],
             [
              0.8888888888888888,
              "#fdca26"
             ],
             [
              1,
              "#f0f921"
             ]
            ],
            "type": "contour"
           }
          ],
          "contourcarpet": [
           {
            "colorbar": {
             "outlinewidth": 0,
             "ticks": ""
            },
            "type": "contourcarpet"
           }
          ],
          "heatmap": [
           {
            "colorbar": {
             "outlinewidth": 0,
             "ticks": ""
            },
            "colorscale": [
             [
              0,
              "#0d0887"
             ],
             [
              0.1111111111111111,
              "#46039f"
             ],
             [
              0.2222222222222222,
              "#7201a8"
             ],
             [
              0.3333333333333333,
              "#9c179e"
             ],
             [
              0.4444444444444444,
              "#bd3786"
             ],
             [
              0.5555555555555556,
              "#d8576b"
             ],
             [
              0.6666666666666666,
              "#ed7953"
             ],
             [
              0.7777777777777778,
              "#fb9f3a"
             ],
             [
              0.8888888888888888,
              "#fdca26"
             ],
             [
              1,
              "#f0f921"
             ]
            ],
            "type": "heatmap"
           }
          ],
          "heatmapgl": [
           {
            "colorbar": {
             "outlinewidth": 0,
             "ticks": ""
            },
            "colorscale": [
             [
              0,
              "#0d0887"
             ],
             [
              0.1111111111111111,
              "#46039f"
             ],
             [
              0.2222222222222222,
              "#7201a8"
             ],
             [
              0.3333333333333333,
              "#9c179e"
             ],
             [
              0.4444444444444444,
              "#bd3786"
             ],
             [
              0.5555555555555556,
              "#d8576b"
             ],
             [
              0.6666666666666666,
              "#ed7953"
             ],
             [
              0.7777777777777778,
              "#fb9f3a"
             ],
             [
              0.8888888888888888,
              "#fdca26"
             ],
             [
              1,
              "#f0f921"
             ]
            ],
            "type": "heatmapgl"
           }
          ],
          "histogram": [
           {
            "marker": {
             "pattern": {
              "fillmode": "overlay",
              "size": 10,
              "solidity": 0.2
             }
            },
            "type": "histogram"
           }
          ],
          "histogram2d": [
           {
            "colorbar": {
             "outlinewidth": 0,
             "ticks": ""
            },
            "colorscale": [
             [
              0,
              "#0d0887"
             ],
             [
              0.1111111111111111,
              "#46039f"
             ],
             [
              0.2222222222222222,
              "#7201a8"
             ],
             [
              0.3333333333333333,
              "#9c179e"
             ],
             [
              0.4444444444444444,
              "#bd3786"
             ],
             [
              0.5555555555555556,
              "#d8576b"
             ],
             [
              0.6666666666666666,
              "#ed7953"
             ],
             [
              0.7777777777777778,
              "#fb9f3a"
             ],
             [
              0.8888888888888888,
              "#fdca26"
             ],
             [
              1,
              "#f0f921"
             ]
            ],
            "type": "histogram2d"
           }
          ],
          "histogram2dcontour": [
           {
            "colorbar": {
             "outlinewidth": 0,
             "ticks": ""
            },
            "colorscale": [
             [
              0,
              "#0d0887"
             ],
             [
              0.1111111111111111,
              "#46039f"
             ],
             [
              0.2222222222222222,
              "#7201a8"
             ],
             [
              0.3333333333333333,
              "#9c179e"
             ],
             [
              0.4444444444444444,
              "#bd3786"
             ],
             [
              0.5555555555555556,
              "#d8576b"
             ],
             [
              0.6666666666666666,
              "#ed7953"
             ],
             [
              0.7777777777777778,
              "#fb9f3a"
             ],
             [
              0.8888888888888888,
              "#fdca26"
             ],
             [
              1,
              "#f0f921"
             ]
            ],
            "type": "histogram2dcontour"
           }
          ],
          "mesh3d": [
           {
            "colorbar": {
             "outlinewidth": 0,
             "ticks": ""
            },
            "type": "mesh3d"
           }
          ],
          "parcoords": [
           {
            "line": {
             "colorbar": {
              "outlinewidth": 0,
              "ticks": ""
             }
            },
            "type": "parcoords"
           }
          ],
          "pie": [
           {
            "automargin": true,
            "type": "pie"
           }
          ],
          "scatter": [
           {
            "fillpattern": {
             "fillmode": "overlay",
             "size": 10,
             "solidity": 0.2
            },
            "type": "scatter"
           }
          ],
          "scatter3d": [
           {
            "line": {
             "colorbar": {
              "outlinewidth": 0,
              "ticks": ""
             }
            },
            "marker": {
             "colorbar": {
              "outlinewidth": 0,
              "ticks": ""
             }
            },
            "type": "scatter3d"
           }
          ],
          "scattercarpet": [
           {
            "marker": {
             "colorbar": {
              "outlinewidth": 0,
              "ticks": ""
             }
            },
            "type": "scattercarpet"
           }
          ],
          "scattergeo": [
           {
            "marker": {
             "colorbar": {
              "outlinewidth": 0,
              "ticks": ""
             }
            },
            "type": "scattergeo"
           }
          ],
          "scattergl": [
           {
            "marker": {
             "colorbar": {
              "outlinewidth": 0,
              "ticks": ""
             }
            },
            "type": "scattergl"
           }
          ],
          "scattermapbox": [
           {
            "marker": {
             "colorbar": {
              "outlinewidth": 0,
              "ticks": ""
             }
            },
            "type": "scattermapbox"
           }
          ],
          "scatterpolar": [
           {
            "marker": {
             "colorbar": {
              "outlinewidth": 0,
              "ticks": ""
             }
            },
            "type": "scatterpolar"
           }
          ],
          "scatterpolargl": [
           {
            "marker": {
             "colorbar": {
              "outlinewidth": 0,
              "ticks": ""
             }
            },
            "type": "scatterpolargl"
           }
          ],
          "scatterternary": [
           {
            "marker": {
             "colorbar": {
              "outlinewidth": 0,
              "ticks": ""
             }
            },
            "type": "scatterternary"
           }
          ],
          "surface": [
           {
            "colorbar": {
             "outlinewidth": 0,
             "ticks": ""
            },
            "colorscale": [
             [
              0,
              "#0d0887"
             ],
             [
              0.1111111111111111,
              "#46039f"
             ],
             [
              0.2222222222222222,
              "#7201a8"
             ],
             [
              0.3333333333333333,
              "#9c179e"
             ],
             [
              0.4444444444444444,
              "#bd3786"
             ],
             [
              0.5555555555555556,
              "#d8576b"
             ],
             [
              0.6666666666666666,
              "#ed7953"
             ],
             [
              0.7777777777777778,
              "#fb9f3a"
             ],
             [
              0.8888888888888888,
              "#fdca26"
             ],
             [
              1,
              "#f0f921"
             ]
            ],
            "type": "surface"
           }
          ],
          "table": [
           {
            "cells": {
             "fill": {
              "color": "#EBF0F8"
             },
             "line": {
              "color": "white"
             }
            },
            "header": {
             "fill": {
              "color": "#C8D4E3"
             },
             "line": {
              "color": "white"
             }
            },
            "type": "table"
           }
          ]
         },
         "layout": {
          "annotationdefaults": {
           "arrowcolor": "#2a3f5f",
           "arrowhead": 0,
           "arrowwidth": 1
          },
          "autotypenumbers": "strict",
          "coloraxis": {
           "colorbar": {
            "outlinewidth": 0,
            "ticks": ""
           }
          },
          "colorscale": {
           "diverging": [
            [
             0,
             "#8e0152"
            ],
            [
             0.1,
             "#c51b7d"
            ],
            [
             0.2,
             "#de77ae"
            ],
            [
             0.3,
             "#f1b6da"
            ],
            [
             0.4,
             "#fde0ef"
            ],
            [
             0.5,
             "#f7f7f7"
            ],
            [
             0.6,
             "#e6f5d0"
            ],
            [
             0.7,
             "#b8e186"
            ],
            [
             0.8,
             "#7fbc41"
            ],
            [
             0.9,
             "#4d9221"
            ],
            [
             1,
             "#276419"
            ]
           ],
           "sequential": [
            [
             0,
             "#0d0887"
            ],
            [
             0.1111111111111111,
             "#46039f"
            ],
            [
             0.2222222222222222,
             "#7201a8"
            ],
            [
             0.3333333333333333,
             "#9c179e"
            ],
            [
             0.4444444444444444,
             "#bd3786"
            ],
            [
             0.5555555555555556,
             "#d8576b"
            ],
            [
             0.6666666666666666,
             "#ed7953"
            ],
            [
             0.7777777777777778,
             "#fb9f3a"
            ],
            [
             0.8888888888888888,
             "#fdca26"
            ],
            [
             1,
             "#f0f921"
            ]
           ],
           "sequentialminus": [
            [
             0,
             "#0d0887"
            ],
            [
             0.1111111111111111,
             "#46039f"
            ],
            [
             0.2222222222222222,
             "#7201a8"
            ],
            [
             0.3333333333333333,
             "#9c179e"
            ],
            [
             0.4444444444444444,
             "#bd3786"
            ],
            [
             0.5555555555555556,
             "#d8576b"
            ],
            [
             0.6666666666666666,
             "#ed7953"
            ],
            [
             0.7777777777777778,
             "#fb9f3a"
            ],
            [
             0.8888888888888888,
             "#fdca26"
            ],
            [
             1,
             "#f0f921"
            ]
           ]
          },
          "colorway": [
           "#636efa",
           "#EF553B",
           "#00cc96",
           "#ab63fa",
           "#FFA15A",
           "#19d3f3",
           "#FF6692",
           "#B6E880",
           "#FF97FF",
           "#FECB52"
          ],
          "font": {
           "color": "#2a3f5f"
          },
          "geo": {
           "bgcolor": "white",
           "lakecolor": "white",
           "landcolor": "#E5ECF6",
           "showlakes": true,
           "showland": true,
           "subunitcolor": "white"
          },
          "hoverlabel": {
           "align": "left"
          },
          "hovermode": "closest",
          "mapbox": {
           "style": "light"
          },
          "paper_bgcolor": "white",
          "plot_bgcolor": "#E5ECF6",
          "polar": {
           "angularaxis": {
            "gridcolor": "white",
            "linecolor": "white",
            "ticks": ""
           },
           "bgcolor": "#E5ECF6",
           "radialaxis": {
            "gridcolor": "white",
            "linecolor": "white",
            "ticks": ""
           }
          },
          "scene": {
           "xaxis": {
            "backgroundcolor": "#E5ECF6",
            "gridcolor": "white",
            "gridwidth": 2,
            "linecolor": "white",
            "showbackground": true,
            "ticks": "",
            "zerolinecolor": "white"
           },
           "yaxis": {
            "backgroundcolor": "#E5ECF6",
            "gridcolor": "white",
            "gridwidth": 2,
            "linecolor": "white",
            "showbackground": true,
            "ticks": "",
            "zerolinecolor": "white"
           },
           "zaxis": {
            "backgroundcolor": "#E5ECF6",
            "gridcolor": "white",
            "gridwidth": 2,
            "linecolor": "white",
            "showbackground": true,
            "ticks": "",
            "zerolinecolor": "white"
           }
          },
          "shapedefaults": {
           "line": {
            "color": "#2a3f5f"
           }
          },
          "ternary": {
           "aaxis": {
            "gridcolor": "white",
            "linecolor": "white",
            "ticks": ""
           },
           "baxis": {
            "gridcolor": "white",
            "linecolor": "white",
            "ticks": ""
           },
           "bgcolor": "#E5ECF6",
           "caxis": {
            "gridcolor": "white",
            "linecolor": "white",
            "ticks": ""
           }
          },
          "title": {
           "x": 0.05
          },
          "xaxis": {
           "automargin": true,
           "gridcolor": "white",
           "linecolor": "white",
           "ticks": "",
           "title": {
            "standoff": 15
           },
           "zerolinecolor": "white",
           "zerolinewidth": 2
          },
          "yaxis": {
           "automargin": true,
           "gridcolor": "white",
           "linecolor": "white",
           "ticks": "",
           "title": {
            "standoff": 15
           },
           "zerolinecolor": "white",
           "zerolinewidth": 2
          }
         }
        },
        "title": {
         "text": "Valores da Previsão e Valores Reais para o Ano 2021"
        },
        "xaxis": {
         "title": {
          "text": "Mês"
         }
        },
        "yaxis": {
         "title": {
          "text": "Valor"
         }
        }
       }
      }
     },
     "metadata": {},
     "output_type": "display_data"
    },
    {
     "data": {
      "application/vnd.plotly.v1+json": {
       "config": {
        "plotlyServerURL": "https://plot.ly"
       },
       "data": [
        {
         "mode": "lines",
         "name": "Previsão (phi=1)",
         "type": "scatter",
         "x": [
          1,
          2,
          3,
          4,
          5,
          6,
          7,
          8,
          9,
          10,
          11,
          12
         ],
         "y": [
          1050.5265582865436,
          1724.5364979422052,
          1709.866390428539,
          703.3340137964445,
          556.632938659783,
          378.1466305768448,
          324.3562363600689,
          256.7107406026083,
          226.5555196022946,
          251.82070476471964,
          384.66667836069644,
          420.52694117188037
         ]
        },
        {
         "mode": "lines",
         "name": "Previsão (phi=2)",
         "type": "scatter",
         "x": [
          1,
          2,
          3,
          4,
          5,
          6,
          7,
          8,
          9,
          10,
          11,
          12
         ],
         "y": [
          960.1675338288986,
          1000.694370939418,
          1782.5535322716678,
          1892.9776690146173,
          746.7302541425669,
          599.5512931784832,
          399.8053605845415,
          346.1182705303871,
          271.65196753947373,
          233.55672053901787,
          245.98012037484284,
          395.17798006443616
         ]
        },
        {
         "mode": "lines",
         "name": "Previsão (phi=9)",
         "type": "scatter",
         "x": [
          1,
          2,
          3,
          4,
          5,
          6,
          7,
          8,
          9,
          10,
          11,
          12
         ],
         "y": [
          1742.928300825918,
          3267.0025814604405,
          3112.256097449029,
          1246.1891778093222,
          1152.6118431520108,
          675.9380985331181,
          656.5786887240056,
          484.4795547705535,
          259.46096780713833,
          277.3484055232648,
          376.68369228955544,
          397.45581227358616
         ]
        },
        {
         "line": {
          "dash": "dash"
         },
         "mode": "lines",
         "name": "Valor Real",
         "type": "scatter",
         "x": [
          1,
          2,
          3,
          4,
          5,
          6,
          7,
          8,
          9,
          10,
          11,
          12
         ],
         "y": [
          909,
          1139,
          986,
          835,
          392,
          306,
          306,
          218,
          194,
          163,
          630,
          739
         ]
        }
       ],
       "layout": {
        "legend": {
         "orientation": "h",
         "x": 1,
         "xanchor": "right",
         "y": 1.02,
         "yanchor": "bottom"
        },
        "template": {
         "data": {
          "bar": [
           {
            "error_x": {
             "color": "#2a3f5f"
            },
            "error_y": {
             "color": "#2a3f5f"
            },
            "marker": {
             "line": {
              "color": "#E5ECF6",
              "width": 0.5
             },
             "pattern": {
              "fillmode": "overlay",
              "size": 10,
              "solidity": 0.2
             }
            },
            "type": "bar"
           }
          ],
          "barpolar": [
           {
            "marker": {
             "line": {
              "color": "#E5ECF6",
              "width": 0.5
             },
             "pattern": {
              "fillmode": "overlay",
              "size": 10,
              "solidity": 0.2
             }
            },
            "type": "barpolar"
           }
          ],
          "carpet": [
           {
            "aaxis": {
             "endlinecolor": "#2a3f5f",
             "gridcolor": "white",
             "linecolor": "white",
             "minorgridcolor": "white",
             "startlinecolor": "#2a3f5f"
            },
            "baxis": {
             "endlinecolor": "#2a3f5f",
             "gridcolor": "white",
             "linecolor": "white",
             "minorgridcolor": "white",
             "startlinecolor": "#2a3f5f"
            },
            "type": "carpet"
           }
          ],
          "choropleth": [
           {
            "colorbar": {
             "outlinewidth": 0,
             "ticks": ""
            },
            "type": "choropleth"
           }
          ],
          "contour": [
           {
            "colorbar": {
             "outlinewidth": 0,
             "ticks": ""
            },
            "colorscale": [
             [
              0,
              "#0d0887"
             ],
             [
              0.1111111111111111,
              "#46039f"
             ],
             [
              0.2222222222222222,
              "#7201a8"
             ],
             [
              0.3333333333333333,
              "#9c179e"
             ],
             [
              0.4444444444444444,
              "#bd3786"
             ],
             [
              0.5555555555555556,
              "#d8576b"
             ],
             [
              0.6666666666666666,
              "#ed7953"
             ],
             [
              0.7777777777777778,
              "#fb9f3a"
             ],
             [
              0.8888888888888888,
              "#fdca26"
             ],
             [
              1,
              "#f0f921"
             ]
            ],
            "type": "contour"
           }
          ],
          "contourcarpet": [
           {
            "colorbar": {
             "outlinewidth": 0,
             "ticks": ""
            },
            "type": "contourcarpet"
           }
          ],
          "heatmap": [
           {
            "colorbar": {
             "outlinewidth": 0,
             "ticks": ""
            },
            "colorscale": [
             [
              0,
              "#0d0887"
             ],
             [
              0.1111111111111111,
              "#46039f"
             ],
             [
              0.2222222222222222,
              "#7201a8"
             ],
             [
              0.3333333333333333,
              "#9c179e"
             ],
             [
              0.4444444444444444,
              "#bd3786"
             ],
             [
              0.5555555555555556,
              "#d8576b"
             ],
             [
              0.6666666666666666,
              "#ed7953"
             ],
             [
              0.7777777777777778,
              "#fb9f3a"
             ],
             [
              0.8888888888888888,
              "#fdca26"
             ],
             [
              1,
              "#f0f921"
             ]
            ],
            "type": "heatmap"
           }
          ],
          "heatmapgl": [
           {
            "colorbar": {
             "outlinewidth": 0,
             "ticks": ""
            },
            "colorscale": [
             [
              0,
              "#0d0887"
             ],
             [
              0.1111111111111111,
              "#46039f"
             ],
             [
              0.2222222222222222,
              "#7201a8"
             ],
             [
              0.3333333333333333,
              "#9c179e"
             ],
             [
              0.4444444444444444,
              "#bd3786"
             ],
             [
              0.5555555555555556,
              "#d8576b"
             ],
             [
              0.6666666666666666,
              "#ed7953"
             ],
             [
              0.7777777777777778,
              "#fb9f3a"
             ],
             [
              0.8888888888888888,
              "#fdca26"
             ],
             [
              1,
              "#f0f921"
             ]
            ],
            "type": "heatmapgl"
           }
          ],
          "histogram": [
           {
            "marker": {
             "pattern": {
              "fillmode": "overlay",
              "size": 10,
              "solidity": 0.2
             }
            },
            "type": "histogram"
           }
          ],
          "histogram2d": [
           {
            "colorbar": {
             "outlinewidth": 0,
             "ticks": ""
            },
            "colorscale": [
             [
              0,
              "#0d0887"
             ],
             [
              0.1111111111111111,
              "#46039f"
             ],
             [
              0.2222222222222222,
              "#7201a8"
             ],
             [
              0.3333333333333333,
              "#9c179e"
             ],
             [
              0.4444444444444444,
              "#bd3786"
             ],
             [
              0.5555555555555556,
              "#d8576b"
             ],
             [
              0.6666666666666666,
              "#ed7953"
             ],
             [
              0.7777777777777778,
              "#fb9f3a"
             ],
             [
              0.8888888888888888,
              "#fdca26"
             ],
             [
              1,
              "#f0f921"
             ]
            ],
            "type": "histogram2d"
           }
          ],
          "histogram2dcontour": [
           {
            "colorbar": {
             "outlinewidth": 0,
             "ticks": ""
            },
            "colorscale": [
             [
              0,
              "#0d0887"
             ],
             [
              0.1111111111111111,
              "#46039f"
             ],
             [
              0.2222222222222222,
              "#7201a8"
             ],
             [
              0.3333333333333333,
              "#9c179e"
             ],
             [
              0.4444444444444444,
              "#bd3786"
             ],
             [
              0.5555555555555556,
              "#d8576b"
             ],
             [
              0.6666666666666666,
              "#ed7953"
             ],
             [
              0.7777777777777778,
              "#fb9f3a"
             ],
             [
              0.8888888888888888,
              "#fdca26"
             ],
             [
              1,
              "#f0f921"
             ]
            ],
            "type": "histogram2dcontour"
           }
          ],
          "mesh3d": [
           {
            "colorbar": {
             "outlinewidth": 0,
             "ticks": ""
            },
            "type": "mesh3d"
           }
          ],
          "parcoords": [
           {
            "line": {
             "colorbar": {
              "outlinewidth": 0,
              "ticks": ""
             }
            },
            "type": "parcoords"
           }
          ],
          "pie": [
           {
            "automargin": true,
            "type": "pie"
           }
          ],
          "scatter": [
           {
            "fillpattern": {
             "fillmode": "overlay",
             "size": 10,
             "solidity": 0.2
            },
            "type": "scatter"
           }
          ],
          "scatter3d": [
           {
            "line": {
             "colorbar": {
              "outlinewidth": 0,
              "ticks": ""
             }
            },
            "marker": {
             "colorbar": {
              "outlinewidth": 0,
              "ticks": ""
             }
            },
            "type": "scatter3d"
           }
          ],
          "scattercarpet": [
           {
            "marker": {
             "colorbar": {
              "outlinewidth": 0,
              "ticks": ""
             }
            },
            "type": "scattercarpet"
           }
          ],
          "scattergeo": [
           {
            "marker": {
             "colorbar": {
              "outlinewidth": 0,
              "ticks": ""
             }
            },
            "type": "scattergeo"
           }
          ],
          "scattergl": [
           {
            "marker": {
             "colorbar": {
              "outlinewidth": 0,
              "ticks": ""
             }
            },
            "type": "scattergl"
           }
          ],
          "scattermapbox": [
           {
            "marker": {
             "colorbar": {
              "outlinewidth": 0,
              "ticks": ""
             }
            },
            "type": "scattermapbox"
           }
          ],
          "scatterpolar": [
           {
            "marker": {
             "colorbar": {
              "outlinewidth": 0,
              "ticks": ""
             }
            },
            "type": "scatterpolar"
           }
          ],
          "scatterpolargl": [
           {
            "marker": {
             "colorbar": {
              "outlinewidth": 0,
              "ticks": ""
             }
            },
            "type": "scatterpolargl"
           }
          ],
          "scatterternary": [
           {
            "marker": {
             "colorbar": {
              "outlinewidth": 0,
              "ticks": ""
             }
            },
            "type": "scatterternary"
           }
          ],
          "surface": [
           {
            "colorbar": {
             "outlinewidth": 0,
             "ticks": ""
            },
            "colorscale": [
             [
              0,
              "#0d0887"
             ],
             [
              0.1111111111111111,
              "#46039f"
             ],
             [
              0.2222222222222222,
              "#7201a8"
             ],
             [
              0.3333333333333333,
              "#9c179e"
             ],
             [
              0.4444444444444444,
              "#bd3786"
             ],
             [
              0.5555555555555556,
              "#d8576b"
             ],
             [
              0.6666666666666666,
              "#ed7953"
             ],
             [
              0.7777777777777778,
              "#fb9f3a"
             ],
             [
              0.8888888888888888,
              "#fdca26"
             ],
             [
              1,
              "#f0f921"
             ]
            ],
            "type": "surface"
           }
          ],
          "table": [
           {
            "cells": {
             "fill": {
              "color": "#EBF0F8"
             },
             "line": {
              "color": "white"
             }
            },
            "header": {
             "fill": {
              "color": "#C8D4E3"
             },
             "line": {
              "color": "white"
             }
            },
            "type": "table"
           }
          ]
         },
         "layout": {
          "annotationdefaults": {
           "arrowcolor": "#2a3f5f",
           "arrowhead": 0,
           "arrowwidth": 1
          },
          "autotypenumbers": "strict",
          "coloraxis": {
           "colorbar": {
            "outlinewidth": 0,
            "ticks": ""
           }
          },
          "colorscale": {
           "diverging": [
            [
             0,
             "#8e0152"
            ],
            [
             0.1,
             "#c51b7d"
            ],
            [
             0.2,
             "#de77ae"
            ],
            [
             0.3,
             "#f1b6da"
            ],
            [
             0.4,
             "#fde0ef"
            ],
            [
             0.5,
             "#f7f7f7"
            ],
            [
             0.6,
             "#e6f5d0"
            ],
            [
             0.7,
             "#b8e186"
            ],
            [
             0.8,
             "#7fbc41"
            ],
            [
             0.9,
             "#4d9221"
            ],
            [
             1,
             "#276419"
            ]
           ],
           "sequential": [
            [
             0,
             "#0d0887"
            ],
            [
             0.1111111111111111,
             "#46039f"
            ],
            [
             0.2222222222222222,
             "#7201a8"
            ],
            [
             0.3333333333333333,
             "#9c179e"
            ],
            [
             0.4444444444444444,
             "#bd3786"
            ],
            [
             0.5555555555555556,
             "#d8576b"
            ],
            [
             0.6666666666666666,
             "#ed7953"
            ],
            [
             0.7777777777777778,
             "#fb9f3a"
            ],
            [
             0.8888888888888888,
             "#fdca26"
            ],
            [
             1,
             "#f0f921"
            ]
           ],
           "sequentialminus": [
            [
             0,
             "#0d0887"
            ],
            [
             0.1111111111111111,
             "#46039f"
            ],
            [
             0.2222222222222222,
             "#7201a8"
            ],
            [
             0.3333333333333333,
             "#9c179e"
            ],
            [
             0.4444444444444444,
             "#bd3786"
            ],
            [
             0.5555555555555556,
             "#d8576b"
            ],
            [
             0.6666666666666666,
             "#ed7953"
            ],
            [
             0.7777777777777778,
             "#fb9f3a"
            ],
            [
             0.8888888888888888,
             "#fdca26"
            ],
            [
             1,
             "#f0f921"
            ]
           ]
          },
          "colorway": [
           "#636efa",
           "#EF553B",
           "#00cc96",
           "#ab63fa",
           "#FFA15A",
           "#19d3f3",
           "#FF6692",
           "#B6E880",
           "#FF97FF",
           "#FECB52"
          ],
          "font": {
           "color": "#2a3f5f"
          },
          "geo": {
           "bgcolor": "white",
           "lakecolor": "white",
           "landcolor": "#E5ECF6",
           "showlakes": true,
           "showland": true,
           "subunitcolor": "white"
          },
          "hoverlabel": {
           "align": "left"
          },
          "hovermode": "closest",
          "mapbox": {
           "style": "light"
          },
          "paper_bgcolor": "white",
          "plot_bgcolor": "#E5ECF6",
          "polar": {
           "angularaxis": {
            "gridcolor": "white",
            "linecolor": "white",
            "ticks": ""
           },
           "bgcolor": "#E5ECF6",
           "radialaxis": {
            "gridcolor": "white",
            "linecolor": "white",
            "ticks": ""
           }
          },
          "scene": {
           "xaxis": {
            "backgroundcolor": "#E5ECF6",
            "gridcolor": "white",
            "gridwidth": 2,
            "linecolor": "white",
            "showbackground": true,
            "ticks": "",
            "zerolinecolor": "white"
           },
           "yaxis": {
            "backgroundcolor": "#E5ECF6",
            "gridcolor": "white",
            "gridwidth": 2,
            "linecolor": "white",
            "showbackground": true,
            "ticks": "",
            "zerolinecolor": "white"
           },
           "zaxis": {
            "backgroundcolor": "#E5ECF6",
            "gridcolor": "white",
            "gridwidth": 2,
            "linecolor": "white",
            "showbackground": true,
            "ticks": "",
            "zerolinecolor": "white"
           }
          },
          "shapedefaults": {
           "line": {
            "color": "#2a3f5f"
           }
          },
          "ternary": {
           "aaxis": {
            "gridcolor": "white",
            "linecolor": "white",
            "ticks": ""
           },
           "baxis": {
            "gridcolor": "white",
            "linecolor": "white",
            "ticks": ""
           },
           "bgcolor": "#E5ECF6",
           "caxis": {
            "gridcolor": "white",
            "linecolor": "white",
            "ticks": ""
           }
          },
          "title": {
           "x": 0.05
          },
          "xaxis": {
           "automargin": true,
           "gridcolor": "white",
           "linecolor": "white",
           "ticks": "",
           "title": {
            "standoff": 15
           },
           "zerolinecolor": "white",
           "zerolinewidth": 2
          },
          "yaxis": {
           "automargin": true,
           "gridcolor": "white",
           "linecolor": "white",
           "ticks": "",
           "title": {
            "standoff": 15
           },
           "zerolinecolor": "white",
           "zerolinewidth": 2
          }
         }
        },
        "title": {
         "text": "Valores da Previsão e Valores Reais para o Ano 2022"
        },
        "xaxis": {
         "title": {
          "text": "Mês"
         }
        },
        "yaxis": {
         "title": {
          "text": "Valor"
         }
        }
       }
      }
     },
     "metadata": {},
     "output_type": "display_data"
    }
   ],
   "source": [
    "anos_previsao = [2000,2021,2022]\n",
    "phis_values = [1, 2, 9]\n",
    "\n",
    "for ano_previsao in anos_previsao:\n",
    "    plot_previsao_valores_reais(ano_previsao, phis_values)\n"
   ]
  }
 ],
 "metadata": {
  "kernelspec": {
   "display_name": "base",
   "language": "python",
   "name": "python3"
  },
  "language_info": {
   "codemirror_mode": {
    "name": "ipython",
    "version": 3
   },
   "file_extension": ".py",
   "mimetype": "text/x-python",
   "name": "python",
   "nbconvert_exporter": "python",
   "pygments_lexer": "ipython3",
   "version": "3.10.9"
  },
  "orig_nbformat": 4
 },
 "nbformat": 4,
 "nbformat_minor": 2
}

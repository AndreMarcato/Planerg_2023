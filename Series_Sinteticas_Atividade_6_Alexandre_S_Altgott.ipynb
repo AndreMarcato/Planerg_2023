{
  "cells": [
    {
      "cell_type": "code",
      "execution_count": null,
      "metadata": {
        "colab": {
          "base_uri": "https://localhost:8080/"
        },
        "id": "iiQTZmc1C6RB",
        "outputId": "2231dde3-af4a-40a0-fb6d-dd006ab92238"
      },
      "outputs": [
        {
          "ename": "",
          "evalue": "",
          "output_type": "error",
          "traceback": [
            "\u001b[1;31mRunning cells with 'c:\\Users\\alexa\\AppData\\Local\\Programs\\Python\\Python310\\python.exe' requires the ipykernel package.\n",
            "\u001b[1;31mRun the following command to install 'ipykernel' into the Python environment. \n",
            "\u001b[1;31mCommand: 'c:/Users/alexa/AppData/Local/Programs/Python/Python310/python.exe -m pip install ipykernel -U --user --force-reinstall'"
          ]
        }
      ],
      "source": [
        "# from google.colab import drive, files\n",
        "import os\n",
        "\n",
        "#Montar o Google Drive no Colab com o nome gdrive\n",
        "\n",
        "Caminho_do_Arquivo = 'Dados_Newave_jul_2023/'\n",
        "\n",
        "# O comando abaixo mostra qual diretório você está trabalhando momento.\n",
        "# print( os.getcwd() )\n",
        "\n",
        "\n",
        "# O comando mostra o que está presente dentro da minha pasta GIF no meu drive, que está dentro do meu drive e em Doutorado. Mudar para o diretório que vocês criaram.\n",
        "print( os.listdir(Caminho_do_Arquivo) )"
      ]
    },
    {
      "cell_type": "code",
      "execution_count": null,
      "metadata": {
        "colab": {
          "base_uri": "https://localhost:8080/"
        },
        "id": "tvtYb869FNN2",
        "outputId": "7ab7ad89-8d6f-4add-e883-d019902f67f9"
      },
      "outputs": [
        {
          "ename": "",
          "evalue": "",
          "output_type": "error",
          "traceback": [
            "\u001b[1;31mRunning cells with 'c:\\Users\\alexa\\AppData\\Local\\Programs\\Python\\Python310\\python.exe' requires the ipykernel package.\n",
            "\u001b[1;31mRun the following command to install 'ipykernel' into the Python environment. \n",
            "\u001b[1;31mCommand: 'c:/Users/alexa/AppData/Local/Programs/Python/Python310/python.exe -m pip install ipykernel -U --user --force-reinstall'"
          ]
        }
      ],
      "source": [
        "from PySDDP.Pen import Newave\n",
        "\n",
        "PMOSET2023 = Newave(Caminho_do_Arquivo)"
      ]
    },
    {
      "cell_type": "code",
      "execution_count": null,
      "metadata": {
        "id": "wY5dAkfMHGGD"
      },
      "outputs": [
        {
          "ename": "",
          "evalue": "",
          "output_type": "error",
          "traceback": [
            "\u001b[1;31mRunning cells with 'c:\\Users\\alexa\\AppData\\Local\\Programs\\Python\\Python310\\python.exe' requires the ipykernel package.\n",
            "\u001b[1;31mRun the following command to install 'ipykernel' into the Python environment. \n",
            "\u001b[1;31mCommand: 'c:/Users/alexa/AppData/Local/Programs/Python/Python310/python.exe -m pip install ipykernel -U --user --force-reinstall'"
          ]
        }
      ],
      "source": [
        "Usina = PMOSET2023.confhd.get('Itauba')"
      ]
    },
    {
      "cell_type": "markdown",
      "metadata": {},
      "source": [
        "## Modelo de Otimização para o Problema Analisado\n",
        "\n",
        "Para o caso exemplo do mês de agosto a ser estimado a vazão\n",
        "\n",
        "$Min \\hspace{0.5cm} \\varepsilon_{ago,1931}^2 + \\varepsilon_{ago,1932}^2  + ... + \\varepsilon_{ago,2020}^2  + \\varepsilon_{ago,2021}^2  $\n",
        "\n",
        "Sujeito a:\n",
        "\n",
        "$Z_{ago,1932} = \\phi_1 \\cdot Z_{jul,1932} + \\phi_2 \\cdot Z_{jun,1932} + ... +  \\phi_n \\cdot Z_{n,1932}  + \\varepsilon_{mar,1932}^2  $\n",
        "\n",
        "$Z_{ago,1933} = \\phi_1 \\cdot Z_{jul,1933} + \\phi_2 \\cdot Z_{jun,1933} + ... +  \\phi_n \\cdot Z_{n,1933}  + \\varepsilon_{mar,1933}^2  $\n",
        "\n",
        ".\n",
        "\n",
        ".\n",
        "\n",
        ".\n",
        "\n",
        "$Z_{ago,2021} = \\phi_1 \\cdot Z_{jul,2021} + \\phi_2 \\cdot Z_{jun,2021} + ... +  \\phi_n \\cdot Z_{n,2021}  + \\varepsilon_{mar,2021}^2  $"
      ]
    },
    {
      "cell_type": "markdown",
      "metadata": {},
      "source": [
        "## Função do Modelo Auto-Regressivo"
      ]
    },
    {
      "cell_type": "code",
      "execution_count": null,
      "metadata": {},
      "outputs": [
        {
          "ename": "",
          "evalue": "",
          "output_type": "error",
          "traceback": [
            "\u001b[1;31mRunning cells with 'c:\\Users\\alexa\\AppData\\Local\\Programs\\Python\\Python310\\python.exe' requires the ipykernel package.\n",
            "\u001b[1;31mRun the following command to install 'ipykernel' into the Python environment. \n",
            "\u001b[1;31mCommand: 'c:/Users/alexa/AppData/Local/Programs/Python/Python310/python.exe -m pip install ipykernel -U --user --force-reinstall'"
          ]
        }
      ],
      "source": [
        "from cvxopt import matrix, solvers\n",
        "import numpy as np\n",
        "\n",
        "\n",
        "def modelo_autoregressivo(Usina, AnoAnalisado, N_meses, Mes_analisado,imprime = False):\n",
        "    \"\"\"\n",
        "    Função que estima as vazões de um mês a partir de uma série de vazões de anos anteriores utilizando um modelo auto regressivo.\n",
        "    \"\"\"\n",
        "\n",
        "\n",
        "    # Retira o ultimo e o primeiro ano e considera que a contagem começa em zero\n",
        "    N_anos = len(Usina['vazoes']) - 3\n",
        "\n",
        "    # AnoAnalisado = AnoAnalisado - 2021 + N_anos + 2\n",
        "\n",
        "    if Mes_analisado - N_meses >= 0:\n",
        "\n",
        "        recorte = Usina['vazoes'][1:N_anos+1,(Mes_analisado-N_meses):Mes_analisado]\n",
        "\n",
        "        recorte = recorte[:, ::-1]\n",
        "\n",
        "    else:\n",
        "\n",
        "        recorteAnoAtual = Usina['vazoes'][1:N_anos+1,0:Mes_analisado]\n",
        "\n",
        "        recorteAnoAtual = recorteAnoAtual[:, ::-1]\n",
        "\n",
        "        recorteAnoAnt = Usina['vazoes'][0:N_anos,(Mes_analisado-N_meses):]\n",
        "\n",
        "        recorteAnoAnt = recorteAnoAnt[:, ::-1]\n",
        "\n",
        "        recorte = np.concatenate((recorteAnoAnt,recorteAnoAtual),axis=1)\n",
        "\n",
        "        \n",
        "\n",
        "    \n",
        "    identidade = np.eye(N_anos)\n",
        "\n",
        "    soma_zero = np.ones((N_anos+N_meses))\n",
        "\n",
        "    for i in range(0,N_meses):\n",
        "        soma_zero[i] = 0\n",
        "\n",
        "\n",
        "\n",
        "    Aeq = np.concatenate((recorte, identidade), axis = 1)\n",
        "    Aeq = np.vstack((Aeq, soma_zero))\n",
        "    # Aeq = Aeq.astype('float')\n",
        "    Aeq = matrix(Aeq)*1.0\n",
        "\n",
        "    Beq = Usina['vazoes'][1:N_anos+1,Mes_analisado:Mes_analisado+1].copy()\n",
        "    # Beq = Usina['vazoes'][1:N_anos+1,Mes_analisado].copy()\n",
        "    Beq = np.vstack((Beq, [0]))\n",
        "    # Beq = Beq.astype('float')\n",
        "    Beq = matrix(Beq)*1.0\n",
        "\n",
        "    q = matrix(np.zeros(N_anos+N_meses))\n",
        "\n",
        "    P = 2*np.eye(N_anos+N_meses)\n",
        "    for i in range(0,N_meses):\n",
        "        P[i][i] = 1*10**(-6)\n",
        "    P = matrix(P)\n",
        "\n",
        "\n",
        "\n",
        "\n",
        "    A = np.vstack((-1*np.eye(N_anos+N_meses), np.eye(N_anos+N_meses)))\n",
        "    A = A.astype('float')\n",
        "    A = matrix(A)\n",
        "    B = 99999*np.ones(((N_anos+N_meses)*2,1))\n",
        "\n",
        "    B = B.astype('float')\n",
        "    B = matrix(B)\n",
        "\n",
        "\n",
        "\n",
        "    solvers.options['show_progress'] = False\n",
        "    abstol = 1e-9\n",
        "    reltol = 1e-9\n",
        "    sol = solvers.qp(P, q, A, B, Aeq, Beq)\n",
        "\n",
        "    \n",
        "\n",
        "    fob = 0\n",
        "    for i in sol['x'][N_meses:]:\n",
        "        fob += i**2\n",
        "\n",
        "\n",
        "\n",
        "    if Mes_analisado - N_meses >= 0:\n",
        "        \n",
        "        soma = 0\n",
        "\n",
        "        for i, v in enumerate(Usina['vazoes'][AnoAnalisado,(Mes_analisado-N_meses):Mes_analisado]):\n",
        "            \n",
        "            soma += v*sol['x'][N_meses-i-1]\n",
        "\n",
        "    else:\n",
        "\n",
        "        soma = 0\n",
        "\n",
        "        for i, v in enumerate(Usina['vazoes'][AnoAnalisado,0:Mes_analisado]):\n",
        "\n",
        "            soma += v*sol['x'][N_meses-i-1]\n",
        "\n",
        "        for i, v in enumerate(Usina['vazoes'][AnoAnalisado-1,(Mes_analisado-N_meses):]):\n",
        "\n",
        "            soma += v*sol['x'][N_meses-Mes_analisado-i-1]\n",
        "\n",
        "    if imprime:\n",
        "\n",
        "        print(f'Vazão estimada para o mês {Mes_analisado}: {soma} hm^3')\n",
        "\n",
        "    return [fob,soma,sol['x']]\n",
        "\n",
        "\n",
        "\n",
        "\n",
        "    \n",
        "        \n"
      ]
    },
    {
      "cell_type": "markdown",
      "metadata": {},
      "source": [
        "## Programa Principal"
      ]
    },
    {
      "cell_type": "code",
      "execution_count": null,
      "metadata": {},
      "outputs": [
        {
          "ename": "",
          "evalue": "",
          "output_type": "error",
          "traceback": [
            "\u001b[1;31mRunning cells with 'c:\\Users\\alexa\\AppData\\Local\\Programs\\Python\\Python310\\python.exe' requires the ipykernel package.\n",
            "\u001b[1;31mRun the following command to install 'ipykernel' into the Python environment. \n",
            "\u001b[1;31mCommand: 'c:/Users/alexa/AppData/Local/Programs/Python/Python310/python.exe -m pip install ipykernel -U --user --force-reinstall'"
          ]
        }
      ],
      "source": [
        "anos_retirados = 0"
      ]
    },
    {
      "cell_type": "code",
      "execution_count": null,
      "metadata": {},
      "outputs": [
        {
          "ename": "",
          "evalue": "",
          "output_type": "error",
          "traceback": [
            "\u001b[1;31mRunning cells with 'c:\\Users\\alexa\\AppData\\Local\\Programs\\Python\\Python310\\python.exe' requires the ipykernel package.\n",
            "\u001b[1;31mRun the following command to install 'ipykernel' into the Python environment. \n",
            "\u001b[1;31mCommand: 'c:/Users/alexa/AppData/Local/Programs/Python/Python310/python.exe -m pip install ipykernel -U --user --force-reinstall'"
          ]
        }
      ],
      "source": [
        "# Excluir anos mais recentes caso queira\n",
        "Usina['vazoes'] = Usina['vazoes'][:-2]\n",
        "anos_retirados += 2"
      ]
    },
    {
      "cell_type": "code",
      "execution_count": null,
      "metadata": {},
      "outputs": [
        {
          "ename": "",
          "evalue": "",
          "output_type": "error",
          "traceback": [
            "\u001b[1;31mRunning cells with 'c:\\Users\\alexa\\AppData\\Local\\Programs\\Python\\Python310\\python.exe' requires the ipykernel package.\n",
            "\u001b[1;31mRun the following command to install 'ipykernel' into the Python environment. \n",
            "\u001b[1;31mCommand: 'c:/Users/alexa/AppData/Local/Programs/Python/Python310/python.exe -m pip install ipykernel -U --user --force-reinstall'"
          ]
        }
      ],
      "source": [
        "from cvxopt import matrix, solvers\n",
        "from matplotlib import pyplot as plt\n",
        "\n",
        "\n",
        "\n",
        "# Ano a ser analisado\n",
        "AnoAnalisado = 2010\n",
        "\n",
        "# Numero de meses anteriores a serem considerados\n",
        "N_meses = 3\n",
        "\n",
        "# Numero do mes considerando janeiro zero\n",
        "Mes_analisado = 6\n",
        "\n",
        "# Retira o ultimo e o primeiro ano e considera que a contagem começa em zero\n",
        "N_anos = len(Usina['vazoes']) - 3\n",
        "\n",
        "# Converte o ano para o indice da lista\n",
        "AnoAnalisado = AnoAnalisado - 2023 - anos_retirados + N_anos + 2\n",
        "\n",
        "\n",
        "print(f'A vazão estimada para o mês {Mes_analisado + 1}, considerando os {N_meses} últimos meses para o cálculo, é de: {modelo_autoregressivo(Usina, AnoAnalisado, N_meses, Mes_analisado)[1]} m³/s')\n",
        "\n",
        "resultado = []\n",
        "fob = []\n",
        "\n",
        "for i in range(0,12):\n",
        "\n",
        "    resposta = modelo_autoregressivo(Usina, AnoAnalisado, N_meses, i)\n",
        "    resultado.append(resposta[1])\n",
        "\n",
        "\n",
        "for i in range(1,12):\n",
        "\n",
        "    resposta = modelo_autoregressivo(Usina, AnoAnalisado, i, Mes_analisado)\n",
        "    fob.append(resposta[0])\n",
        "\n",
        "    \n",
        "\n",
        "\n",
        "\n",
        "\n",
        "\n",
        "plt.figure()\n",
        "plt.title(\"Vazão Sintética x Vazão Real\")\n",
        "plt.xlabel(\"Meses\")\n",
        "plt.ylabel(\"Vazão (m³/s)\")\n",
        "plt.plot(list(range(1,13)),resultado,marker=\"o\",color=\"blue\",label=\"Vazão Sintética\")\n",
        "plt.plot(list(range(1,13)),Usina['vazoes'][AnoAnalisado],marker=\"o\",color=\"red\",label=\"Vazão Real\")\n",
        "plt.legend()\n",
        "\n",
        "\n",
        "plt.figure()\n",
        "plt.title(\"Erro Total Mês de Fevereiro\")\n",
        "plt.xlabel(\"Meses Anteriores Considerados\")\n",
        "plt.ylabel(\"Erro\")\n",
        "plt.plot(list(range(1,12)),fob,marker=\"o\",color=\"blue\")\n",
        "\n"
      ]
    },
    {
      "cell_type": "markdown",
      "metadata": {},
      "source": [
        "## Plot do Erro por Meses Anteriores Vistos e Mês Analisado\n",
        "\n",
        "Aqui é plotado o erro ao se variar o mês analisado (de janeiro a dezembro) e quantos meses anteriores (de 1 a 12) se olha para mostrar se há meses com estimações mais erroneas e como a quantidades de meses anteriores que se considera impactam no erro. \n",
        "\n",
        "Como mostra o gráfico, os meses do meio do ano possuem um erro menor, assim como ao se olhar para mais meses anteriores há um tendência de melhores resultados."
      ]
    },
    {
      "cell_type": "code",
      "execution_count": null,
      "metadata": {},
      "outputs": [
        {
          "ename": "",
          "evalue": "",
          "output_type": "error",
          "traceback": [
            "\u001b[1;31mRunning cells with 'c:\\Users\\alexa\\AppData\\Local\\Programs\\Python\\Python310\\python.exe' requires the ipykernel package.\n",
            "\u001b[1;31mRun the following command to install 'ipykernel' into the Python environment. \n",
            "\u001b[1;31mCommand: 'c:/Users/alexa/AppData/Local/Programs/Python/Python310/python.exe -m pip install ipykernel -U --user --force-reinstall'"
          ]
        }
      ],
      "source": [
        "size = 12\n",
        "default_value = []\n",
        "\n",
        "\n",
        "resultado = []\n",
        "resultado.extend([default_value] * size)\n",
        "for i in range(0,12):\n",
        "    resultado[i] = []\n",
        "    resultado[i].extend([default_value] * 12)\n",
        "\n",
        "\n",
        "for i in range(0,12):\n",
        "    for j in range(1,13):\n",
        "        resposta = modelo_autoregressivo(Usina, AnoAnalisado, j, i)\n",
        "        resultado[i][j-1] = resposta[0]\n",
        "\n",
        "x = np.linspace(1, 12, 12)\n",
        "y = np.linspace(1, 12, 12)\n",
        "x, y = np.meshgrid(x, y)\n",
        "\n",
        "resultado = np.array(resultado)\n",
        "\n",
        "fig = plt.figure(figsize=(14, 9))\n",
        "ax = fig.add_subplot(111, projection='3d')\n",
        "ax.dist = 12\n",
        "\n",
        "# Plotar a superfície\n",
        "surf = ax.plot_surface(x, y, resultado, cmap='viridis')\n",
        "\n",
        "ax.set_xlabel('Meses Anteriores Vistos')\n",
        "ax.set_ylabel('Mês Analisado')\n",
        "ax.set_zlabel('Erro ToTal')\n",
        "plt.title('Erro por Meses Anteriores Vistos e Mês Analisado')"
      ]
    },
    {
      "cell_type": "code",
      "execution_count": null,
      "metadata": {},
      "outputs": [
        {
          "ename": "",
          "evalue": "",
          "output_type": "error",
          "traceback": [
            "\u001b[1;31mRunning cells with 'c:\\Users\\alexa\\AppData\\Local\\Programs\\Python\\Python310\\python.exe' requires the ipykernel package.\n",
            "\u001b[1;31mRun the following command to install 'ipykernel' into the Python environment. \n",
            "\u001b[1;31mCommand: 'c:/Users/alexa/AppData/Local/Programs/Python/Python310/python.exe -m pip install ipykernel -U --user --force-reinstall'"
          ]
        }
      ],
      "source": [
        "def retorna_media(Usina):\n",
        "    \"\"\"\n",
        "    Função que retorna a média das vazões de cada mês de um conjunto de dados de vazões.\n",
        "    \"\"\"\n",
        "\n",
        "    media_vazao = []\n",
        "    \n",
        "    for j in range(0,12):\n",
        "\n",
        "        media_vazao.append(0)\n",
        "\n",
        "        for i, v in enumerate(Usina['vazoes']):     \n",
        "\n",
        "            media_vazao[j] += v[j]\n",
        "\n",
        "        media_vazao[j] = media_vazao[j]/len(Usina['vazoes'])    \n",
        "\n",
        "    return media_vazao\n",
        "\n"
      ]
    },
    {
      "cell_type": "code",
      "execution_count": null,
      "metadata": {},
      "outputs": [
        {
          "ename": "",
          "evalue": "",
          "output_type": "error",
          "traceback": [
            "\u001b[1;31mRunning cells with 'c:\\Users\\alexa\\AppData\\Local\\Programs\\Python\\Python310\\python.exe' requires the ipykernel package.\n",
            "\u001b[1;31mRun the following command to install 'ipykernel' into the Python environment. \n",
            "\u001b[1;31mCommand: 'c:/Users/alexa/AppData/Local/Programs/Python/Python310/python.exe -m pip install ipykernel -U --user --force-reinstall'"
          ]
        }
      ],
      "source": [
        "\n",
        "def selecao_ordem(Usina):\n",
        "    \"\"\"\n",
        "    Função que retorna a melhor ordem e a matriz de residuos do modelo auto regressivo para cada mês de um conjunto de dados de vazões.\n",
        "    \"\"\"\n",
        "\n",
        "    # Cria os vetores que vão armazenar os resultados\n",
        "    melhor_sol = []\n",
        "    melhor_num_meses = []\n",
        "    matriz_residuos = []\n",
        "    phi = []\n",
        "\n",
        "    # Loop externo de mês analisado\n",
        "    for i in range(0,12):\n",
        "\n",
        "        melhor_sol.append(float('inf'))\n",
        "        melhor_num_meses.append(0)\n",
        "        matriz_residuos.append(0)\n",
        "        phi.append(0)\n",
        "\n",
        "        # Loop interno de meses anteriores avaliados\n",
        "        for j in range(1,12):\n",
        "\n",
        "            # Roda o modelo auto regressivo\n",
        "            resposta = modelo_autoregressivo(Usina, 1, j, i)\n",
        "\n",
        "            # Verifica se o resultado é melhor que o anterior\n",
        "            if resposta[0] < melhor_sol[i]:\n",
        "                melhor_sol[i] = resposta[0]\n",
        "                melhor_num_meses[i] = j\n",
        "                matriz_residuos[i] = resposta[2][j:]\n",
        "                phi[i] = resposta[2][:j]\n",
        "\n",
        "    return melhor_num_meses,matriz_residuos,phi\n"
      ]
    },
    {
      "cell_type": "code",
      "execution_count": null,
      "metadata": {},
      "outputs": [
        {
          "ename": "",
          "evalue": "",
          "output_type": "error",
          "traceback": [
            "\u001b[1;31mRunning cells with 'c:\\Users\\alexa\\AppData\\Local\\Programs\\Python\\Python310\\python.exe' requires the ipykernel package.\n",
            "\u001b[1;31mRun the following command to install 'ipykernel' into the Python environment. \n",
            "\u001b[1;31mCommand: 'c:/Users/alexa/AppData/Local/Programs/Python/Python310/python.exe -m pip install ipykernel -U --user --force-reinstall'"
          ]
        }
      ],
      "source": [
        "import random\n",
        "\n",
        "\n",
        "def gerar_serie(Usina, AnoAnalisado, mes_atual, num_series, num_anos, melhor_num_meses, matriz_residuos, phi, serie_aleatoria=False,plot_real=False,plot_exp=False):\n",
        "    \"\"\"\n",
        "    Função que gera séried sintéticad de vazões a partir de um conjunto de dados de vazões.\n",
        "    \"\"\"\n",
        "\n",
        "    ano = []\n",
        "\n",
        "    # Loop esterno de anos\n",
        "    for l in range(0,num_anos):\n",
        "        ano.append(0)\n",
        "        serie = []\n",
        "\n",
        "        # O primeiro é gerado a partir de dados de entrada, logo é diferente dos demais\n",
        "        if l == 0:\n",
        "            \n",
        "            # Loop interno de séries\n",
        "            for i in range(0,num_series):\n",
        "                serie.append([])\n",
        "                \n",
        "                # Se for definido como aleatório, utiliza uma série aleatória como dado de entrada\n",
        "                if serie_aleatoria:\n",
        "                    if mes_atual == 0:\n",
        "                        vazao = random.choice(Usina['vazoes'])\n",
        "                    else:\n",
        "                        vazao = []\n",
        "                        vazao.append(random.choice(Usina['vazoes']))\n",
        "                        vazao.append(random.choice(Usina['vazoes']))\n",
        "\n",
        "                # Se não, utiliza a série de entrada\n",
        "                else:\n",
        "                    if mes_atual == 0:\n",
        "                        vazao = Usina['vazoes'][AnoAnalisado].copy()\n",
        "                    else:\n",
        "                        vazao = []\n",
        "                        vazao.append(Usina['vazoes'][AnoAnalisado].copy())\n",
        "                        vazao.append(Usina['vazoes'][AnoAnalisado-1].copy())\n",
        "\n",
        "                for j in range(0,12):\n",
        "                    serie[i].append(0)\n",
        "\n",
        "                # Loop interno de meses\n",
        "                for j in range(mes_atual,12):\n",
        "                    \n",
        "                    Z = 0\n",
        "\n",
        "                    # Se o número de phis for maior que o mês atual analisado, neste caso utiliza a vazão do ano atual e do anterior\n",
        "                    if j - melhor_num_meses[j] < 0:\n",
        "                        \n",
        "                        # Caso a série comece em janeiro\n",
        "                        if mes_atual == 0:\n",
        "\n",
        "                            # Soma a vazão do mês atual o respectivo phi vezes a vazão do ano anterior\n",
        "                            for k, v in enumerate(vazao[j- melhor_num_meses[j]:]):\n",
        "                                Z += phi[j][melhor_num_meses[j]-j-k-1]*v\n",
        "\n",
        "                            # Soma a vazão do mês atual o respectivo phi vezes a vazão do ano atual\n",
        "                            for k, v in enumerate(serie[i][0:j]):\n",
        "                                Z += phi[j][melhor_num_meses[j]-k-1]*v\n",
        "\n",
        "                        # Caso a série não comece em janeiro\n",
        "                        else:\n",
        "\n",
        "                            # Soma a vazão do mês atual o respectivo phi vezes a vazão do ano anterior\n",
        "                            for k, v in enumerate(vazao[0][j- melhor_num_meses[j]:]):\n",
        "                                Z += phi[j][melhor_num_meses[j]-j-k-1]*v\n",
        "\n",
        "                            # Soma a vazão do mês atual o respectivo phi vezes a vazão do ano atual\n",
        "                            for k, v in enumerate(vazao[-1][0:j]):\n",
        "                                Z += phi[j][melhor_num_meses[j]-k-1]*v\n",
        "\n",
        "\n",
        "                    # Se o número de phis for menor ou igual que o mês atual analisado, neste caso só utiliza a vazão do ano atual\n",
        "                    else:\n",
        "\n",
        "                        # Caso a série comece em janeiro\n",
        "                        if mes_atual == 0:\n",
        "\n",
        "                            # Soma a vazão do mês atual o respectivo phi vezes a vazão\n",
        "                            for k, v in enumerate(serie[i][(j-melhor_num_meses[j]):j]):\n",
        "                                Z += phi[j][melhor_num_meses[j]-k-1]*v\n",
        "\n",
        "                        # Caso a série não comece em janeiro\n",
        "                        else:\n",
        "\n",
        "                            # Soma a vazão do mês atual o respectivo phi vezes a vazão\n",
        "                            for k, v in enumerate(vazao[-1][(j-melhor_num_meses[j]):]):\n",
        "                                Z += phi[j][melhor_num_meses[j]-k-1]*v\n",
        "\n",
        "                    # Soma o resíduo à vazão sintética gerada\n",
        "                    Z += random.choice(matriz_residuos[j])\n",
        "\n",
        "                    # Atribui a vazão sintética gerada à série\n",
        "                    serie[i][j] = Z\n",
        "\n",
        "                    # Caso a série não comece em janeiro define o historico da série como a vazão de entrada\n",
        "                    if mes_atual != 0:\n",
        "                        for h in range(len(serie[i])):\n",
        "                            if serie[i][h] == 0:\n",
        "                                serie[i][h] = vazao[-1][h]\n",
        "\n",
        "            # Atribui a série gerada ao ano\n",
        "            ano[l] = serie.copy()\n",
        "\n",
        "        # Para os demais anos\n",
        "        else:\n",
        "\n",
        "            # Loop interno de séries\n",
        "            for i in range(0,num_series):\n",
        "\n",
        "                serie.append([])\n",
        "\n",
        "                # Loop interno de meses\n",
        "                for j in range(0,12):\n",
        "\n",
        "                    serie[i].append(0)\n",
        "\n",
        "                    # A vazão de dados de entrada é a série gerada no ano anterior\n",
        "                    vazao = ano[l-1][i].copy()\n",
        "\n",
        "                    Z = 0\n",
        "\n",
        "                    # Se o número de phis for maior que o mês atual analisado, neste caso utiliza a vazão do ano atual e do anterior\n",
        "                    if j - melhor_num_meses[j] < 0:\n",
        "\n",
        "                        for k, v in enumerate(vazao[j- melhor_num_meses[j]:]):\n",
        "                            Z += phi[j][melhor_num_meses[j]-j-k-1]*v\n",
        "\n",
        "                        for k, v in enumerate(serie[i][0:j]):\n",
        "                            Z += phi[j][melhor_num_meses[j]-k-1]*v\n",
        "\n",
        "                    # Se o número de phis for menor ou igual que o mês atual analisado, neste caso só utiliza a vazão do ano atual\n",
        "                    else:\n",
        "                        for k, v in enumerate(serie[i][(j-melhor_num_meses[j]):j]):\n",
        "                            Z += phi[j][melhor_num_meses[j]-k-1]*v\n",
        "\n",
        "                    # Soma o resíduo à vazão sintética gerada\n",
        "                    Z += random.choice(matriz_residuos[j])\n",
        "\n",
        "                    # Atribui a vazão sintética gerada à série\n",
        "                    serie[i][j] = Z\n",
        "\n",
        "            # Atribui a série gerada ao ano\n",
        "            ano[l] = serie.copy()\n",
        "\n",
        "\n",
        "    # Calcula o desvio padrão das séries sintética gerada\n",
        "    dado_desvio_padrao = []\n",
        "    \n",
        "    desvio_padrao = []\n",
        "    \n",
        "    for j in range(0,12):\n",
        "        dado_desvio_padrao.append([])\n",
        "        \n",
        "        desvio_padrao.append(0)\n",
        "        for l in range(0,num_anos):\n",
        "            for i in range(0,num_series):\n",
        "\n",
        "                dado_desvio_padrao[j].append(ano[l][i][j])\n",
        "                \n",
        "    \n",
        "            # dado_desvio_padrao_exp.append([])\n",
        "            # dado_desvio_padrao_exp[l].append(0)\n",
        "            # desvio_padrao_exp[l][j] = np.std(dado_desvio_padrao_exp[l][j])\n",
        "        desvio_padrao[j] = np.std(dado_desvio_padrao[j])\n",
        "\n",
        "\n",
        "    dado_desvio_padrao_exp = []\n",
        "    desvio_padrao_exp = []\n",
        "    for l in range(0,num_anos):\n",
        "        dado_desvio_padrao_exp.append([])\n",
        "        desvio_padrao_exp.append([])\n",
        "        for j in range(0,12):\n",
        "            desvio_padrao_exp[l].append([])\n",
        "            dado_desvio_padrao_exp[l].append([])\n",
        "            for i in range(0,num_series):\n",
        "                dado_desvio_padrao_exp[l][j].append(ano[l][i][j])\n",
        "        \n",
        "            desvio_padrao_exp[l][j] = np.std(dado_desvio_padrao_exp[l][j])\n",
        "\n",
        "    desvio_padrao_e = []\n",
        "    for l in range(0,num_anos):\n",
        "        desvio_padrao_e.extend(desvio_padrao_exp[l])\n",
        "\n",
        "\n",
        "    # Calcula o desvio padrão das vazões reais\n",
        "    desvio_padrao_real = np.std(Usina['vazoes'],axis=0)\n",
        "\n",
        "\n",
        "    # Calcula a média das séries sintéticas geradas\n",
        "    media_sintetica_exp = []\n",
        "    for l in range(0,num_anos):\n",
        "        media_sintetica_exp.append(0)\n",
        "        media_sintetica_exp[l] = np.mean(ano[l],axis=0)\n",
        "\n",
        "    media_sintetica = np.mean(media_sintetica_exp,axis=0)\n",
        "\n",
        "    if plot_exp:\n",
        "\n",
        "        media_sintetica_e = []\n",
        "        for l in range(0,num_anos):\n",
        "            media_sintetica_e.extend(media_sintetica_exp[l])\n",
        "\n",
        "\n",
        "\n",
        "    # Pega a média das vazões reais\n",
        "    media_real = np.array(retorna_media(Usina))\n",
        "\n",
        "    desvio_padrao_real_e = []\n",
        "    media_real_e = []\n",
        "    for l in range(0,num_anos):\n",
        "        media_real_e.extend(retorna_media(Usina))\n",
        "        desvio_padrao_real_e.extend(np.std(Usina['vazoes'],axis=0))\n",
        "\n",
        "    \n",
        "    desvio_padrao = np.array(desvio_padrao)\n",
        "    \n",
        "    ################ Plots ################\n",
        "\n",
        "    # Plot das médias das séries sintéticas geradas e das vazões reais\n",
        "    fig = plt.figure()\n",
        "    plt.title(\"Vazão Sintética\")\n",
        "    plt.xlabel(\"Meses\")\n",
        "    plt.ylabel(\"Vazão (m³/s)\")\n",
        "    if plot_exp:\n",
        "        fig.set_size_inches(16, 8)\n",
        "        plt.plot(list(range(1,(12*num_anos)+1)),media_sintetica_e,marker=\"o\",color=\"blue\",label=\"Média Vazão Sintética\")\n",
        "        plt.plot(list(range(1,(12*num_anos)+1)),np.array(media_sintetica_e)+np.array(desvio_padrao_e),color=\"blue\",linestyle='dashed', label=\"Desvio Padrão Série Sintética\")\n",
        "        plt.plot(list(range(1,(12*num_anos)+1)),np.array(media_sintetica_e)-np.array(desvio_padrao_e),color=\"blue\",linestyle='dashed')\n",
        "        if plot_real:\n",
        "            plt.title(\"Média Vazão Sintética x Média Vazão Real\")\n",
        "            plt.plot(list(range(1,(12*num_anos)+1)),media_real_e,marker=\"x\",color=\"red\",label=\"Média Vazão Real\")\n",
        "            plt.plot(list(range(1,(12*num_anos)+1)),np.array(media_real_e)+np.array(desvio_padrao_real_e),color=\"red\",linestyle='dashed', label=\"Desvio Padrão Real\")\n",
        "            plt.plot(list(range(1,(12*num_anos)+1)),np.array(media_real_e)-np.array(desvio_padrao_real_e),color=\"red\",linestyle='dashed')\n",
        "    else:\n",
        "        plt.plot(list(range(1,13)),media_sintetica,marker=\"o\",color=\"blue\",label=\"Média Vazão Sintética\")\n",
        "        plt.plot(list(range(1,13)),media_sintetica+desvio_padrao,color=\"blue\",linestyle='dashed', label=\"Desvio Padrão Série Sintética\")\n",
        "        plt.plot(list(range(1,13)),media_sintetica-desvio_padrao,color=\"blue\",linestyle='dashed')\n",
        "    if plot_real:\n",
        "        plt.title(\"Média Vazão Sintética x Média Vazão Real\")\n",
        "        plt.plot(list(range(1,13)),media_real,marker=\"x\",color=\"red\",label=\"Média Vazão Real\")\n",
        "        plt.plot(list(range(1,13)),media_real+desvio_padrao_real,color=\"red\",linestyle='dashed', label=\"Desvio Padrão Real\")\n",
        "        plt.plot(list(range(1,13)),media_real-desvio_padrao_real,color=\"red\",linestyle='dashed')\n",
        "    plt.legend()\n",
        "\n",
        "    \n",
        "    # Plot das séries sintéticas geradas\n",
        "    plt.figure()\n",
        "    plt.title(\"Vazões Sintética Geradas\")\n",
        "    plt.xlabel(\"Meses\")\n",
        "    plt.ylabel(\"Vazão (m³/s)\")\n",
        "    for l in range(0,num_anos):\n",
        "        for i in range(0,num_series):\n",
        "            plt.plot(list(range(1,13)),ano[l][i])\n",
        "\n",
        "    plt.plot(list(range(1,13)),media_sintetica,color=\"purple\",linewidth=5,marker=\"x\",label=\"Média Vazão Sintética\")\n",
        "    if plot_real:\n",
        "        plt.plot(list(range(1,13)),retorna_media(Usina),linewidth=5,marker=\"o\",color=\"black\",label=\"Média Vazão Real\")\n",
        "    plt.legend()"
      ]
    },
    {
      "cell_type": "code",
      "execution_count": null,
      "metadata": {},
      "outputs": [
        {
          "ename": "",
          "evalue": "",
          "output_type": "error",
          "traceback": [
            "\u001b[1;31mRunning cells with 'c:\\Users\\alexa\\AppData\\Local\\Programs\\Python\\Python310\\python.exe' requires the ipykernel package.\n",
            "\u001b[1;31mRun the following command to install 'ipykernel' into the Python environment. \n",
            "\u001b[1;31mCommand: 'c:/Users/alexa/AppData/Local/Programs/Python/Python310/python.exe -m pip install ipykernel -U --user --force-reinstall'"
          ]
        }
      ],
      "source": [
        "# Escolha da usina do estudo\n",
        "Usina = PMOSET2023.confhd.get('Sto Antonio')"
      ]
    },
    {
      "cell_type": "code",
      "execution_count": null,
      "metadata": {},
      "outputs": [
        {
          "ename": "",
          "evalue": "",
          "output_type": "error",
          "traceback": [
            "\u001b[1;31mRunning cells with 'c:\\Users\\alexa\\AppData\\Local\\Programs\\Python\\Python310\\python.exe' requires the ipykernel package.\n",
            "\u001b[1;31mRun the following command to install 'ipykernel' into the Python environment. \n",
            "\u001b[1;31mCommand: 'c:/Users/alexa/AppData/Local/Programs/Python/Python310/python.exe -m pip install ipykernel -U --user --force-reinstall'"
          ]
        }
      ],
      "source": [
        "# Monta a matriz de residuos e o phi ótimo para cada mês\n",
        "melhor_num_meses, matriz_residuos, phi = selecao_ordem(Usina)"
      ]
    },
    {
      "cell_type": "markdown",
      "metadata": {},
      "source": [
        "## Resultados"
      ]
    },
    {
      "cell_type": "markdown",
      "metadata": {},
      "source": [
        "### Caso 1\n",
        "\n",
        "Está sendo gerado séries sintéticas um ano a frente começando em janeiro, com 200 séries geradas.\n",
        "\n",
        "Neste caso está sendo utilizado anos aleatórios como dados de entrada para cada série gerada."
      ]
    },
    {
      "cell_type": "code",
      "execution_count": null,
      "metadata": {},
      "outputs": [
        {
          "ename": "",
          "evalue": "",
          "output_type": "error",
          "traceback": [
            "\u001b[1;31mRunning cells with 'c:\\Users\\alexa\\AppData\\Local\\Programs\\Python\\Python310\\python.exe' requires the ipykernel package.\n",
            "\u001b[1;31mRun the following command to install 'ipykernel' into the Python environment. \n",
            "\u001b[1;31mCommand: 'c:/Users/alexa/AppData/Local/Programs/Python/Python310/python.exe -m pip install ipykernel -U --user --force-reinstall'"
          ]
        }
      ],
      "source": [
        "# Número de anos a serem gerados\n",
        "num_anos = 1\n",
        "\n",
        "# Número de séries a serem geradas\n",
        "num_series = 200\n",
        "\n",
        "# Mês de início da série\n",
        "mes_atual = 0\n",
        "\n",
        "# Chama a função para gerar a série sintética\n",
        "gerar_serie(Usina, AnoAnalisado, mes_atual, num_series, num_anos, melhor_num_meses, matriz_residuos, phi, serie_aleatoria=True,plot_real=True,plot_exp=False)\n",
        "\n",
        "# Plota os dados históricos a fim de compará-los com a série sintética\n",
        "plt.figure()\n",
        "PMOSET2023.confhd.plot_vaz(Usina)"
      ]
    },
    {
      "cell_type": "markdown",
      "metadata": {},
      "source": [
        "### Caso 2\n",
        "\n",
        "Está sendo gerado séries sintéticas cinco anos a frente começando em janeiro, com 2000 séries geradas.\n",
        "\n",
        "Neste caso está sendo utilizado anos aleatórios como dados de entrada para cada série gerada."
      ]
    },
    {
      "cell_type": "code",
      "execution_count": null,
      "metadata": {},
      "outputs": [
        {
          "ename": "",
          "evalue": "",
          "output_type": "error",
          "traceback": [
            "\u001b[1;31mRunning cells with 'c:\\Users\\alexa\\AppData\\Local\\Programs\\Python\\Python310\\python.exe' requires the ipykernel package.\n",
            "\u001b[1;31mRun the following command to install 'ipykernel' into the Python environment. \n",
            "\u001b[1;31mCommand: 'c:/Users/alexa/AppData/Local/Programs/Python/Python310/python.exe -m pip install ipykernel -U --user --force-reinstall'"
          ]
        }
      ],
      "source": [
        "# Número de anos a serem gerados\n",
        "num_anos = 5\n",
        "\n",
        "# Número de séries a serem geradas\n",
        "num_series = 2000\n",
        "\n",
        "# Mês de início da série\n",
        "mes_atual = 0\n",
        "\n",
        "# Chama a função para gerar a série sintética\n",
        "gerar_serie(Usina, AnoAnalisado, mes_atual, num_series, num_anos, melhor_num_meses, matriz_residuos, phi, serie_aleatoria=True,plot_real=True,plot_exp=True)\n",
        "\n",
        "# Plota os dados históricos a fim de compará-los com a série sintética\n",
        "plt.figure()\n",
        "PMOSET2023.confhd.plot_vaz(Usina)"
      ]
    },
    {
      "cell_type": "markdown",
      "metadata": {},
      "source": [
        "### Caso 3\n",
        "\n",
        "Está sendo gerado séries sintéticas cinco anos a frente começando em agosto, com 2000 séries geradas.\n",
        "\n",
        "Neste caso está sendo utilizado o ano de 2023 como dado de entrada para cada série gerada."
      ]
    },
    {
      "cell_type": "code",
      "execution_count": null,
      "metadata": {},
      "outputs": [
        {
          "ename": "",
          "evalue": "",
          "output_type": "error",
          "traceback": [
            "\u001b[1;31mRunning cells with 'c:\\Users\\alexa\\AppData\\Local\\Programs\\Python\\Python310\\python.exe' requires the ipykernel package.\n",
            "\u001b[1;31mRun the following command to install 'ipykernel' into the Python environment. \n",
            "\u001b[1;31mCommand: 'c:/Users/alexa/AppData/Local/Programs/Python/Python310/python.exe -m pip install ipykernel -U --user --force-reinstall'"
          ]
        }
      ],
      "source": [
        "# Ano a ser analisado\n",
        "AnoAnalisado = 2023\n",
        "\n",
        "AnoAnalisado = AnoAnalisado - 1931\n",
        "\n",
        "# Número de anos a serem gerados\n",
        "num_anos = 5\n",
        "\n",
        "# Número de séries a serem geradas\n",
        "num_series = 2000\n",
        "\n",
        "# Mês de início da série\n",
        "mes_atual = 7\n",
        "\n",
        "# Chama a função para gerar a série sintética\n",
        "gerar_serie(Usina, AnoAnalisado, mes_atual, num_series, num_anos, melhor_num_meses, matriz_residuos, phi, serie_aleatoria=False,plot_real=True,plot_exp=True)"
      ]
    }
  ],
  "metadata": {
    "colab": {
      "include_colab_link": true,
      "provenance": []
    },
    "kernelspec": {
      "display_name": "Python 3",
      "name": "python3"
    },
    "language_info": {
      "codemirror_mode": {
        "name": "ipython",
        "version": 3
      },
      "file_extension": ".py",
      "mimetype": "text/x-python",
      "name": "python",
      "nbconvert_exporter": "python",
      "pygments_lexer": "ipython3",
      "version": "3.10.9"
    }
  },
  "nbformat": 4,
  "nbformat_minor": 0
}

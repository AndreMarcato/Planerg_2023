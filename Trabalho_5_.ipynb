{
  "nbformat": 4,
  "nbformat_minor": 0,
  "metadata": {
    "colab": {
      "provenance": []
    },
    "kernelspec": {
      "name": "python3",
      "display_name": "Python 3"
    },
    "language_info": {
      "name": "python"
    }
  },
  "cells": [
    {
      "cell_type": "markdown",
      "source": [
        "# Trabalho 5\n",
        "# Planejamento de Sistemas Elétricos - PPEE - UFJF\n",
        "## Adriana Mendonça"
      ],
      "metadata": {
        "id": "VCIHX51edA3Q"
      }
    },
    {
      "cell_type": "markdown",
      "source": [
        "Importação das bibliotecas necessárias"
      ],
      "metadata": {
        "id": "ATwgXHvDYXzX"
      }
    },
    {
      "cell_type": "code",
      "source": [
        "from cvxopt import matrix, solvers\n",
        "import cvxopt\n",
        "import numpy as np\n",
        "import statistics\n",
        "import math\n",
        "from scipy import stats"
      ],
      "metadata": {
        "id": "RDl0lEySfMn8"
      },
      "execution_count": 23,
      "outputs": []
    },
    {
      "cell_type": "code",
      "execution_count": 24,
      "metadata": {
        "id": "OHtnaSMWBu7g",
        "outputId": "f0a896dd-d051-41db-c225-907e565406f5",
        "colab": {
          "base_uri": "https://localhost:8080/"
        }
      },
      "outputs": [
        {
          "output_type": "stream",
          "name": "stdout",
          "text": [
            "Requirement already satisfied: PySDDP in /usr/local/lib/python3.10/dist-packages (0.0.39)\n",
            "Requirement already satisfied: numpy in /usr/local/lib/python3.10/dist-packages (from PySDDP) (1.23.5)\n",
            "Requirement already satisfied: matplotlib in /usr/local/lib/python3.10/dist-packages (from PySDDP) (3.7.1)\n",
            "Requirement already satisfied: cvxopt in /usr/local/lib/python3.10/dist-packages (from PySDDP) (1.3.2)\n",
            "Requirement already satisfied: pyswarm in /usr/local/lib/python3.10/dist-packages (from PySDDP) (0.6)\n",
            "Requirement already satisfied: scipy in /usr/local/lib/python3.10/dist-packages (from PySDDP) (1.10.1)\n",
            "Requirement already satisfied: typing in /usr/local/lib/python3.10/dist-packages (from PySDDP) (3.7.4.3)\n",
            "Requirement already satisfied: pandas in /usr/local/lib/python3.10/dist-packages (from PySDDP) (1.5.3)\n",
            "Requirement already satisfied: contourpy>=1.0.1 in /usr/local/lib/python3.10/dist-packages (from matplotlib->PySDDP) (1.1.0)\n",
            "Requirement already satisfied: cycler>=0.10 in /usr/local/lib/python3.10/dist-packages (from matplotlib->PySDDP) (0.11.0)\n",
            "Requirement already satisfied: fonttools>=4.22.0 in /usr/local/lib/python3.10/dist-packages (from matplotlib->PySDDP) (4.42.0)\n",
            "Requirement already satisfied: kiwisolver>=1.0.1 in /usr/local/lib/python3.10/dist-packages (from matplotlib->PySDDP) (1.4.4)\n",
            "Requirement already satisfied: packaging>=20.0 in /usr/local/lib/python3.10/dist-packages (from matplotlib->PySDDP) (23.1)\n",
            "Requirement already satisfied: pillow>=6.2.0 in /usr/local/lib/python3.10/dist-packages (from matplotlib->PySDDP) (9.4.0)\n",
            "Requirement already satisfied: pyparsing>=2.3.1 in /usr/local/lib/python3.10/dist-packages (from matplotlib->PySDDP) (3.1.1)\n",
            "Requirement already satisfied: python-dateutil>=2.7 in /usr/local/lib/python3.10/dist-packages (from matplotlib->PySDDP) (2.8.2)\n",
            "Requirement already satisfied: pytz>=2020.1 in /usr/local/lib/python3.10/dist-packages (from pandas->PySDDP) (2023.3)\n",
            "Requirement already satisfied: six>=1.5 in /usr/local/lib/python3.10/dist-packages (from python-dateutil>=2.7->matplotlib->PySDDP) (1.16.0)\n"
          ]
        }
      ],
      "source": [
        "!pip install PySDDP"
      ]
    },
    {
      "cell_type": "code",
      "source": [
        "from google.colab import drive, files\n",
        "import os\n",
        "\n",
        "#Montar o Google Drive no Colab com o nome gdrive\n",
        "\n",
        "drive.mount('/content/gdrive')\n",
        "\n",
        "# O comando abaixo mostra qual diretório você está trabalhando momento.\n",
        "print( os.getcwd() )\n",
        "\n",
        "Caminho_do_Arquivo = 'gdrive/My Drive/NewaveJuly2023/'\n",
        "print( os.listdir(Caminho_do_Arquivo) )"
      ],
      "metadata": {
        "id": "iiQTZmc1C6RB",
        "colab": {
          "base_uri": "https://localhost:8080/"
        },
        "outputId": "12ea5e37-f194-4b8e-d329-cd09f87037ad"
      },
      "execution_count": 25,
      "outputs": [
        {
          "output_type": "stream",
          "name": "stdout",
          "text": [
            "Drive already mounted at /content/gdrive; to attempt to forcibly remount, call drive.mount(\"/content/gdrive\", force_remount=True).\n",
            "/content\n",
            "['FORMAT.TMP', 'ELNINO.DAT', 'PENALID.DAT', 'GHMIN.DAT', 'NewaveMsgPortug.txt', 'ITAIPU.DAT', 'MENSAG.TMP', 'CLAST.DAT', 'ADTERM.DAT', 'GTMINPAT.DAT', 'CVAR.DAT', 'LOSS.DAT', 'ARQUIVOS.DAT', 'AGRINT.DAT', 'ENSOAUX.DAT', 'CDEFVAR.DAT', 'EXPH.DAT', 'C_ADIC.DAT', 'CASO.DAT', 'MANUTT.DAT', 'CONFT.DAT', 'CURVA.DAT', 'MODIF.DAT', 'DSVAGUA.DAT', 'BID.DAT', 'CONFHD.DAT', 'HIDR.DAT', 'EXPT.DAT', 'SISTEMA.DAT', 'TERM.DAT', 'SHIST.DAT', 'VAZPAST.DAT', 'PATAMAR.DAT', 'GTMIN_CCEE_072023.xlsx', 'VAZOES.DAT', 'REE.DAT', 'selcor.dat', 'RE.DAT', 'POSTOS.DAT', 'DGER.DAT', 'tecno.dat']\n"
          ]
        }
      ]
    },
    {
      "cell_type": "code",
      "source": [
        "from PySDDP.Pen import Newave\n",
        "\n",
        "PMOSET2023 = Newave(Caminho_do_Arquivo)"
      ],
      "metadata": {
        "id": "tvtYb869FNN2",
        "colab": {
          "base_uri": "https://localhost:8080/"
        },
        "outputId": "99e79989-84bc-4338-9253-ffa598d5b623"
      },
      "execution_count": 26,
      "outputs": [
        {
          "output_type": "stream",
          "name": "stdout",
          "text": [
            "OK! Leitura do CASO.DAT realizada com sucesso.\n",
            "OK! Leitura do ARQUIVOS.DAT realizada com sucesso.\n",
            "OK! Leitura do DGER.DAT realizada com sucesso.\n",
            "OK! Leitura do HIDR.DAT realizada com sucesso.\n",
            "OK! Leitura do VAZOES.DAT realizada com sucesso.\n",
            "OK! Leitura do MODIF.DAT realizada com sucesso. ( 99 Usinas Hidraulicas Modificadas )\n",
            "OK! Leitura do EXPH.DAT realizada com sucesso. ( 2 Usinas Hidraulicas Expandidas )\n",
            "OK! Leitura do CONFHD.DAT realizada com sucesso.\n",
            "OK! Leitura do REE.DAT realizada com sucesso. ( 12 Reservatórios Equivalentes de Energia Foram Lidos )\n",
            "OK! Leitura do SISTEMA.DAT realizada com sucesso.\n"
          ]
        }
      ]
    },
    {
      "cell_type": "markdown",
      "source": [
        "Definir os dados de entrada para a otimização dos coeficientes ótimos do modelo autoregressivo."
      ],
      "metadata": {
        "id": "Fk5oTbrvYfa3"
      }
    },
    {
      "cell_type": "code",
      "source": [
        "# Dados de entrada\n",
        "mes_alvo = 8\n",
        "ano_inicial_analise = 1931\n",
        "ano_alvo = 1950\n",
        "ordem_modelo = 3\n",
        "usina_alvo = 'furnas'\n",
        "\n",
        "ano_inicial = ano_inicial_analise - 1931\n",
        "anos_analise = ano_alvo-1931+1\n",
        "Usina = PMOSET2023.confhd.get(usina_alvo)\n",
        "#print('Usina', Usina['nome'])"
      ],
      "metadata": {
        "id": "Ky5MymuggShq"
      },
      "execution_count": 35,
      "outputs": []
    },
    {
      "cell_type": "markdown",
      "source": [
        "**Função Objetivo (FOB)**\n",
        "\n",
        "$\t\tMin \\sum_{i=1}^{n\\_anos}  \\left( Ε_{mês\\_analisado,i} \\right)^2 $\n",
        "\n",
        "**sujeito a:**\n",
        "\n",
        "$\n",
        "\\sum_{i=1931}^{n\\_anos} \\left( \\sum_{j=mês\\_analisado -1}^{mês\\_analisado -n\\_meses} \\left(  Φ_{var} \\cdot Z_{j}^{i} \\right)  =  Z_{mês\\_analisado}^{i} \\right)\n",
        "$\n",
        "\n",
        "Sendo assim,\n",
        "a dimensão das matrizes para a solução é determinada da seguinte forma:\n",
        "\n",
        "P = [ N_anos + Ordem_meses X N_anos + Ordem_meses ]\n",
        "\n",
        "q = [ 1 X N_anos + Ordem_meses ]\n",
        "\n",
        "A = [ N_anos X N_ano + Ordem_meses ]\n",
        "\n",
        "B = [ N_anos X 1 ]\n",
        "\n",
        "Aeq = [ N_anos X N_anos + Ordem_meses ]\n",
        "\n",
        "Beq = [ N_anos X 1 ]"
      ],
      "metadata": {
        "id": "Cs0qykWlpt3h"
      }
    },
    {
      "cell_type": "code",
      "source": [
        "if mes_alvo - ordem_modelo >= 1:\n",
        "\n",
        "  recorte = Usina['vazoes'][ano_inicial:anos_analise,mes_alvo-ordem_modelo-1:mes_alvo-1]\n",
        "  identidade = np.eye(anos_analise)\n",
        "  Aeq = np.concatenate((recorte, identidade), axis = 1)\n",
        "  Aeq = matrix(Aeq, tc='d')\n",
        "\n",
        "else:\n",
        "\n",
        "  recorte2 = Usina['vazoes'][ano_inicial:anos_analise,0:mes_alvo-1]\n",
        "  recorte1 = Usina['vazoes'][ano_inicial:anos_analise,(11-(ordem_modelo-mes_alvo)):12]\n",
        "  recorte = np.concatenate((recorte1, recorte2), axis = 1)\n",
        "  identidade = np.eye(anos_analise)\n",
        "  Aeq = np.concatenate((recorte, identidade), axis = 1)\n",
        "  Aeq = matrix(Aeq, tc='d')\n",
        "\n",
        "\n",
        "Beq = np.array(Usina['vazoes'][ano_inicial:anos_analise,mes_alvo-1:mes_alvo])\n",
        "Beq = matrix(Beq, tc='d')\n",
        "\n",
        "q = np.zeros((1,anos_analise+ordem_modelo))\n",
        "q = matrix(q, tc='d')\n",
        "P = 2*np.eye(anos_analise+ordem_modelo)\n",
        "for num1 in range(ordem_modelo):\n",
        "  P[num1][num1] = 0\n",
        "P = matrix(P, tc='d')\n",
        "\n",
        "A = np.zeros((anos_analise,anos_analise+ordem_modelo))\n",
        "B = np.zeros((anos_analise,1))\n",
        "A = matrix(A, tc='d')\n",
        "B = matrix(B, tc='d')\n",
        "\n",
        "solvers.options['show_progress'] = False\n",
        "abstol = 1e-9\n",
        "reltol = 1e-9\n",
        "sol = cvxopt.solvers.qp(P, q.T, A, B, Aeq, Beq, abstol=abstol, reltol=reltol)"
      ],
      "metadata": {
        "id": "gds33ICtih-a"
      },
      "execution_count": 36,
      "outputs": []
    },
    {
      "cell_type": "markdown",
      "source": [
        "Prints das soluções:"
      ],
      "metadata": {
        "id": "3DGbR146Y3fh"
      }
    },
    {
      "cell_type": "code",
      "source": [
        "mes = ['janeiro', 'fevereiro', 'março', 'abril', 'maio', 'junho', 'julho', 'agosto', 'setembro', 'outubro', 'novembro', 'dezembro']\n",
        "kk = 1 + ordem_modelo\n",
        "kk_2 = 0\n",
        "teste = ordem_modelo\n",
        "for num1 in range(ordem_modelo):\n",
        "  if mes_alvo - ordem_modelo >= 1:\n",
        "    print('Parâmetro referente ao mês', mes[mes_alvo-kk],': ', end=\"\")\n",
        "    print(np.round(sol['x'][num1],6))\n",
        "    kk = kk-1\n",
        "  else:\n",
        "    if mes_alvo - teste < 1:\n",
        "      print('Parâmetro referente ao mês', mes[11-np.abs(teste-mes_alvo)],': ', end=\"\")\n",
        "      print(np.round(sol['x'][num1],6))\n",
        "      #kk_2 = kk_2-1\n",
        "      teste = teste - 1\n",
        "    else:\n",
        "      print('Parâmetro referente ao mês', mes[kk_2],': ', end=\"\")\n",
        "      print(np.round(sol['x'][num1],6))\n",
        "      kk_2 = kk_2+1\n"
      ],
      "metadata": {
        "colab": {
          "base_uri": "https://localhost:8080/"
        },
        "id": "KHJVP5TF6gP7",
        "outputId": "d7ae32d8-c8b5-471c-8948-430d9388f92e"
      },
      "execution_count": 29,
      "outputs": [
        {
          "output_type": "stream",
          "name": "stdout",
          "text": [
            "Parâmetro referente ao mês maio : 0.009222\n",
            "Parâmetro referente ao mês junho : 0.170951\n",
            "Parâmetro referente ao mês julho : 0.60054\n"
          ]
        }
      ]
    },
    {
      "cell_type": "code",
      "source": [
        "kk = 0\n",
        "print('Erros quadráticos:')\n",
        "for num1 in range(anos_analise):\n",
        "  print('Erro de',mes[mes_alvo-1],'/',1931 + num1, ': ', end=\"\")\n",
        "  print(sol['x'][ordem_modelo+kk])\n",
        "  kk = kk+1"
      ],
      "metadata": {
        "colab": {
          "base_uri": "https://localhost:8080/"
        },
        "id": "vwXZGllYUhWb",
        "outputId": "bc0dfea8-a7cc-4d0a-9681-59fac244bd12"
      },
      "execution_count": 30,
      "outputs": [
        {
          "output_type": "stream",
          "name": "stdout",
          "text": [
            "Erros quadráticos:\n",
            "Erro de agosto / 1931 : -41.28847952559505\n",
            "Erro de agosto / 1932 : -5.302798567634671\n",
            "Erro de agosto / 1933 : 62.49691941232288\n",
            "Erro de agosto / 1934 : 9.617028294393407\n",
            "Erro de agosto / 1935 : 11.697187437218007\n",
            "Erro de agosto / 1936 : 52.49538137542582\n",
            "Erro de agosto / 1937 : -23.54532582256378\n",
            "Erro de agosto / 1938 : 59.191307254114\n",
            "Erro de agosto / 1939 : 5.664037232737592\n",
            "Erro de agosto / 1940 : -16.571631950028525\n",
            "Erro de agosto / 1941 : -22.826557957236155\n",
            "Erro de agosto / 1942 : -24.8730508711555\n",
            "Erro de agosto / 1943 : 38.43687610222685\n",
            "Erro de agosto / 1944 : 3.252243639484161\n",
            "Erro de agosto / 1945 : -51.597278736388596\n",
            "Erro de agosto / 1946 : -13.253961210884995\n",
            "Erro de agosto / 1947 : -18.75749990672262\n",
            "Erro de agosto / 1948 : 9.453904370918114\n",
            "Erro de agosto / 1949 : -8.080858438127963\n",
            "Erro de agosto / 1950 : 20.650359018072884\n"
          ]
        }
      ]
    },
    {
      "cell_type": "code",
      "source": [
        "erro_modulo = np.abs(sol['x'][ordem_modelo:len(sol['x'])])\n",
        "media = np.mean(erro_modulo)\n",
        "print('Média dos erros: ', end=\"\")\n",
        "print(round(media,8))\n",
        "\n",
        "med = np.zeros((len(sol['x'][ordem_modelo:len(sol['x'])])))\n",
        "for num1 in range(len(sol['x'][ordem_modelo:len(sol['x'])])):\n",
        "  med[num1] = media\n"
      ],
      "metadata": {
        "colab": {
          "base_uri": "https://localhost:8080/"
        },
        "id": "vOEty25nasTM",
        "outputId": "d4c68972-f53a-4966-cfb5-5a5a83fa105e"
      },
      "execution_count": 31,
      "outputs": [
        {
          "output_type": "stream",
          "name": "stdout",
          "text": [
            "Média dos erros: 24.95263436\n"
          ]
        }
      ]
    },
    {
      "cell_type": "code",
      "source": [
        "import matplotlib.pyplot as plt\n",
        "plt.plot(med,'red')\n",
        "plt.plot(sol['x'][ordem_modelo:len(sol['x'])])\n",
        "plt.ylabel('Erro')\n",
        "plt.xlabel('Anos após 1931')\n",
        "plt.title('Erro dos anos analisados')\n",
        "plt.legend(['Media: '])\n",
        "plt.grid()"
      ],
      "metadata": {
        "colab": {
          "base_uri": "https://localhost:8080/",
          "height": 472
        },
        "id": "G9fmV7y9Z6-F",
        "outputId": "f7c4b7af-89f9-481b-c5bd-cfe4f17f4cd4"
      },
      "execution_count": 32,
      "outputs": [
        {
          "output_type": "display_data",
          "data": {
            "text/plain": [
              "<Figure size 640x480 with 1 Axes>"
            ],
            "image/png": "[encoded data removed]"
          },
          "metadata": {}
        }
      ]
    }
  ]
}